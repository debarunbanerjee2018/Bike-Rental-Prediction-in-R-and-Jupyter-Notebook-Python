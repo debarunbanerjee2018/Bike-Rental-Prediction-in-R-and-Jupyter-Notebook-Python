{
 "cells": [
  {
   "cell_type": "markdown",
   "metadata": {},
   "source": [
    "# Bike Rental Project"
   ]
  },
  {
   "cell_type": "code",
   "execution_count": 45,
   "metadata": {},
   "outputs": [
    {
     "data": {
      "text/html": [
       "<script type=\"text/javascript\">window.PlotlyConfig = {MathJaxConfig: 'local'};</script><script type=\"text/javascript\">if (window.MathJax) {MathJax.Hub.Config({SVG: {font: \"STIX-Web\"}});}</script><script>requirejs.config({paths: { 'plotly': ['https://cdn.plot.ly/plotly-latest.min']},});if(!window._Plotly) {require(['plotly'],function(plotly) {window._Plotly=plotly;});}</script>"
      ],
      "text/vnd.plotly.v1+html": [
       "<script type=\"text/javascript\">window.PlotlyConfig = {MathJaxConfig: 'local'};</script><script type=\"text/javascript\">if (window.MathJax) {MathJax.Hub.Config({SVG: {font: \"STIX-Web\"}});}</script><script>requirejs.config({paths: { 'plotly': ['https://cdn.plot.ly/plotly-latest.min']},});if(!window._Plotly) {require(['plotly'],function(plotly) {window._Plotly=plotly;});}</script>"
      ]
     },
     "metadata": {},
     "output_type": "display_data"
    }
   ],
   "source": [
    "# IMporting the pandas, numpy, matplotlib, seaborn packageds and modules\n",
    "import os\n",
    "import pandas as pd\n",
    "import numpy as np\n",
    "import matplotlib.pyplot as plt\n",
    "import seaborn as sns\n",
    "import statsmodels.api as sm\n",
    "from sklearn.model_selection import train_test_split\n",
    "from sklearn.tree import DecisionTreeRegressor\n",
    "from sklearn.metrics import mean_squared_log_error,mean_squared_error, r2_score,mean_absolute_error\n",
    "from sklearn.linear_model import LinearRegression\n",
    "from sklearn.ensemble import RandomForestRegressor\n",
    "from sklearn.metrics import confusion_matrix\n",
    "from sklearn.neighbors import KNeighborsRegressor\n",
    "from scipy.stats import chi2_contingency\n",
    "from sklearn.model_selection import cross_val_score\n",
    "from sklearn.model_selection import RandomizedSearchCV\n",
    "import plotly.figure_factory as ff\n",
    "import plotly.offline as py#visualization\n",
    "py.init_notebook_mode(connected=True)#visualization\n",
    "from sklearn.linear_model import LinearRegression\n",
    "from sklearn import linear_model\n",
    "from sklearn import preprocessing\n",
    "from statsmodels.stats.outliers_influence import variance_inflation_factor \n",
    "from xgboost.sklearn import XGBRegressor\n",
    "import xgboost as xgb"
   ]
  },
  {
   "cell_type": "markdown",
   "metadata": {},
   "source": [
    "#### Setting the Working Directory and checking the dataset"
   ]
  },
  {
   "cell_type": "code",
   "execution_count": 46,
   "metadata": {},
   "outputs": [
    {
     "data": {
      "text/html": [
       "<div>\n",
       "<style scoped>\n",
       "    .dataframe tbody tr th:only-of-type {\n",
       "        vertical-align: middle;\n",
       "    }\n",
       "\n",
       "    .dataframe tbody tr th {\n",
       "        vertical-align: top;\n",
       "    }\n",
       "\n",
       "    .dataframe thead th {\n",
       "        text-align: right;\n",
       "    }\n",
       "</style>\n",
       "<table border=\"1\" class=\"dataframe\">\n",
       "  <thead>\n",
       "    <tr style=\"text-align: right;\">\n",
       "      <th></th>\n",
       "      <th>instant</th>\n",
       "      <th>dteday</th>\n",
       "      <th>season</th>\n",
       "      <th>yr</th>\n",
       "      <th>mnth</th>\n",
       "      <th>holiday</th>\n",
       "      <th>weekday</th>\n",
       "      <th>workingday</th>\n",
       "      <th>weathersit</th>\n",
       "      <th>temp</th>\n",
       "      <th>atemp</th>\n",
       "      <th>hum</th>\n",
       "      <th>windspeed</th>\n",
       "      <th>casual</th>\n",
       "      <th>registered</th>\n",
       "      <th>cnt</th>\n",
       "    </tr>\n",
       "  </thead>\n",
       "  <tbody>\n",
       "    <tr>\n",
       "      <th>0</th>\n",
       "      <td>1</td>\n",
       "      <td>2011-01-01</td>\n",
       "      <td>1</td>\n",
       "      <td>0</td>\n",
       "      <td>1</td>\n",
       "      <td>0</td>\n",
       "      <td>6</td>\n",
       "      <td>0</td>\n",
       "      <td>2</td>\n",
       "      <td>0.344167</td>\n",
       "      <td>0.363625</td>\n",
       "      <td>0.805833</td>\n",
       "      <td>0.160446</td>\n",
       "      <td>331</td>\n",
       "      <td>654</td>\n",
       "      <td>985</td>\n",
       "    </tr>\n",
       "    <tr>\n",
       "      <th>1</th>\n",
       "      <td>2</td>\n",
       "      <td>2011-01-02</td>\n",
       "      <td>1</td>\n",
       "      <td>0</td>\n",
       "      <td>1</td>\n",
       "      <td>0</td>\n",
       "      <td>0</td>\n",
       "      <td>0</td>\n",
       "      <td>2</td>\n",
       "      <td>0.363478</td>\n",
       "      <td>0.353739</td>\n",
       "      <td>0.696087</td>\n",
       "      <td>0.248539</td>\n",
       "      <td>131</td>\n",
       "      <td>670</td>\n",
       "      <td>801</td>\n",
       "    </tr>\n",
       "    <tr>\n",
       "      <th>2</th>\n",
       "      <td>3</td>\n",
       "      <td>2011-01-03</td>\n",
       "      <td>1</td>\n",
       "      <td>0</td>\n",
       "      <td>1</td>\n",
       "      <td>0</td>\n",
       "      <td>1</td>\n",
       "      <td>1</td>\n",
       "      <td>1</td>\n",
       "      <td>0.196364</td>\n",
       "      <td>0.189405</td>\n",
       "      <td>0.437273</td>\n",
       "      <td>0.248309</td>\n",
       "      <td>120</td>\n",
       "      <td>1229</td>\n",
       "      <td>1349</td>\n",
       "    </tr>\n",
       "    <tr>\n",
       "      <th>3</th>\n",
       "      <td>4</td>\n",
       "      <td>2011-01-04</td>\n",
       "      <td>1</td>\n",
       "      <td>0</td>\n",
       "      <td>1</td>\n",
       "      <td>0</td>\n",
       "      <td>2</td>\n",
       "      <td>1</td>\n",
       "      <td>1</td>\n",
       "      <td>0.200000</td>\n",
       "      <td>0.212122</td>\n",
       "      <td>0.590435</td>\n",
       "      <td>0.160296</td>\n",
       "      <td>108</td>\n",
       "      <td>1454</td>\n",
       "      <td>1562</td>\n",
       "    </tr>\n",
       "    <tr>\n",
       "      <th>4</th>\n",
       "      <td>5</td>\n",
       "      <td>2011-01-05</td>\n",
       "      <td>1</td>\n",
       "      <td>0</td>\n",
       "      <td>1</td>\n",
       "      <td>0</td>\n",
       "      <td>3</td>\n",
       "      <td>1</td>\n",
       "      <td>1</td>\n",
       "      <td>0.226957</td>\n",
       "      <td>0.229270</td>\n",
       "      <td>0.436957</td>\n",
       "      <td>0.186900</td>\n",
       "      <td>82</td>\n",
       "      <td>1518</td>\n",
       "      <td>1600</td>\n",
       "    </tr>\n",
       "  </tbody>\n",
       "</table>\n",
       "</div>"
      ],
      "text/plain": [
       "   instant      dteday  season  yr  mnth  holiday  weekday  workingday  \\\n",
       "0        1  2011-01-01       1   0     1        0        6           0   \n",
       "1        2  2011-01-02       1   0     1        0        0           0   \n",
       "2        3  2011-01-03       1   0     1        0        1           1   \n",
       "3        4  2011-01-04       1   0     1        0        2           1   \n",
       "4        5  2011-01-05       1   0     1        0        3           1   \n",
       "\n",
       "   weathersit      temp     atemp       hum  windspeed  casual  registered  \\\n",
       "0           2  0.344167  0.363625  0.805833   0.160446     331         654   \n",
       "1           2  0.363478  0.353739  0.696087   0.248539     131         670   \n",
       "2           1  0.196364  0.189405  0.437273   0.248309     120        1229   \n",
       "3           1  0.200000  0.212122  0.590435   0.160296     108        1454   \n",
       "4           1  0.226957  0.229270  0.436957   0.186900      82        1518   \n",
       "\n",
       "    cnt  \n",
       "0   985  \n",
       "1   801  \n",
       "2  1349  \n",
       "3  1562  \n",
       "4  1600  "
      ]
     },
     "execution_count": 46,
     "metadata": {},
     "output_type": "execute_result"
    }
   ],
   "source": [
    "os.chdir(\"Z:/Edwisor Project 3\")\n",
    "os.getcwd()\n",
    "#Loading the dataset and seeing the first 5 rows\n",
    "day_data=pd.read_csv('day.csv',sep=',')\n",
    "day_data.head()"
   ]
  },
  {
   "cell_type": "markdown",
   "metadata": {},
   "source": [
    "#### Number of Rows and Columns in our DataSet"
   ]
  },
  {
   "cell_type": "code",
   "execution_count": 47,
   "metadata": {},
   "outputs": [
    {
     "name": "stdout",
     "output_type": "stream",
     "text": [
      "Rows:- 731\n",
      "Columns:- 16\n"
     ]
    }
   ],
   "source": [
    "print(\"Rows:-\",day_data.shape[0])\n",
    "print(\"Columns:-\",day_data.shape[1])"
   ]
  },
  {
   "cell_type": "markdown",
   "metadata": {},
   "source": [
    "#### Checking the number of Missing values in our dataset"
   ]
  },
  {
   "cell_type": "code",
   "execution_count": 48,
   "metadata": {},
   "outputs": [
    {
     "data": {
      "text/plain": [
       "instant       0\n",
       "dteday        0\n",
       "season        0\n",
       "yr            0\n",
       "mnth          0\n",
       "holiday       0\n",
       "weekday       0\n",
       "workingday    0\n",
       "weathersit    0\n",
       "temp          0\n",
       "atemp         0\n",
       "hum           0\n",
       "windspeed     0\n",
       "casual        0\n",
       "registered    0\n",
       "cnt           0\n",
       "dtype: int64"
      ]
     },
     "execution_count": 48,
     "metadata": {},
     "output_type": "execute_result"
    }
   ],
   "source": [
    "day_data.isna().sum()"
   ]
  },
  {
   "cell_type": "markdown",
   "metadata": {},
   "source": [
    "#### Checking the datatypes of columns"
   ]
  },
  {
   "cell_type": "code",
   "execution_count": 49,
   "metadata": {},
   "outputs": [
    {
     "data": {
      "text/plain": [
       "instant         int64\n",
       "dteday         object\n",
       "season          int64\n",
       "yr              int64\n",
       "mnth            int64\n",
       "holiday         int64\n",
       "weekday         int64\n",
       "workingday      int64\n",
       "weathersit      int64\n",
       "temp          float64\n",
       "atemp         float64\n",
       "hum           float64\n",
       "windspeed     float64\n",
       "casual          int64\n",
       "registered      int64\n",
       "cnt             int64\n",
       "dtype: object"
      ]
     },
     "execution_count": 49,
     "metadata": {},
     "output_type": "execute_result"
    }
   ],
   "source": [
    "day_data.dtypes"
   ]
  },
  {
   "cell_type": "markdown",
   "metadata": {},
   "source": [
    "### Checking the number of unique values in each column"
   ]
  },
  {
   "cell_type": "code",
   "execution_count": 50,
   "metadata": {},
   "outputs": [
    {
     "data": {
      "text/plain": [
       "instant       731\n",
       "dteday        731\n",
       "season          4\n",
       "yr              2\n",
       "mnth           12\n",
       "holiday         2\n",
       "weekday         7\n",
       "workingday      2\n",
       "weathersit      3\n",
       "temp          499\n",
       "atemp         690\n",
       "hum           595\n",
       "windspeed     650\n",
       "casual        606\n",
       "registered    679\n",
       "cnt           696\n",
       "dtype: int64"
      ]
     },
     "execution_count": 50,
     "metadata": {},
     "output_type": "execute_result"
    }
   ],
   "source": [
    "day_data.nunique()"
   ]
  },
  {
   "cell_type": "markdown",
   "metadata": {},
   "source": [
    "#### Conversion of Datatypes"
   ]
  },
  {
   "cell_type": "code",
   "execution_count": 51,
   "metadata": {},
   "outputs": [],
   "source": [
    "try:\n",
    "    day_data['season'] = day_data['season'].astype('category')\n",
    "    day_data['yr'] = day_data['yr'].astype('category')\n",
    "    day_data['mnth'] = day_data['mnth'].astype('category')\n",
    "    day_data['holiday'] = day_data['holiday'].astype('category')\n",
    "    day_data['weekday'] = day_data['weekday'].astype('category')\n",
    "    day_data['workingday'] = day_data['workingday'].astype('category')\n",
    "    day_data['weathersit'] = day_data['weathersit'].astype('category')\n",
    "    day_data[\"casual\"] = day_data[\"casual\"].astype(float)\n",
    "    day_data[\"registered\"] = day_data[\"registered\"].astype(float)\n",
    "    day_data[\"cnt\"] = day_data[\"cnt\"].astype(float)\n",
    "    day_data=day_data.drop('dteday',axis=1)\n",
    "    day_data=day_data.drop('instant',axis=1)\n",
    "    print(day_data.dtypes)\n",
    "except Exception as e:\n",
    "    print(e)"
   ]
  },
  {
   "cell_type": "markdown",
   "metadata": {},
   "source": [
    "#### For the EDA and problem statement file categorising the variables in two category \" Continuos\" and \"Categorical\""
   ]
  },
  {
   "cell_type": "code",
   "execution_count": 52,
   "metadata": {},
   "outputs": [],
   "source": [
    "continuous_vars = ['temp','atemp','hum','windspeed','casual','registered']\n",
    "\n",
    "categorical_vars = ['season','yr','mnth','holiday','weekday','workingday','weathersit']"
   ]
  },
  {
   "cell_type": "markdown",
   "metadata": {},
   "source": [
    "## 2.Exploratory Data Analysis "
   ]
  },
  {
   "cell_type": "markdown",
   "metadata": {},
   "source": [
    "### 2.1 Distribution of Categorical Variable using Factorplot"
   ]
  },
  {
   "cell_type": "code",
   "execution_count": 53,
   "metadata": {},
   "outputs": [
    {
     "data": {
      "image/png": "[encoded data removed]",
      "text/plain": [
       "<Figure size 360x360 with 1 Axes>"
      ]
     },
     "metadata": {},
     "output_type": "display_data"
    },
    {
     "data": {
      "image/png": "[encoded data removed]",
      "text/plain": [
       "<Figure size 360x360 with 1 Axes>"
      ]
     },
     "metadata": {},
     "output_type": "display_data"
    },
    {
     "data": {
      "image/png": "[encoded data removed]",
      "text/plain": [
       "<Figure size 360x360 with 1 Axes>"
      ]
     },
     "metadata": {},
     "output_type": "display_data"
    },
    {
     "data": {
      "image/png": "[encoded data removed]",
      "text/plain": [
       "<Figure size 360x360 with 1 Axes>"
      ]
     },
     "metadata": {},
     "output_type": "display_data"
    },
    {
     "data": {
      "image/png": "[encoded data removed]",
      "text/plain": [
       "<Figure size 360x360 with 1 Axes>"
      ]
     },
     "metadata": {},
     "output_type": "display_data"
    },
    {
     "data": {
      "image/png": "[encoded data removed]",
      "text/plain": [
       "<Figure size 360x360 with 1 Axes>"
      ]
     },
     "metadata": {},
     "output_type": "display_data"
    },
    {
     "data": {
      "image/png": "[encoded data removed]",
      "text/plain": [
       "<Figure size 360x360 with 1 Axes>"
      ]
     },
     "metadata": {},
     "output_type": "display_data"
    }
   ],
   "source": [
    "try:\n",
    "    def factorplot_categorical_columns(day_data,categorical_vars):\n",
    "        for col in categorical_vars:\n",
    "            sns.factorplot(x=col,data=day_data,kind='count',size=5,aspect=1)\n",
    "    factorplot_categorical_columns(day_data,categorical_vars)\n",
    "except Exception as e:\n",
    "    print(e)"
   ]
  },
  {
   "cell_type": "markdown",
   "metadata": {},
   "source": [
    "### 2.2 Checking Normality of Continuous Variable using Histogram"
   ]
  },
  {
   "cell_type": "code",
   "execution_count": 54,
   "metadata": {},
   "outputs": [
    {
     "data": {
      "image/png": "[encoded data removed]",
      "text/plain": [
       "<Figure size 936x936 with 6 Axes>"
      ]
     },
     "metadata": {},
     "output_type": "display_data"
    }
   ],
   "source": [
    "pd.DataFrame.hist(day_data.loc[:,continuous_vars], figsize = [13,13]);"
   ]
  },
  {
   "cell_type": "markdown",
   "metadata": {},
   "source": [
    " ### 2.3 Checking Outliers in Data using Boxplot"
   ]
  },
  {
   "cell_type": "code",
   "execution_count": 55,
   "metadata": {},
   "outputs": [
    {
     "data": {
      "text/plain": [
       "<matplotlib.axes._subplots.AxesSubplot at 0x1cf48f35438>"
      ]
     },
     "execution_count": 55,
     "metadata": {},
     "output_type": "execute_result"
    },
    {
     "data": {
      "image/png": "[encoded data removed]",
      "text/plain": [
       "<Figure size 432x288 with 1 Axes>"
      ]
     },
     "metadata": {},
     "output_type": "display_data"
    }
   ],
   "source": [
    "sns.boxplot(data=day_data[['temp','atemp','hum','windspeed']])"
   ]
  },
  {
   "cell_type": "code",
   "execution_count": 56,
   "metadata": {},
   "outputs": [
    {
     "data": {
      "text/plain": [
       "<matplotlib.axes._subplots.AxesSubplot at 0x1cf44cf8320>"
      ]
     },
     "execution_count": 56,
     "metadata": {},
     "output_type": "execute_result"
    },
    {
     "data": {
      "image/png": "[encoded data removed]",
      "text/plain": [
       "<Figure size 432x288 with 1 Axes>"
      ]
     },
     "metadata": {},
     "output_type": "display_data"
    }
   ],
   "source": [
    "sns.boxplot(data=day_data[['casual','registered','cnt']])"
   ]
  },
  {
   "cell_type": "markdown",
   "metadata": {},
   "source": [
    "#### Treating the extreme values with minimum and maximum values"
   ]
  },
  {
   "cell_type": "code",
   "execution_count": 57,
   "metadata": {},
   "outputs": [],
   "source": [
    "try:\n",
    "    extreme_value_columns = ['hum','windspeed']\n",
    "    for i in extreme_value_columns:\n",
    "        # Getting 75 and 25 percentile of variable \"i\"\n",
    "        q75, q25 = np.percentile(day_data[i], [75,25])\n",
    "\n",
    "        # Calculating Interquartile range\n",
    "        iqr = q75 - q25\n",
    "\n",
    "        # Calculating upper extream and lower extream\n",
    "        minimum = q25 - (iqr*1.5)\n",
    "        maximum = q75 + (iqr*1.5)\n",
    "\n",
    "        # Replacing all the outliers value to Minimum and Maximum\n",
    "        day_data.loc[day_data[i]< minimum,i] = minimum\n",
    "        day_data.loc[day_data[i]> maximum,i] = maximum\n",
    "    print(day_data.isnull().sum())\n",
    "except Exception as e:\n",
    "    print(e)"
   ]
  },
  {
   "cell_type": "code",
   "execution_count": 58,
   "metadata": {},
   "outputs": [
    {
     "data": {
      "text/plain": [
       "<matplotlib.axes._subplots.AxesSubplot at 0x1cf48f12240>"
      ]
     },
     "execution_count": 58,
     "metadata": {},
     "output_type": "execute_result"
    },
    {
     "data": {
      "image/png": "[encoded data removed]",
      "text/plain": [
       "<Figure size 432x288 with 1 Axes>"
      ]
     },
     "metadata": {},
     "output_type": "display_data"
    }
   ],
   "source": [
    "sns.boxplot(data=day_data[['hum','windspeed']])"
   ]
  },
  {
   "cell_type": "markdown",
   "metadata": {},
   "source": [
    " ## 3. Feature Selection"
   ]
  },
  {
   "cell_type": "markdown",
   "metadata": {},
   "source": [
    "### 3.1 Chi Square test for checking the relation between categorical variables"
   ]
  },
  {
   "cell_type": "code",
   "execution_count": 59,
   "metadata": {},
   "outputs": [],
   "source": [
    "try:\n",
    "    factors_paired = [(i,j) for i in categorical_vars  for j in categorical_vars ] \n",
    "    chi2, p_values =[], []\n",
    "    for f in factors_paired:\n",
    "        if f[0] != f[1]:\n",
    "            chitest = chi2_contingency(pd.crosstab(day_data[f[0]], day_data[f[1]]))\n",
    "            chi2.append(chitest[0])\n",
    "            p_values.append(chitest[1])\n",
    "        else:\n",
    "            chi2.append(0)\n",
    "            p_values.append(0)\n",
    "\n",
    "    p1 = np.array(p_values).reshape((7,7))\n",
    "    p1 = pd.DataFrame(p1, index=categorical_vars, columns=categorical_vars)\n",
    "    print(p1)\n",
    "except Exception as e:\n",
    "    print(e)"
   ]
  },
  {
   "cell_type": "markdown",
   "metadata": {},
   "source": [
    "#### column 'mnth' , 'season' are having 0 chisquare, hence, removing one of them"
   ]
  },
  {
   "cell_type": "code",
   "execution_count": 60,
   "metadata": {},
   "outputs": [],
   "source": [
    "try:\n",
    "    day_data=day_data.drop('mnth',axis=1)\n",
    "    categorical_vars = ['season','yr','holiday','weekday','workingday','weathersit']\n",
    "except Exception as e:\n",
    "    print(e)"
   ]
  },
  {
   "cell_type": "markdown",
   "metadata": {},
   "source": [
    " ### 3.2 Correlation Plot to check the relation between Continuous Variables"
   ]
  },
  {
   "cell_type": "code",
   "execution_count": 61,
   "metadata": {},
   "outputs": [
    {
     "data": {
      "image/png": "[encoded data removed]",
      "text/plain": [
       "<Figure size 720x720 with 2 Axes>"
      ]
     },
     "metadata": {},
     "output_type": "display_data"
    }
   ],
   "source": [
    "try:\n",
    "    continuous_vars = ['temp','atemp','hum','windspeed','casual','registered','cnt']\n",
    "    df_corr = day_data.loc[:,continuous_vars]\n",
    "    f, ax = plt.subplots(figsize=(10, 10))\n",
    "    corr = df_corr.corr()\n",
    "    #Plot using seaborn library\n",
    "    sns.heatmap(corr, mask=np.zeros_like(corr, dtype=np.bool), \n",
    "                cmap=sns.diverging_palette(220, 50, as_cmap=True),\n",
    "                square=True, ax=ax, annot = True)\n",
    "    plt.plot()\n",
    "except Exception as e:\n",
    "    print(e)"
   ]
  },
  {
   "cell_type": "code",
   "execution_count": 87,
   "metadata": {},
   "outputs": [
    {
     "name": "stdout",
     "output_type": "stream",
     "text": [
      "exog contains inf or nans\n"
     ]
    },
    {
     "name": "stderr",
     "output_type": "stream",
     "text": [
      "Z:\\anaconda\\Lib\\site-packages\\pandas\\core\\indexing.py:1472: FutureWarning:\n",
      "\n",
      "\n",
      "Passing list-likes to .loc or [] with any missing label will raise\n",
      "KeyError in the future, you can use .reindex() as an alternative.\n",
      "\n",
      "See the documentation here:\n",
      "https://pandas.pydata.org/pandas-docs/stable/indexing.html#deprecate-loc-reindex-listlike\n",
      "\n"
     ]
    }
   ],
   "source": [
    "try:\n",
    "    continuous_vars = ['temp','atemp','hum','windspeed','casual','registered']\n",
    "    def calculate_vif_(X):\n",
    "        variables = list(X.columns)\n",
    "        vif = {variable:variance_inflation_factor(exog=X.values, exog_idx=ix) for ix,variable in enumerate(list(X.columns))}\n",
    "        return vif\n",
    "    print(calculate_vif_(day_data.loc[:,continuous_vars]))\n",
    "except Exception as e:\n",
    "    print(e)"
   ]
  },
  {
   "cell_type": "code",
   "execution_count": 63,
   "metadata": {},
   "outputs": [
    {
     "name": "stderr",
     "output_type": "stream",
     "text": [
      "Z:\\anaconda\\Lib\\site-packages\\statsmodels\\stats\\outliers_influence.py:181: RuntimeWarning:\n",
      "\n",
      "divide by zero encountered in double_scalars\n",
      "\n"
     ]
    }
   ],
   "source": [
    "try:\n",
    "    day_data=day_data.drop('atemp',axis=1)\n",
    "    continuous_vars = ['temp','hum','windspeed','casual','registered','cnt']\n",
    "    print(calculate_vif_(day_data.loc[:,continuous_vars]))\n",
    "except Exception as e:\n",
    "    print(e)"
   ]
  },
  {
   "cell_type": "code",
   "execution_count": 64,
   "metadata": {},
   "outputs": [
    {
     "data": {
      "image/png": "[encoded data removed]",
      "text/plain": [
       "<Figure size 720x720 with 2 Axes>"
      ]
     },
     "metadata": {},
     "output_type": "display_data"
    }
   ],
   "source": [
    "try:\n",
    "    #Get dataframe with all continuous variables\n",
    "    df_corr = day_data.loc[:,continuous_vars]\n",
    "    #Set the width and hieght of the plot\n",
    "    f, ax = plt.subplots(figsize=(10, 10))\n",
    "    #Generate correlation matrix\n",
    "    corr = df_corr.corr()\n",
    "    #Plot using seaborn library\n",
    "    sns.heatmap(corr, mask=np.zeros_like(corr, dtype=np.bool), \n",
    "                cmap=sns.diverging_palette(220, 50, as_cmap=True),\n",
    "                square=True, ax=ax, annot = True)\n",
    "    plt.plot()\n",
    "except Exception as e:\n",
    "    print(e)"
   ]
  },
  {
   "cell_type": "code",
   "execution_count": 65,
   "metadata": {},
   "outputs": [],
   "source": [
    "try:\n",
    "    day_data=day_data.drop('registered',axis=1)\n",
    "    day_data=day_data.drop('casual',axis=1)\n",
    "    continuous_vars = ['temp','hum','windspeed']\n",
    "    print(calculate_vif_(day_data.loc[:,continuous_vars]))\n",
    "except Exception as e:\n",
    "    print(e)"
   ]
  },
  {
   "cell_type": "code",
   "execution_count": 66,
   "metadata": {},
   "outputs": [
    {
     "data": {
      "image/png": "[encoded data removed]",
      "text/plain": [
       "<Figure size 720x720 with 2 Axes>"
      ]
     },
     "metadata": {},
     "output_type": "display_data"
    }
   ],
   "source": [
    "try:\n",
    "    #Get dataframe with all continuous variables\n",
    "    df_corr = day_data.loc[:,continuous_vars]\n",
    "    #Check for multicollinearity using corelation graph\n",
    "    #Set the width and hieght of the plot\n",
    "    f, ax = plt.subplots(figsize=(10, 10))\n",
    "    #Generate correlation matrix\n",
    "    corr = df_corr.corr()\n",
    "    #Plot using seaborn library\n",
    "    sns.heatmap(corr, mask=np.zeros_like(corr, dtype=np.bool), \n",
    "                cmap=sns.diverging_palette(220, 50, as_cmap=True),\n",
    "                square=True, ax=ax, annot = True)\n",
    "    plt.plot()\n",
    "except Exception as e:\n",
    "    print(e)"
   ]
  },
  {
   "cell_type": "markdown",
   "metadata": {},
   "source": [
    "## 4. Feature Scaling"
   ]
  },
  {
   "cell_type": "markdown",
   "metadata": {},
   "source": [
    "### 4.1 Creating Dummy Variables for Categorical Columns"
   ]
  },
  {
   "cell_type": "code",
   "execution_count": 67,
   "metadata": {},
   "outputs": [],
   "source": [
    "try:\n",
    "    weathersit=pd.get_dummies(day_data['weathersit'],prefix='weathersit',dtype = 'float')\n",
    "    season=pd.get_dummies(day_data['season'],prefix='season',dtype = 'float')\n",
    "    yr=pd.get_dummies(day_data['yr'],prefix='yr',dtype = 'float')\n",
    "    holiday=pd.get_dummies(day_data['holiday'],prefix='holiday',dtype = 'float')\n",
    "    weekday=pd.get_dummies(day_data['weekday'],prefix='weekday',dtype = 'float')\n",
    "    workingday=pd.get_dummies(day_data['workingday'],prefix='workingday',dtype = 'float')\n",
    "    day_data=pd.concat([day_data,weathersit,season,yr,holiday,weekday,workingday],axis=1)\n",
    "    day_data=day_data.drop('weathersit',axis=1)\n",
    "    day_data=day_data.drop('season',axis=1)\n",
    "    day_data=day_data.drop('yr',axis=1)\n",
    "    day_data=day_data.drop('holiday',axis=1)\n",
    "    day_data=day_data.drop('weekday',axis=1)\n",
    "    day_data=day_data.drop('workingday',axis=1)\n",
    "    day_data.columns\n",
    "except Exception as e:\n",
    "    print(e)"
   ]
  },
  {
   "cell_type": "markdown",
   "metadata": {},
   "source": [
    "### 4.2 Normalization of Numarical Variables"
   ]
  },
  {
   "cell_type": "code",
   "execution_count": 68,
   "metadata": {},
   "outputs": [
    {
     "data": {
      "image/png": "[encoded data removed]",
      "text/plain": [
       "<Figure size 936x936 with 4 Axes>"
      ]
     },
     "metadata": {},
     "output_type": "display_data"
    }
   ],
   "source": [
    "try:\n",
    "    X = day_data.loc[:,continuous_vars]\n",
    "    normalized_X = preprocessing.normalize(X)\n",
    "    pd.DataFrame.hist(day_data.loc[:,continuous_vars], figsize = [13,13]);\n",
    "except Exception as e:\n",
    "    print(e)"
   ]
  },
  {
   "cell_type": "markdown",
   "metadata": {},
   "source": [
    "# 5. Model Building"
   ]
  },
  {
   "cell_type": "markdown",
   "metadata": {},
   "source": [
    "### 5.1 Spliting Data into train and test set."
   ]
  },
  {
   "cell_type": "code",
   "execution_count": 69,
   "metadata": {},
   "outputs": [],
   "source": [
    "try:\n",
    "    train,test=train_test_split(day_data,test_size=0.2)\n",
    "    target = day_data['cnt']\n",
    "    X_train, X_test, y_train, y_test = train_test_split( day_data.iloc[:, day_data.columns != 'cnt'], target, test_size = 0.20, random_state = 1, shuffle = True)\n",
    "except Exception as e:\n",
    "    print(e)    "
   ]
  },
  {
   "cell_type": "markdown",
   "metadata": {},
   "source": [
    "### 5.2 Define function to calculate RMSE & MAPE "
   ]
  },
  {
   "cell_type": "code",
   "execution_count": 70,
   "metadata": {},
   "outputs": [],
   "source": [
    "try:\n",
    "    def RMSE(y_actual,y_predicted):\n",
    "        rmse = np.sqrt(mean_squared_error(y_actual,y_predicted))\n",
    "        return rmse\n",
    "    def MAPE(y_true,y_predict):\n",
    "        mape=np.mean(np.abs((y_true-y_predict)/y_true))*100\n",
    "        return mape\n",
    "except Exception as e:\n",
    "    print(e)"
   ]
  },
  {
   "cell_type": "markdown",
   "metadata": {},
   "source": [
    "## 5.3 Decision Tree"
   ]
  },
  {
   "cell_type": "code",
   "execution_count": 71,
   "metadata": {},
   "outputs": [
    {
     "name": "stdout",
     "output_type": "stream",
     "text": [
      "     actual    pred\n",
      "404  3830.0  3272.0\n",
      "726  2114.0  2236.0\n",
      "159  3915.0  4401.0\n",
      "422  4322.0  4911.0\n",
      "512  6591.0  6031.0\n",
      "Root Mean Squared Error: 805.8245365298014\n",
      "R^2 Score(coefficient of determination) = 0.8242882424168301\n",
      "Mean Squared Error: 649353.1836734693\n",
      "Mean Absolute Percentage Error = 22.004521718790933\n",
      "[0.50675791 0.41256214 0.77995464 0.64012349 0.72632459]\n"
     ]
    }
   ],
   "source": [
    "try:\n",
    "    #Build decsion tree using DecisionTreeRegressor\n",
    "    dt_model = DecisionTreeRegressor(random_state = 1).fit(X_train,y_train)\n",
    "    regression_dt = DecisionTreeRegressor(random_state = 1)\n",
    "    #Perdict for test cases\n",
    "    dt_predictions = dt_model.predict(X_test)\n",
    "    #Create data frame for actual and predicted values\n",
    "    df_dt = pd.DataFrame({'actual': y_test, 'pred': dt_predictions})\n",
    "    print(df_dt.head())\n",
    "    #Calculate RMSE, MAPE,R-squared,Meaan Square Error value\n",
    "    print(\"Root Mean Squared Error: \"+str(RMSE(y_test, dt_predictions)))\n",
    "    print(\"R^2 Score(coefficient of determination) = \"+str(r2_score(y_test, dt_predictions)))\n",
    "    print(\"Mean Squared Error: \"+str(mean_squared_error(y_test, dt_predictions)))\n",
    "    print(\"Mean Absolute Percentage Error = \"+str(MAPE(y_test, dt_predictions)))\n",
    "    #Checking the Consistency using Cross Validation Method creating 5 folds in our dataset\n",
    "    scores = cross_val_score(regression_dt, X_test, y_test, cv=5)\n",
    "    print(scores)\n",
    "except Exception as e:\n",
    "    print(e)"
   ]
  },
  {
   "cell_type": "markdown",
   "metadata": {},
   "source": [
    "### 5.3.1\"max_depth\" parameter tuning of Decision Tree"
   ]
  },
  {
   "cell_type": "code",
   "execution_count": 72,
   "metadata": {},
   "outputs": [
    {
     "name": "stdout",
     "output_type": "stream",
     "text": [
      "Max Depth Value:1.0\n",
      "     actual         pred\n",
      "404  3830.0  3079.568182\n",
      "726  2114.0  3079.568182\n",
      "159  3915.0  5511.423077\n",
      "422  4322.0  3079.568182\n",
      "512  6591.0  5511.423077\n",
      "Root Mean Squared Error: 1449.7276242531227\n",
      "R^2 Score(coefficient of determination) = 0.43128762630566087\n",
      "Mean Squared Error: 2101710.1845226036\n",
      "Mean Absolute Percentage Error = 45.5098516441379\n",
      "[0.34201021 0.54543336 0.30922139 0.40174497 0.4214286 ]\n",
      "XXXXXXXXXXXXXXXXXXXXXXXXXXX\n",
      "Max Depth Value:2.0\n",
      "     actual         pred\n",
      "404  3830.0  3998.198113\n",
      "726  2114.0  3998.198113\n",
      "159  3915.0  4300.389535\n",
      "422  4322.0  3998.198113\n",
      "512  6591.0  6596.307292\n",
      "Root Mean Squared Error: 1040.9184215905611\n",
      "R^2 Score(coefficient of determination) = 0.7068072427411747\n",
      "Mean Squared Error: 1083511.160406585\n",
      "Mean Absolute Percentage Error = 31.672144260643982\n",
      "[0.54291629 0.62427015 0.63541455 0.64600622 0.62344814]\n",
      "XXXXXXXXXXXXXXXXXXXXXXXXXXX\n",
      "Max Depth Value:3.0\n",
      "     actual         pred\n",
      "404  3830.0  3145.964912\n",
      "726  2114.0  3145.964912\n",
      "159  3915.0  4386.042424\n",
      "422  4322.0  3145.964912\n",
      "512  6591.0  6726.686813\n",
      "Root Mean Squared Error: 900.4361572281275\n",
      "R^2 Score(coefficient of determination) = 0.7806055179736361\n",
      "Mean Squared Error: 810785.2732437571\n",
      "Mean Absolute Percentage Error = 24.916358883488098\n",
      "[0.6489727  0.69595069 0.7357949  0.77203002 0.76239744]\n",
      "XXXXXXXXXXXXXXXXXXXXXXXXXXX\n",
      "Max Depth Value:4.0\n",
      "     actual         pred\n",
      "404  3830.0  2579.968750\n",
      "726  2114.0  2579.968750\n",
      "159  3915.0  4471.933333\n",
      "422  4322.0  3870.440000\n",
      "512  6591.0  6836.126582\n",
      "Root Mean Squared Error: 843.4143371034986\n",
      "R^2 Score(coefficient of determination) = 0.8075128212207369\n",
      "Mean Squared Error: 711347.744031734\n",
      "Mean Absolute Percentage Error = 22.360266774594677\n",
      "[0.68206743 0.65090211 0.80406803 0.70240672 0.77081214]\n",
      "XXXXXXXXXXXXXXXXXXXXXXXXXXX\n",
      "Max Depth Value:5.0\n",
      "     actual         pred\n",
      "404  3830.0  2894.416667\n",
      "726  2114.0  2894.416667\n",
      "159  3915.0  4515.397260\n",
      "422  4322.0  4230.133333\n",
      "512  6591.0  6992.566929\n",
      "Root Mean Squared Error: 858.895251409206\n",
      "R^2 Score(coefficient of determination) = 0.8003817462762834\n",
      "Mean Squared Error: 737701.0528932833\n",
      "Mean Absolute Percentage Error = 22.107783597376436\n",
      "[0.65147187 0.64463073 0.76438459 0.66725332 0.83738315]\n",
      "XXXXXXXXXXXXXXXXXXXXXXXXXXX\n",
      "Max Depth Value:6.0\n",
      "     actual         pred\n",
      "404  3830.0  3299.785714\n",
      "726  2114.0  3299.785714\n",
      "159  3915.0  4570.978102\n",
      "422  4322.0  4675.500000\n",
      "512  6591.0  7121.490909\n",
      "Root Mean Squared Error: 865.708076163929\n",
      "R^2 Score(coefficient of determination) = 0.7972024113115184\n",
      "Mean Squared Error: 749450.4731354511\n",
      "Mean Absolute Percentage Error = 20.003173804985643\n",
      "[0.53496164 0.62997688 0.67454175 0.72123962 0.71298175]\n",
      "XXXXXXXXXXXXXXXXXXXXXXXXXXX\n",
      "Max Depth Value:7.0\n",
      "     actual         pred\n",
      "404  3830.0  3636.857143\n",
      "726  2114.0  2962.714286\n",
      "159  3915.0  4608.454545\n",
      "422  4322.0  4792.250000\n",
      "512  6591.0  6641.931034\n",
      "Root Mean Squared Error: 861.6107658637699\n",
      "R^2 Score(coefficient of determination) = 0.7991175102459216\n",
      "Mean Squared Error: 742373.111852352\n",
      "Mean Absolute Percentage Error = 21.765927026779206\n",
      "[0.51029736 0.60253648 0.74784016 0.58098736 0.75351956]\n",
      "XXXXXXXXXXXXXXXXXXXXXXXXXXX\n",
      "Max Depth Value:8.0\n",
      "     actual         pred\n",
      "404  3830.0  3707.333333\n",
      "726  2114.0  2236.000000\n",
      "159  3915.0  4537.862069\n",
      "422  4322.0  4866.666667\n",
      "512  6591.0  6716.678571\n",
      "Root Mean Squared Error: 862.2517664550678\n",
      "R^2 Score(coefficient of determination) = 0.7988185035531852\n",
      "Mean Squared Error: 743478.1087548848\n",
      "Mean Absolute Percentage Error = 20.094260826409613\n",
      "[0.62912725 0.46838612 0.75641686 0.68529705 0.77096763]\n",
      "XXXXXXXXXXXXXXXXXXXXXXXXXXX\n",
      "Max Depth Value:9.0\n",
      "     actual         pred\n",
      "404  3830.0  3272.000000\n",
      "726  2114.0  3243.000000\n",
      "159  3915.0  4460.760000\n",
      "422  4322.0  4913.500000\n",
      "512  6591.0  6868.956522\n",
      "Root Mean Squared Error: 893.6038234418673\n",
      "R^2 Score(coefficient of determination) = 0.7839223313871909\n",
      "Mean Squared Error: 798527.793269924\n",
      "Mean Absolute Percentage Error = 22.347244519565862\n",
      "[0.64107218 0.41814618 0.70108256 0.67420112 0.81541903]\n",
      "XXXXXXXXXXXXXXXXXXXXXXXXXXX\n",
      "Max Depth Value:10.0\n",
      "     actual         pred\n",
      "404  3830.0  3272.000000\n",
      "726  2114.0  3357.000000\n",
      "159  3915.0  4488.877551\n",
      "422  4322.0  4916.000000\n",
      "512  6591.0  6731.789474\n",
      "Root Mean Squared Error: 856.0557379040868\n",
      "R^2 Score(coefficient of determination) = 0.8016994431039629\n",
      "Mean Squared Error: 732831.4263985105\n",
      "Mean Absolute Percentage Error = 22.868390092815517\n",
      "[0.39928276 0.43888025 0.70186253 0.62464335 0.69210327]\n",
      "XXXXXXXXXXXXXXXXXXXXXXXXXXX\n",
      "Max Depth Value:11.0\n",
      "     actual         pred\n",
      "404  3830.0  3272.000000\n",
      "726  2114.0  3095.000000\n",
      "159  3915.0  4444.684783\n",
      "422  4322.0  4911.000000\n",
      "512  6591.0  6195.000000\n",
      "Root Mean Squared Error: 844.0272725598873\n",
      "R^2 Score(coefficient of determination) = 0.807232946710056\n",
      "Mean Squared Error: 712382.0368248823\n",
      "Mean Absolute Percentage Error = 21.606122495709645\n",
      "[0.48737771 0.45742912 0.7338608  0.6493101  0.75930629]\n",
      "XXXXXXXXXXXXXXXXXXXXXXXXXXX\n",
      "Max Depth Value:12.0\n",
      "     actual         pred\n",
      "404  3830.0  3272.000000\n",
      "726  2114.0  3292.000000\n",
      "159  3915.0  4509.173333\n",
      "422  4322.0  4916.000000\n",
      "512  6591.0  6031.000000\n",
      "Root Mean Squared Error: 834.4468969469622\n",
      "R^2 Score(coefficient of determination) = 0.8115842268793334\n",
      "Mean Squared Error: 696301.6238244141\n",
      "Mean Absolute Percentage Error = 23.29751770119094\n",
      "[0.52350998 0.54542211 0.70120054 0.69181561 0.73368333]\n",
      "XXXXXXXXXXXXXXXXXXXXXXXXXXX\n",
      "Max Depth Value:13.0\n",
      "     actual         pred\n",
      "404  3830.0  3272.000000\n",
      "726  2114.0  3095.000000\n",
      "159  3915.0  4588.964912\n",
      "422  4322.0  4916.000000\n",
      "512  6591.0  6031.000000\n",
      "Root Mean Squared Error: 836.4693205377299\n",
      "R^2 Score(coefficient of determination) = 0.8106698049230319\n",
      "Mean Squared Error: 699680.9242008515\n",
      "Mean Absolute Percentage Error = 21.365549767432416\n",
      "[0.57335048 0.4453171  0.75572775 0.6832533  0.76390239]\n",
      "XXXXXXXXXXXXXXXXXXXXXXXXXXX\n",
      "Max Depth Value:14.0\n",
      "     actual         pred\n",
      "404  3830.0  3272.000000\n",
      "726  2114.0  2236.000000\n",
      "159  3915.0  4341.111111\n",
      "422  4322.0  4911.000000\n",
      "512  6591.0  6031.000000\n",
      "Root Mean Squared Error: 820.2860480347953\n",
      "R^2 Score(coefficient of determination) = 0.8179249246269086\n",
      "Mean Squared Error: 672869.2006005425\n",
      "Mean Absolute Percentage Error = 20.92267369528693\n",
      "[0.53831319 0.61618868 0.71301081 0.64671681 0.68478386]\n",
      "XXXXXXXXXXXXXXXXXXXXXXXXXXX\n",
      "Max Depth Value:15.0\n",
      "     actual    pred\n",
      "404  3830.0  3272.0\n",
      "726  2114.0  3163.0\n",
      "159  3915.0  4119.0\n",
      "422  4322.0  4916.0\n",
      "512  6591.0  6031.0\n",
      "Root Mean Squared Error: 828.146266445212\n",
      "R^2 Score(coefficient of determination) = 0.8144188142666782\n",
      "Mean Squared Error: 685826.238627144\n",
      "Mean Absolute Percentage Error = 22.862524843980548\n",
      "[0.64889865 0.62512108 0.74126909 0.56271759 0.81214228]\n",
      "XXXXXXXXXXXXXXXXXXXXXXXXXXX\n",
      "Max Depth Value:16.0\n",
      "     actual    pred\n",
      "404  3830.0  3272.0\n",
      "726  2114.0  2236.0\n",
      "159  3915.0  4401.0\n",
      "422  4322.0  4911.0\n",
      "512  6591.0  6031.0\n",
      "Root Mean Squared Error: 809.4674966989476\n",
      "R^2 Score(coefficient of determination) = 0.8226959408492498\n",
      "Mean Squared Error: 655237.6282120607\n",
      "Mean Absolute Percentage Error = 21.459590418098525\n",
      "[0.47821726 0.4258747  0.72248684 0.64311257 0.76342968]\n",
      "XXXXXXXXXXXXXXXXXXXXXXXXXXX\n",
      "Max Depth Value:17.0\n",
      "     actual    pred\n",
      "404  3830.0  3272.0\n",
      "726  2114.0  3095.0\n",
      "159  3915.0  4401.0\n",
      "422  4322.0  4911.0\n",
      "512  6591.0  6031.0\n",
      "Root Mean Squared Error: 823.1534048252271\n",
      "R^2 Score(coefficient of determination) = 0.8166497921896086\n",
      "Mean Squared Error: 677581.5278753642\n",
      "Mean Absolute Percentage Error = 23.146890853078915\n",
      "[0.53576442 0.62457622 0.68797583 0.6047603  0.79045572]\n",
      "XXXXXXXXXXXXXXXXXXXXXXXXXXX\n",
      "Max Depth Value:18.0\n",
      "     actual    pred\n",
      "404  3830.0  3272.0\n",
      "726  2114.0  3095.0\n",
      "159  3915.0  4401.0\n",
      "422  4322.0  4911.0\n",
      "512  6591.0  6359.0\n",
      "Root Mean Squared Error: 865.4412096536485\n",
      "R^2 Score(coefficient of determination) = 0.7973274223739637\n",
      "Mean Squared Error: 748988.4873667704\n",
      "Mean Absolute Percentage Error = 23.567333300427745\n",
      "[0.56242597 0.55639421 0.7377153  0.5699704  0.80211303]\n",
      "XXXXXXXXXXXXXXXXXXXXXXXXXXX\n",
      "Max Depth Value:19.0\n",
      "     actual    pred\n",
      "404  3830.0  3272.0\n",
      "726  2114.0  3292.0\n",
      "159  3915.0  4401.0\n",
      "422  4322.0  4911.0\n",
      "512  6591.0  6031.0\n",
      "Root Mean Squared Error: 825.2291481782642\n",
      "R^2 Score(coefficient of determination) = 0.8157239189886796\n",
      "Mean Squared Error: 681003.1470030234\n",
      "Mean Absolute Percentage Error = 21.678630026390437\n"
     ]
    },
    {
     "name": "stdout",
     "output_type": "stream",
     "text": [
      "[0.55945347 0.57636741 0.70285776 0.56388057 0.84447771]\n",
      "XXXXXXXXXXXXXXXXXXXXXXXXXXX\n",
      "Max Depth Value:20.0\n",
      "     actual    pred\n",
      "404  3830.0  3272.0\n",
      "726  2114.0  3292.0\n",
      "159  3915.0  4401.0\n",
      "422  4322.0  4911.0\n",
      "512  6591.0  6031.0\n",
      "Root Mean Squared Error: 825.2177516933034\n",
      "R^2 Score(coefficient of determination) = 0.8157290086903443\n",
      "Mean Squared Error: 680984.3377097506\n",
      "Mean Absolute Percentage Error = 22.440963269170393\n",
      "[0.54300974 0.44167125 0.72748919 0.64808395 0.83686155]\n",
      "XXXXXXXXXXXXXXXXXXXXXXXXXXX\n",
      "Max Depth Value:21.0\n",
      "     actual    pred\n",
      "404  3830.0  3272.0\n",
      "726  2114.0  3422.0\n",
      "159  3915.0  4401.0\n",
      "422  4322.0  4916.0\n",
      "512  6591.0  6359.0\n",
      "Root Mean Squared Error: 818.9276057560813\n",
      "R^2 Score(coefficient of determination) = 0.8185274794973533\n",
      "Mean Squared Error: 670642.4234693878\n",
      "Mean Absolute Percentage Error = 22.936102479947547\n",
      "[0.40071168 0.42655877 0.72992082 0.58383341 0.83249461]\n",
      "XXXXXXXXXXXXXXXXXXXXXXXXXXX\n",
      "Max Depth Value:22.0\n",
      "     actual    pred\n",
      "404  3830.0  3272.0\n",
      "726  2114.0  3163.0\n",
      "159  3915.0  4401.0\n",
      "422  4322.0  4911.0\n",
      "512  6591.0  6031.0\n",
      "Root Mean Squared Error: 823.8937171400552\n",
      "R^2 Score(coefficient of determination) = 0.8163198477247925\n",
      "Mean Squared Error: 678800.8571428572\n",
      "Mean Absolute Percentage Error = 22.63876741109688\n",
      "[0.48076578 0.61742533 0.79222357 0.58229848 0.74031614]\n",
      "XXXXXXXXXXXXXXXXXXXXXXXXXXX\n",
      "Max Depth Value:23.0\n",
      "     actual    pred\n",
      "404  3830.0  3272.0\n",
      "726  2114.0  3292.0\n",
      "159  3915.0  4401.0\n",
      "422  4322.0  4911.0\n",
      "512  6591.0  6359.0\n",
      "Root Mean Squared Error: 825.2394653493421\n",
      "R^2 Score(coefficient of determination) = 0.8157193112509569\n",
      "Mean Squared Error: 681020.175170068\n",
      "Mean Absolute Percentage Error = 22.997039301621655\n",
      "[0.41249956 0.45026628 0.70518753 0.57072965 0.72730929]\n",
      "XXXXXXXXXXXXXXXXXXXXXXXXXXX\n",
      "Max Depth Value:24.0\n",
      "     actual    pred\n",
      "404  3830.0  3272.0\n",
      "726  2114.0  3422.0\n",
      "159  3915.0  4401.0\n",
      "422  4322.0  4916.0\n",
      "512  6591.0  6359.0\n",
      "Root Mean Squared Error: 866.4641730996765\n",
      "R^2 Score(coefficient of determination) = 0.7968480156445805\n",
      "Mean Squared Error: 750760.1632653062\n",
      "Mean Absolute Percentage Error = 21.63292886388411\n",
      "[0.6040948  0.58778179 0.72060346 0.66303586 0.75860509]\n",
      "XXXXXXXXXXXXXXXXXXXXXXXXXXX\n",
      "Max Depth Value:25.0\n",
      "     actual    pred\n",
      "404  3830.0  3272.0\n",
      "726  2114.0  2236.0\n",
      "159  3915.0  4401.0\n",
      "422  4322.0  4916.0\n",
      "512  6591.0  6031.0\n",
      "Root Mean Squared Error: 819.5991719865805\n",
      "R^2 Score(coefficient of determination) = 0.8182297223180774\n",
      "Mean Squared Error: 671742.8027210884\n",
      "Mean Absolute Percentage Error = 20.86280530876617\n",
      "[0.50833802 0.47476107 0.77668768 0.70400899 0.72756049]\n",
      "XXXXXXXXXXXXXXXXXXXXXXXXXXX\n",
      "Max Depth Value:26.0\n",
      "     actual    pred\n",
      "404  3830.0  3272.0\n",
      "726  2114.0  2236.0\n",
      "159  3915.0  4401.0\n",
      "422  4322.0  4911.0\n",
      "512  6591.0  6031.0\n",
      "Root Mean Squared Error: 822.9652045446128\n",
      "R^2 Score(coefficient of determination) = 0.8167336225320063\n",
      "Mean Squared Error: 677271.7278911564\n",
      "Mean Absolute Percentage Error = 20.764689876429625\n",
      "[0.53437075 0.6193426  0.77263345 0.64319392 0.72534538]\n",
      "XXXXXXXXXXXXXXXXXXXXXXXXXXX\n",
      "Max Depth Value:27.0\n",
      "     actual    pred\n",
      "404  3830.0  3272.0\n",
      "726  2114.0  2236.0\n",
      "159  3915.0  4401.0\n",
      "422  4322.0  4911.0\n",
      "512  6591.0  6031.0\n",
      "Root Mean Squared Error: 809.6718618116378\n",
      "R^2 Score(coefficient of determination) = 0.8226064021383162\n",
      "Mean Squared Error: 655568.5238095238\n",
      "Mean Absolute Percentage Error = 20.881323443267824\n",
      "[0.39037339 0.5861914  0.71637882 0.62732489 0.84262911]\n",
      "XXXXXXXXXXXXXXXXXXXXXXXXXXX\n",
      "Max Depth Value:28.0\n",
      "     actual    pred\n",
      "404  3830.0  3272.0\n",
      "726  2114.0  2236.0\n",
      "159  3915.0  4401.0\n",
      "422  4322.0  4911.0\n",
      "512  6591.0  6031.0\n",
      "Root Mean Squared Error: 824.2420224452438\n",
      "R^2 Score(coefficient of determination) = 0.8161645114394959\n",
      "Mean Squared Error: 679374.9115646258\n",
      "Mean Absolute Percentage Error = 21.022450825197883\n",
      "[0.47779331 0.41448564 0.72293623 0.58867938 0.68689533]\n",
      "XXXXXXXXXXXXXXXXXXXXXXXXXXX\n",
      "Max Depth Value:29.0\n",
      "     actual    pred\n",
      "404  3830.0  3272.0\n",
      "726  2114.0  3292.0\n",
      "159  3915.0  4401.0\n",
      "422  4322.0  4911.0\n",
      "512  6591.0  6031.0\n",
      "Root Mean Squared Error: 811.9241653874677\n",
      "R^2 Score(coefficient of determination) = 0.8216181006560149\n",
      "Mean Squared Error: 659220.8503401361\n",
      "Mean Absolute Percentage Error = 22.773487784198874\n",
      "[0.5944889  0.57117218 0.7420116  0.64765881 0.75387137]\n",
      "XXXXXXXXXXXXXXXXXXXXXXXXXXX\n",
      "Max Depth Value:30.0\n",
      "     actual    pred\n",
      "404  3830.0  3272.0\n",
      "726  2114.0  3095.0\n",
      "159  3915.0  4401.0\n",
      "422  4322.0  4911.0\n",
      "512  6591.0  6031.0\n",
      "Root Mean Squared Error: 826.7995956872327\n",
      "R^2 Score(coefficient of determination) = 0.8150218805800115\n",
      "Mean Squared Error: 683597.5714285715\n",
      "Mean Absolute Percentage Error = 22.87603503320046\n",
      "[0.43551643 0.45884381 0.72984618 0.56634753 0.74671033]\n",
      "XXXXXXXXXXXXXXXXXXXXXXXXXXX\n",
      "Max Depth Value:31.0\n",
      "     actual    pred\n",
      "404  3830.0  3272.0\n",
      "726  2114.0  3163.0\n",
      "159  3915.0  4401.0\n",
      "422  4322.0  4916.0\n",
      "512  6591.0  6359.0\n",
      "Root Mean Squared Error: 850.7847717790654\n",
      "R^2 Score(coefficient of determination) = 0.8041339051916516\n",
      "Mean Squared Error: 723834.7278911564\n",
      "Mean Absolute Percentage Error = 21.372597977963515\n",
      "[0.52283272 0.60976179 0.78924996 0.59825398 0.85360092]\n",
      "XXXXXXXXXXXXXXXXXXXXXXXXXXX\n",
      "Max Depth Value:32.0\n",
      "     actual    pred\n",
      "404  3830.0  3272.0\n",
      "726  2114.0  2236.0\n",
      "159  3915.0  4401.0\n",
      "422  4322.0  4916.0\n",
      "512  6591.0  6031.0\n",
      "Root Mean Squared Error: 830.5992632156748\n",
      "R^2 Score(coefficient of determination) = 0.8133177907615219\n",
      "Mean Squared Error: 689895.1360544218\n",
      "Mean Absolute Percentage Error = 23.00731147601038\n",
      "[0.53584924 0.38363039 0.79452391 0.56837022 0.75867928]\n",
      "XXXXXXXXXXXXXXXXXXXXXXXXXXX\n"
     ]
    }
   ],
   "source": [
    "try:\n",
    "    max_depths = np.linspace(1, 32, 32, endpoint=True)\n",
    "    for max_depth in max_depths:\n",
    "        dt = DecisionTreeRegressor(max_depth=max_depth)\n",
    "        dt.fit(X_train, y_train)\n",
    "        dt_predictions = dt.predict(X_test)\n",
    "        #Create data frame for actual and predicted values\n",
    "        df_dt = pd.DataFrame({'actual': y_test, 'pred': dt_predictions})\n",
    "        print(\"Max Depth Value:\"+str(max_depth))\n",
    "        print(df_dt.head())\n",
    "        print(\"Root Mean Squared Error: \"+str(RMSE(y_test, dt_predictions)))\n",
    "        print(\"R^2 Score(coefficient of determination) = \"+str(r2_score(y_test, dt_predictions)))\n",
    "        print(\"Mean Squared Error: \"+str(mean_squared_error(y_test, dt_predictions)))\n",
    "        print(\"Mean Absolute Percentage Error = \"+str(MAPE(y_test, dt_predictions)))\n",
    "        scores = cross_val_score(dt, X_test, y_test, cv=5)\n",
    "        print(str(scores))\n",
    "        print(\"XXXXXXXXXXXXXXXXXXXXXXXXXXX\")\n",
    "except Exception as e:\n",
    "    print(e)"
   ]
  },
  {
   "cell_type": "markdown",
   "metadata": {},
   "source": [
    "### 5.3.2 \"min_samples_split\" parameter tuning of Decision Tree"
   ]
  },
  {
   "cell_type": "code",
   "execution_count": 73,
   "metadata": {},
   "outputs": [
    {
     "name": "stdout",
     "output_type": "stream",
     "text": [
      "min_samples_split:0.1\n",
      "     actual         pred\n",
      "404  3830.0  3145.964912\n",
      "726  2114.0  3145.964912\n",
      "159  3915.0  4588.964912\n",
      "422  4322.0  3145.964912\n",
      "512  6591.0  6641.931034\n",
      "Root Mean Squared Error: 844.3347183143305\n",
      "R^2 Score(coefficient of determination) = 0.8070924863053262\n",
      "Mean Squared Error: 712901.11655094\n",
      "Mean Absolute Percentage Error = 23.174141581479905\n",
      "[0.63647455 0.45317101 0.66844643 0.73061801 0.77459044]\n",
      "XXXXXXXXXXXXXXXXXXXXXXXXXXX\n",
      "min_samples_split:0.2\n",
      "     actual         pred\n",
      "404  3830.0  3998.198113\n",
      "726  2114.0  3998.198113\n",
      "159  3915.0  4537.862069\n",
      "422  4322.0  3998.198113\n",
      "512  6591.0  7121.490909\n",
      "Root Mean Squared Error: 996.6101543436884\n",
      "R^2 Score(coefficient of determination) = 0.7312363909072064\n",
      "Mean Squared Error: 993231.7997409502\n",
      "Mean Absolute Percentage Error = 30.44552146469812\n",
      "[0.64202429 0.69595069 0.7178139  0.7629085  0.63152543]\n",
      "XXXXXXXXXXXXXXXXXXXXXXXXXXX\n",
      "min_samples_split:0.30000000000000004\n",
      "     actual         pred\n",
      "404  3830.0  3998.198113\n",
      "726  2114.0  3998.198113\n",
      "159  3915.0  4300.389535\n",
      "422  4322.0  3998.198113\n",
      "512  6591.0  6836.126582\n",
      "Root Mean Squared Error: 1030.940801904789\n",
      "R^2 Score(coefficient of determination) = 0.7124010440708853\n",
      "Mean Squared Error: 1062838.9370320893\n",
      "Mean Absolute Percentage Error = 31.543036949035407\n",
      "[0.56666087 0.69530692 0.76875974 0.71340131 0.67634953]\n",
      "XXXXXXXXXXXXXXXXXXXXXXXXXXX\n",
      "min_samples_split:0.4\n",
      "     actual         pred\n",
      "404  3830.0  3079.568182\n",
      "726  2114.0  3079.568182\n",
      "159  3915.0  4300.389535\n",
      "422  4322.0  3079.568182\n",
      "512  6591.0  6596.307292\n",
      "Root Mean Squared Error: 1185.383130971426\n",
      "R^2 Score(coefficient of determination) = 0.619777919546168\n",
      "Mean Squared Error: 1405133.167191621\n",
      "Mean Absolute Percentage Error = 40.04518364711661\n",
      "[0.54291629 0.62427015 0.63541455 0.64600622 0.67634953]\n",
      "XXXXXXXXXXXXXXXXXXXXXXXXXXX\n",
      "min_samples_split:0.5\n",
      "     actual         pred\n",
      "404  3830.0  3079.568182\n",
      "726  2114.0  3079.568182\n",
      "159  3915.0  4300.389535\n",
      "422  4322.0  3079.568182\n",
      "512  6591.0  6596.307292\n",
      "Root Mean Squared Error: 1185.383130971426\n",
      "R^2 Score(coefficient of determination) = 0.619777919546168\n",
      "Mean Squared Error: 1405133.167191621\n",
      "Mean Absolute Percentage Error = 40.04518364711661\n",
      "[0.44911171 0.49793743 0.40139667 0.48213651 0.4936317 ]\n",
      "XXXXXXXXXXXXXXXXXXXXXXXXXXX\n",
      "min_samples_split:0.6\n",
      "     actual         pred\n",
      "404  3830.0  3079.568182\n",
      "726  2114.0  3079.568182\n",
      "159  3915.0  4300.389535\n",
      "422  4322.0  3079.568182\n",
      "512  6591.0  6596.307292\n",
      "Root Mean Squared Error: 1185.383130971426\n",
      "R^2 Score(coefficient of determination) = 0.619777919546168\n",
      "Mean Squared Error: 1405133.167191621\n",
      "Mean Absolute Percentage Error = 40.04518364711661\n",
      "[0.34201021 0.54543336 0.30922139 0.40174497 0.4214286 ]\n",
      "XXXXXXXXXXXXXXXXXXXXXXXXXXX\n",
      "min_samples_split:0.7000000000000001\n",
      "     actual         pred\n",
      "404  3830.0  3079.568182\n",
      "726  2114.0  3079.568182\n",
      "159  3915.0  5511.423077\n",
      "422  4322.0  3079.568182\n",
      "512  6591.0  5511.423077\n",
      "Root Mean Squared Error: 1449.7276242531227\n",
      "R^2 Score(coefficient of determination) = 0.43128762630566087\n",
      "Mean Squared Error: 2101710.1845226036\n",
      "Mean Absolute Percentage Error = 45.5098516441379\n",
      "[0.34201021 0.54543336 0.30922139 0.40174497 0.4214286 ]\n",
      "XXXXXXXXXXXXXXXXXXXXXXXXXXX\n",
      "min_samples_split:0.8\n",
      "     actual         pred\n",
      "404  3830.0  3079.568182\n",
      "726  2114.0  3079.568182\n",
      "159  3915.0  5511.423077\n",
      "422  4322.0  3079.568182\n",
      "512  6591.0  5511.423077\n",
      "Root Mean Squared Error: 1449.7276242531227\n",
      "R^2 Score(coefficient of determination) = 0.43128762630566087\n",
      "Mean Squared Error: 2101710.1845226036\n",
      "Mean Absolute Percentage Error = 45.5098516441379\n",
      "[0.34201021 0.54543336 0.30922139 0.40174497 0.4214286 ]\n",
      "XXXXXXXXXXXXXXXXXXXXXXXXXXX\n",
      "min_samples_split:0.9\n",
      "     actual         pred\n",
      "404  3830.0  3079.568182\n",
      "726  2114.0  3079.568182\n",
      "159  3915.0  5511.423077\n",
      "422  4322.0  3079.568182\n",
      "512  6591.0  5511.423077\n",
      "Root Mean Squared Error: 1449.7276242531227\n",
      "R^2 Score(coefficient of determination) = 0.43128762630566087\n",
      "Mean Squared Error: 2101710.1845226036\n",
      "Mean Absolute Percentage Error = 45.5098516441379\n",
      "[0.34201021 0.54543336 0.30922139 0.40174497 0.4214286 ]\n",
      "XXXXXXXXXXXXXXXXXXXXXXXXXXX\n",
      "min_samples_split:1.0\n",
      "     actual         pred\n",
      "404  3830.0  3079.568182\n",
      "726  2114.0  3079.568182\n",
      "159  3915.0  5511.423077\n",
      "422  4322.0  3079.568182\n",
      "512  6591.0  5511.423077\n",
      "Root Mean Squared Error: 1449.7276242531227\n",
      "R^2 Score(coefficient of determination) = 0.43128762630566087\n",
      "Mean Squared Error: 2101710.1845226036\n",
      "Mean Absolute Percentage Error = 45.5098516441379\n",
      "[0.34201021 0.54543336 0.30922139 0.40174497 0.4214286 ]\n",
      "XXXXXXXXXXXXXXXXXXXXXXXXXXX\n"
     ]
    }
   ],
   "source": [
    "try:\n",
    "    min_samples_splits = np.linspace(0.1, 1.0, 10, endpoint=True)\n",
    "    for min_samples_split in min_samples_splits:\n",
    "        dt = DecisionTreeRegressor(min_samples_split=min_samples_split)\n",
    "        dt.fit(X_train, y_train)\n",
    "        dt_predictions = dt.predict(X_test)\n",
    "        #Create data frame for actual and predicted values\n",
    "        df_dt = pd.DataFrame({'actual': y_test, 'pred': dt_predictions})\n",
    "        print(\"min_samples_split:\"+str(min_samples_split))\n",
    "        print(df_dt.head())\n",
    "        print(\"Root Mean Squared Error: \"+str(RMSE(y_test, dt_predictions)))\n",
    "        print(\"R^2 Score(coefficient of determination) = \"+str(r2_score(y_test, dt_predictions)))\n",
    "        print(\"Mean Squared Error: \"+str(mean_squared_error(y_test, dt_predictions)))\n",
    "        print(\"Mean Absolute Percentage Error = \"+str(MAPE(y_test, dt_predictions)))\n",
    "        scores = cross_val_score(dt, X_test, y_test, cv=5)\n",
    "        print(str(scores))\n",
    "        print(\"XXXXXXXXXXXXXXXXXXXXXXXXXXX\")\n",
    "except Exception as e:\n",
    "    print(e) "
   ]
  },
  {
   "cell_type": "markdown",
   "metadata": {},
   "source": [
    "### 5.3.3 Building Decision Tree with Optimum parameters"
   ]
  },
  {
   "cell_type": "code",
   "execution_count": 74,
   "metadata": {},
   "outputs": [
    {
     "name": "stdout",
     "output_type": "stream",
     "text": [
      "     actual         pred\n",
      "404  3830.0  3145.964912\n",
      "726  2114.0  3145.964912\n",
      "159  3915.0  4515.397260\n",
      "422  4322.0  3145.964912\n",
      "512  6591.0  6992.566929\n",
      "Root Mean Squared Error: 855.6598219359623\n",
      "R^2 Score(coefficient of determination) = 0.8018828241582973\n",
      "Mean Squared Error: 732153.7308754828\n",
      "Mean Absolute Percentage Error = 23.313859338848996\n",
      "[0.64926984 0.64743391 0.74202605 0.75954915 0.77455239]\n"
     ]
    }
   ],
   "source": [
    "try:\n",
    "    #Build decsion tree using DecisionTreeRegressor\n",
    "    regression_dt = DecisionTreeRegressor(random_state = 1,min_samples_split=0.1,max_depth=5)\n",
    "    regression_dt_fit = regression_dt.fit(X_train,y_train)\n",
    "    #Perdict for test cases\n",
    "    dt_predictions = regression_dt_fit.predict(X_test)\n",
    "    #Create data frame for actual and predicted values\n",
    "    df_dt = pd.DataFrame({'actual': y_test, 'pred': dt_predictions})\n",
    "    print(df_dt.head())\n",
    "    #Calculate RMSE, R-squared,MSE, MAPE value\n",
    "    print(\"Root Mean Squared Error: \"+str(RMSE(y_test, dt_predictions)))\n",
    "    print(\"R^2 Score(coefficient of determination) = \"+str(r2_score(y_test, dt_predictions)))\n",
    "    print(\"Mean Squared Error: \"+str(mean_squared_error(y_test, dt_predictions)))\n",
    "    print(\"Mean Absolute Percentage Error = \"+str(MAPE(y_test, dt_predictions)))\n",
    "    scores = cross_val_score(regression_dt, X_test, y_test, cv=5)\n",
    "    print(scores)\n",
    "except Exception as e:\n",
    "    print(e)"
   ]
  },
  {
   "cell_type": "markdown",
   "metadata": {},
   "source": [
    "### 5.4 Random Forest Regression"
   ]
  },
  {
   "cell_type": "code",
   "execution_count": 75,
   "metadata": {},
   "outputs": [
    {
     "name": "stdout",
     "output_type": "stream",
     "text": [
      "     actual      pred\n",
      "404  3830.0  3399.460\n",
      "726  2114.0  2760.682\n",
      "159  3915.0  4226.954\n",
      "422  4322.0  4441.770\n",
      "512  6591.0  6325.820\n",
      "Root Mean Squared Error: 636.1281163249715\n",
      "R^2 Score(coefficient of determination) = 0.8905012827349289\n",
      "Mean Squared Error: 404658.9803791565\n",
      "Mean Absolute Percentage Error = 16.795342739734718\n",
      "[0.82918899 0.87010127 0.87822893 0.83812552 0.86715583]\n"
     ]
    }
   ],
   "source": [
    "try:\n",
    "    #Build random forest using RandomForestRegressor\n",
    "    rf_model = RandomForestRegressor(n_estimators = 500, random_state = 1).fit(X_train,y_train)\n",
    "    #Perdict for test cases\n",
    "    rf_predictions = rf_model.predict(X_test)\n",
    "    #Create data frame for actual and predicted values\n",
    "    df_rf = pd.DataFrame({'actual': y_test, 'pred': rf_predictions})\n",
    "    print(df_rf.head())\n",
    "    #Calculate RMSE, R-squared,MAE,MAPE value\n",
    "    print(\"Root Mean Squared Error: \"+str(RMSE(y_test, rf_predictions)))\n",
    "    print(\"R^2 Score(coefficient of determination) = \"+str(r2_score(y_test, rf_predictions)))\n",
    "    print(\"Mean Squared Error: \"+str(mean_squared_error(y_test, rf_predictions)))\n",
    "    print(\"Mean Absolute Percentage Error = \"+str(MAPE(y_test, rf_predictions)))\n",
    "    # Calculating the Cross Validation Score of dataset creating 5 folds\n",
    "    scores = cross_val_score(RandomForestRegressor(n_estimators = 500, random_state = 1), X_train, y_train, cv=5)\n",
    "    print(scores)\n",
    "except Exception as e:\n",
    "    print(e)"
   ]
  },
  {
   "cell_type": "markdown",
   "metadata": {},
   "source": [
    "### 5.3 Ceating RandomizedSearchCV to get best parameters for Random Forest"
   ]
  },
  {
   "cell_type": "code",
   "execution_count": 76,
   "metadata": {},
   "outputs": [
    {
     "name": "stdout",
     "output_type": "stream",
     "text": [
      "Fitting 3 folds for each of 100 candidates, totalling 300 fits\n"
     ]
    },
    {
     "name": "stderr",
     "output_type": "stream",
     "text": [
      "[Parallel(n_jobs=-1)]: Using backend LokyBackend with 4 concurrent workers.\n",
      "[Parallel(n_jobs=-1)]: Done  33 tasks      | elapsed:  1.4min\n",
      "[Parallel(n_jobs=-1)]: Done 154 tasks      | elapsed:  2.3min\n",
      "[Parallel(n_jobs=-1)]: Done 300 out of 300 | elapsed:  3.4min finished\n"
     ]
    },
    {
     "name": "stdout",
     "output_type": "stream",
     "text": [
      "     actual         pred\n",
      "404  3830.0  3692.513948\n",
      "726  2114.0  3244.909514\n",
      "159  3915.0  4005.548999\n",
      "422  4322.0  4018.075465\n",
      "512  6591.0  6476.718526\n",
      "Root Mean Squared Error: 669.1462547105488\n",
      "R^2 Score(coefficient of determination) = 0.8788392503558434\n",
      "Mean Squared Error: 447756.71019315463\n",
      "Mean Absolute Percentage Error = 16.939577250729236\n",
      "Fitting 3 folds for each of 100 candidates, totalling 300 fits\n"
     ]
    },
    {
     "name": "stderr",
     "output_type": "stream",
     "text": [
      "[Parallel(n_jobs=-1)]: Using backend LokyBackend with 4 concurrent workers.\n",
      "[Parallel(n_jobs=-1)]: Done  33 tasks      | elapsed:   14.9s\n",
      "[Parallel(n_jobs=-1)]: Done 154 tasks      | elapsed:   57.5s\n",
      "[Parallel(n_jobs=-1)]: Done 300 out of 300 | elapsed:  1.9min finished\n"
     ]
    },
    {
     "name": "stdout",
     "output_type": "stream",
     "text": [
      "Fitting 3 folds for each of 100 candidates, totalling 300 fits\n"
     ]
    },
    {
     "name": "stderr",
     "output_type": "stream",
     "text": [
      "[Parallel(n_jobs=-1)]: Using backend LokyBackend with 4 concurrent workers.\n",
      "[Parallel(n_jobs=-1)]: Done  33 tasks      | elapsed:   18.1s\n",
      "[Parallel(n_jobs=-1)]: Done 154 tasks      | elapsed:  1.1min\n",
      "[Parallel(n_jobs=-1)]: Done 300 out of 300 | elapsed:  1.9min finished\n"
     ]
    },
    {
     "name": "stdout",
     "output_type": "stream",
     "text": [
      "Fitting 3 folds for each of 100 candidates, totalling 300 fits\n"
     ]
    },
    {
     "name": "stderr",
     "output_type": "stream",
     "text": [
      "[Parallel(n_jobs=-1)]: Using backend LokyBackend with 4 concurrent workers.\n",
      "[Parallel(n_jobs=-1)]: Done  33 tasks      | elapsed:   14.8s\n",
      "[Parallel(n_jobs=-1)]: Done 154 tasks      | elapsed:   57.3s\n",
      "[Parallel(n_jobs=-1)]: Done 300 out of 300 | elapsed:  1.8min finished\n",
      "Z:\\anaconda\\Lib\\site-packages\\sklearn\\model_selection\\_search.py:841: DeprecationWarning:\n",
      "\n",
      "The default of the `iid` parameter will change from True to False in version 0.22 and will be removed in 0.24. This will change numeric results when test-set sizes are unequal.\n",
      "\n"
     ]
    },
    {
     "name": "stdout",
     "output_type": "stream",
     "text": [
      "Fitting 3 folds for each of 100 candidates, totalling 300 fits\n"
     ]
    },
    {
     "name": "stderr",
     "output_type": "stream",
     "text": [
      "[Parallel(n_jobs=-1)]: Using backend LokyBackend with 4 concurrent workers.\n",
      "[Parallel(n_jobs=-1)]: Done  33 tasks      | elapsed:   14.1s\n",
      "[Parallel(n_jobs=-1)]: Done 154 tasks      | elapsed:   52.0s\n",
      "[Parallel(n_jobs=-1)]: Done 300 out of 300 | elapsed:  1.7min finished\n"
     ]
    },
    {
     "name": "stdout",
     "output_type": "stream",
     "text": [
      "Fitting 3 folds for each of 100 candidates, totalling 300 fits\n"
     ]
    },
    {
     "name": "stderr",
     "output_type": "stream",
     "text": [
      "[Parallel(n_jobs=-1)]: Using backend LokyBackend with 4 concurrent workers.\n",
      "[Parallel(n_jobs=-1)]: Done  33 tasks      | elapsed:   15.3s\n",
      "[Parallel(n_jobs=-1)]: Done 154 tasks      | elapsed:   59.4s\n",
      "[Parallel(n_jobs=-1)]: Done 300 out of 300 | elapsed:  2.0min finished\n"
     ]
    },
    {
     "name": "stdout",
     "output_type": "stream",
     "text": [
      "[0.82898843 0.89646846 0.85719196 0.82953395 0.86699488]\n"
     ]
    }
   ],
   "source": [
    "\n",
    "try:\n",
    "    # Number of trees in random forest\n",
    "    n_estimators = [int(x) for x in np.linspace(start = 200, stop = 1000, num = 10)]\n",
    "    # Number of features to consider at every split\n",
    "    max_features = ['auto', 'sqrt']\n",
    "    # Maximum number of levels in tree\n",
    "    max_depth = [int(x) for x in np.linspace(10, 110, num = 11)]\n",
    "    max_depth.append(None)\n",
    "    # Minimum number of samples required to split a node\n",
    "    min_samples_split = [2, 5, 10]\n",
    "    # Minimum number of samples required at each leaf node\n",
    "    min_samples_leaf = [1, 2, 4]\n",
    "    # Method of selecting samples for training each tree\n",
    "    bootstrap = [True, False]\n",
    "    # Create the random grid\n",
    "    random_grid = {'n_estimators': n_estimators,\n",
    "                   'max_features': max_features,\n",
    "                   'max_depth': max_depth,\n",
    "                   'min_samples_split': min_samples_split,\n",
    "                   'min_samples_leaf': min_samples_leaf,\n",
    "                   'bootstrap': bootstrap}\n",
    "    # First create the base model to tune\n",
    "    rf = RandomForestRegressor()\n",
    "    # Random search of parameters, using 3 fold cross validation, \n",
    "    # search across 100 different combinations, and use all available cores\n",
    "    rf_random = RandomizedSearchCV(estimator = rf, param_distributions = random_grid, n_iter = 100, cv = 3, verbose=2, random_state=42, n_jobs = -1)\n",
    "    # Fit the random search model\n",
    "    rf_random.fit(X_train, y_train)\n",
    "    rf_random.predict(X_test)\n",
    "    df_rf_random= pd.DataFrame({'actual': y_test, 'pred': rf_random.predict(X_test)})\n",
    "    print(df_rf_random.head())\n",
    "    #Calculate RMSE and R-squared value\n",
    "    print(\"Root Mean Squared Error: \"+str(RMSE(y_test, rf_random.predict(X_test))))\n",
    "    print(\"R^2 Score(coefficient of determination) = \"+str(r2_score(y_test, rf_random.predict(X_test))))\n",
    "    print(\"Mean Squared Error: \"+str(mean_squared_error(y_test, rf_random.predict(X_test))))\n",
    "    print(\"Mean Absolute Percentage Error = \"+str(MAPE(y_test, rf_random.predict(X_test))))\n",
    "    scores = cross_val_score(rf_random, X_train, y_train, cv=5)\n",
    "    print(scores)\n",
    "\n",
    "except Exception as e:\n",
    "    print(e)"
   ]
  },
  {
   "cell_type": "markdown",
   "metadata": {},
   "source": [
    "### 5.4 Tuning Random Forest with best estimetor parameters"
   ]
  },
  {
   "cell_type": "code",
   "execution_count": 77,
   "metadata": {},
   "outputs": [
    {
     "name": "stdout",
     "output_type": "stream",
     "text": [
      "     actual         pred\n",
      "404  3830.0  3692.513948\n",
      "726  2114.0  3244.909514\n",
      "159  3915.0  4005.548999\n",
      "422  4322.0  4018.075465\n",
      "512  6591.0  6476.718526\n",
      "Root Mean Squared Error: 669.1462547105488\n",
      "R^2 Score(coefficient of determination) = 0.8788392503558434\n",
      "Mean Squared Error: 447756.71019315463\n",
      "Mean Absolute Percentage Error = 16.939577250729236\n"
     ]
    }
   ],
   "source": [
    "try:\n",
    "    best_random = rf_random.best_estimator_\n",
    "    df_best_random= pd.DataFrame({'actual': y_test, 'pred': best_random.predict(X_test)})\n",
    "    print(df_best_random.head())\n",
    "    #Calculate RMSE and R-squared value\n",
    "    print(\"Root Mean Squared Error: \"+str(RMSE(y_test, best_random.predict(X_test))))\n",
    "    print(\"R^2 Score(coefficient of determination) = \"+str(r2_score(y_test, best_random.predict(X_test))))\n",
    "    print(\"Mean Squared Error: \"+str(mean_squared_error(y_test, best_random.predict(X_test))))\n",
    "    print(\"Mean Absolute Percentage Error = \"+str(MAPE(y_test, best_random.predict(X_test))))\n",
    "    scores = cross_val_score(best_random, X_train, y_train, cv=5)\n",
    "    print(scores)\n",
    "except Exception as e:\n",
    "    print(e)"
   ]
  },
  {
   "cell_type": "markdown",
   "metadata": {},
   "source": [
    "### 5.5 Linear Regression"
   ]
  },
  {
   "cell_type": "code",
   "execution_count": 78,
   "metadata": {},
   "outputs": [
    {
     "name": "stdout",
     "output_type": "stream",
     "text": [
      "     actual         pred\n",
      "404  3830.0  3873.783754\n",
      "726  2114.0  2836.326089\n",
      "159  3915.0  5414.663904\n",
      "422  4322.0  4044.089368\n",
      "512  6591.0  6501.565392\n",
      "Root Mean Squared Error: 772.881955334337\n",
      "R^2 Score(coefficient of determination) = 0.838360989048141\n",
      "Mean Squared Error: 597346.5168814282\n",
      "Mean Absolute Percentage Error = 17.248585789475605\n",
      "[0.8181093  0.69417327 0.89064965 0.69352233 0.85180791]\n"
     ]
    }
   ],
   "source": [
    "try:\n",
    "    #Train the model\n",
    "    lr_model = LinearRegression().fit(X_train , y_train)\n",
    "    #Perdict for test cases\n",
    "    lr_predictions = lr_model.predict(X_test)\n",
    "    #Create data frame for actual and predicted values\n",
    "    df_lr = pd.DataFrame({'actual': y_test, 'pred': lr_predictions})\n",
    "    print(df_lr.head())\n",
    "    #Calculate RMSE and R-squared value\n",
    "    print(\"Root Mean Squared Error: \"+str(RMSE(y_test, lr_predictions)))\n",
    "    print(\"R^2 Score(coefficient of determination) = \"+str(r2_score(y_test, lr_predictions)))\n",
    "    print(\"Mean Squared Error: \"+str(mean_squared_error(y_test, lr_predictions)))\n",
    "    print(\"Mean Absolute Percentage Error = \"+str(MAPE(y_test, lr_predictions)))\n",
    "    scores = cross_val_score(LinearRegression(), X_test, y_test, cv=5)\n",
    "    print(scores)\n",
    "except Exception as e:\n",
    "    print(e)"
   ]
  },
  {
   "cell_type": "markdown",
   "metadata": {},
   "source": [
    "### 5.6 Ridge Regression with Cross Validation"
   ]
  },
  {
   "cell_type": "code",
   "execution_count": 79,
   "metadata": {},
   "outputs": [
    {
     "name": "stdout",
     "output_type": "stream",
     "text": [
      "     actual         pred\n",
      "404  3830.0  3878.402418\n",
      "726  2114.0  2852.726242\n",
      "159  3915.0  5375.400478\n",
      "422  4322.0  4042.939994\n",
      "512  6591.0  6497.510581\n",
      "Optimum Value of Alpha :-0.1\n",
      "Root Mean Squared Error: 773.0706291377687\n",
      "R^2 Score(coefficient of determination) = 0.8382820616797478\n",
      "Mean Squared Error: 597638.1976354655\n",
      "Mean Absolute Percentage Error = 17.131082984350297\n"
     ]
    }
   ],
   "source": [
    "try:\n",
    "    reg = linear_model.RidgeCV(alphas=[0.1, 1.0, 10.0], cv=5)\n",
    "    reg_model=reg.fit(X_train,y_train)\n",
    "    reg_predict=reg_model.predict(X_test)\n",
    "    #Create data frame for actual and predicted values\n",
    "    df_reg = pd.DataFrame({'actual': y_test, 'pred': reg_predict})\n",
    "    print(df_reg.head())\n",
    "    print(\"Optimum Value of Alpha :-\"+str(reg.alpha_))\n",
    "    reg = linear_model.RidgeCV(alphas=reg.alpha_,cv=5)\n",
    "    #Calculate RMSE and R-squared value\n",
    "    print(\"Root Mean Squared Error: \"+str(RMSE(y_test, reg_predict)))\n",
    "    print(\"R^2 Score(coefficient of determination) = \"+str(r2_score(y_test, reg_predict)))\n",
    "    print(\"Mean Squared Error: \"+str(mean_squared_error(y_test, reg_predict)))\n",
    "    print(\"Mean Absolute Percentage Error = \"+str(MAPE(y_test, reg_predict)))\n",
    "except Exception as e:\n",
    "    print(e)"
   ]
  },
  {
   "cell_type": "markdown",
   "metadata": {},
   "source": [
    "### 5.7 Lasso Regression"
   ]
  },
  {
   "cell_type": "code",
   "execution_count": 80,
   "metadata": {},
   "outputs": [
    {
     "name": "stdout",
     "output_type": "stream",
     "text": [
      "     actual         pred\n",
      "404  3830.0  3873.790974\n",
      "726  2114.0  2863.803942\n",
      "159  3915.0  5339.054961\n",
      "422  4322.0  4046.484738\n",
      "512  6591.0  6506.473747\n",
      "Optimum Value of Alpha :-1.0\n",
      "Root Mean Squared Error: 770.7713852718183\n",
      "R^2 Score(coefficient of determination) = 0.8392425846185673\n",
      "Mean Squared Error: 594088.5283538378\n",
      "Mean Absolute Percentage Error = 16.93454447112545\n"
     ]
    }
   ],
   "source": [
    "try:\n",
    "    reg_lasso = linear_model.Lasso()\n",
    "    reg_lasso_model=reg_lasso.fit(X_train,y_train)\n",
    "    reg_lasso_predict=reg_lasso_model.predict(X_test)\n",
    "    #Create data frame for actual and predicted values\n",
    "    df_lasso_reg = pd.DataFrame({'actual': y_test, 'pred': reg_lasso_predict})\n",
    "    print(df_lasso_reg.head())\n",
    "    print(\"Optimum Value of Alpha :-\"+str(reg_lasso.alpha))\n",
    "    print(\"Root Mean Squared Error: \"+str(RMSE(y_test, reg_lasso_predict)))\n",
    "    print(\"R^2 Score(coefficient of determination) = \"+str(r2_score(y_test, reg_lasso_predict)))\n",
    "    print(\"Mean Squared Error: \"+str(mean_squared_error(y_test, reg_lasso_predict)))\n",
    "    print(\"Mean Absolute Percentage Error = \"+str(MAPE(y_test, reg_lasso_predict)))\n",
    "except Exception as e:\n",
    "    print(e)"
   ]
  },
  {
   "cell_type": "markdown",
   "metadata": {},
   "source": [
    "### 5.8 KNN Regression"
   ]
  },
  {
   "cell_type": "code",
   "execution_count": 81,
   "metadata": {},
   "outputs": [
    {
     "name": "stdout",
     "output_type": "stream",
     "text": [
      "     actual    pred\n",
      "404  3830.0  3272.0\n",
      "726  2114.0  4097.0\n",
      "159  3915.0  3767.0\n",
      "422  4322.0  5298.0\n",
      "512  6591.0  6118.0\n",
      "Root Mean Squared Error: 1091.2167146664071\n",
      "R^2 Score(coefficient of determination) = 0.6777878832259872\n",
      "Mean Squared Error: 1190753.918367347\n",
      "Mean Absolute Percentage Error = 24.119590467065137\n",
      "[0.4099426  0.50329261 0.69952593 0.01981417 0.47509657]\n"
     ]
    }
   ],
   "source": [
    "try:\n",
    "    KNN_model=KNeighborsRegressor(n_neighbors=1).fit(X_train,y_train)\n",
    "    KNN_predictions=KNN_model.predict(X_test)\n",
    "    #Create data frame for actual and predicted values\n",
    "    df_knn = pd.DataFrame({'actual': y_test, 'pred': KNN_predictions})\n",
    "    print(df_knn.head())\n",
    "    regression = KNeighborsRegressor(n_neighbors=1)\n",
    "    #Calculate RMSE, R-squared, MSE, MAPE value\n",
    "    print(\"Root Mean Squared Error: \"+str(RMSE(y_test, KNN_predictions)))\n",
    "    print(\"R^2 Score(coefficient of determination) = \"+str(r2_score(y_test, KNN_predictions)))\n",
    "    print(\"Mean Squared Error: \"+str(mean_squared_error(y_test, KNN_predictions)))\n",
    "    print(\"Mean Absolute Percentage Error = \"+str(MAPE(y_test, KNN_predictions)))\n",
    "    scores = cross_val_score(regression, X_test, y_test, cv=5)\n",
    "    print(scores)\n",
    "except Exception as e:\n",
    "    print(e)"
   ]
  },
  {
   "cell_type": "markdown",
   "metadata": {},
   "source": [
    "### 5.8.1  Parameter tuning for KNN"
   ]
  },
  {
   "cell_type": "code",
   "execution_count": 82,
   "metadata": {},
   "outputs": [
    {
     "name": "stdout",
     "output_type": "stream",
     "text": [
      "For K value :-1\n",
      "     actual    pred\n",
      "404  3830.0  3272.0\n",
      "726  2114.0  4097.0\n",
      "159  3915.0  3767.0\n",
      "422  4322.0  5298.0\n",
      "512  6591.0  6118.0\n",
      "Root Mean Squared Error: 1091.2167146664071\n",
      "R^2 Score(coefficient of determination) = 0.6777878832259872\n",
      "Mean Squared Error: 1190753.918367347\n",
      "Mean Absolute Percentage Error = 24.119590467065137\n",
      "[0.4099426  0.50329261 0.69952593 0.01981417 0.47509657]\n",
      "---XXXXXXXXXXXXXXXXXXXXXXXXXX---\n",
      "For K value :-2\n",
      "     actual    pred\n",
      "404  3830.0  3282.0\n",
      "726  2114.0  4086.0\n",
      "159  3915.0  4171.0\n",
      "422  4322.0  4461.0\n",
      "512  6591.0  6548.0\n",
      "Root Mean Squared Error: 1011.4726634860637\n",
      "R^2 Score(coefficient of determination) = 0.7231604412392815\n",
      "Mean Squared Error: 1023076.9489795918\n",
      "Mean Absolute Percentage Error = 23.62171383828002\n",
      "[0.4099426  0.50329261 0.69952593 0.01981417 0.47509657]\n",
      "---XXXXXXXXXXXXXXXXXXXXXXXXXX---\n",
      "For K value :-3\n",
      "     actual         pred\n",
      "404  3830.0  3875.333333\n",
      "726  2114.0  3326.333333\n",
      "159  3915.0  3402.333333\n",
      "422  4322.0  4114.666667\n",
      "512  6591.0  6564.666667\n",
      "Root Mean Squared Error: 1028.9312396087416\n",
      "R^2 Score(coefficient of determination) = 0.7135211563688966\n",
      "Mean Squared Error: 1058699.4958427816\n",
      "Mean Absolute Percentage Error = 26.15658590906214\n",
      "[0.4099426  0.50329261 0.69952593 0.01981417 0.47509657]\n",
      "---XXXXXXXXXXXXXXXXXXXXXXXXXX---\n",
      "For K value :-4\n",
      "     actual     pred\n",
      "404  3830.0  4154.00\n",
      "726  2114.0  3400.50\n",
      "159  3915.0  3545.25\n",
      "422  4322.0  4032.00\n",
      "512  6591.0  6705.75\n",
      "Root Mean Squared Error: 1038.7836154175054\n",
      "R^2 Score(coefficient of determination) = 0.7080086200250156\n",
      "Mean Squared Error: 1079071.399659864\n",
      "Mean Absolute Percentage Error = 27.65030314714582\n",
      "[0.4099426  0.50329261 0.69952593 0.01981417 0.47509657]\n",
      "---XXXXXXXXXXXXXXXXXXXXXXXXXX---\n"
     ]
    }
   ],
   "source": [
    "try:\n",
    "    k_range = range(1,5)\n",
    "    # list of scores from k_range\n",
    "    k_scores = []\n",
    "    # we will loop through reasonable values of k\n",
    "    for k in k_range:\n",
    "        print(\"For K value :-\"+str(k))\n",
    "        knn = KNeighborsRegressor(n_neighbors=k)\n",
    "        KNN_model=knn.fit(X_train,y_train)\n",
    "        KNN_predictions=KNN_model.predict(X_test)\n",
    "        df_knn = pd.DataFrame({'actual': y_test, 'pred': KNN_predictions})\n",
    "        print(df_knn.head())\n",
    "        print(\"Root Mean Squared Error: \"+str(RMSE(y_test, KNN_predictions)))\n",
    "        print(\"R^2 Score(coefficient of determination) = \"+str(r2_score(y_test, KNN_predictions)))\n",
    "        print(\"Mean Squared Error: \"+str(mean_squared_error(y_test, KNN_predictions)))\n",
    "        print(\"Mean Absolute Percentage Error = \"+str(MAPE(y_test, KNN_predictions)))\n",
    "        scores = cross_val_score(regression, X_test, y_test, cv=5)\n",
    "        print(str(scores))\n",
    "        print(\"---XXXXXXXXXXXXXXXXXXXXXXXXXX---\")\n",
    "except Exception as e:\n",
    "    print(e)\n"
   ]
  },
  {
   "cell_type": "markdown",
   "metadata": {},
   "source": [
    "### 5.8.2  Final KNN Model after tuning"
   ]
  },
  {
   "cell_type": "code",
   "execution_count": 83,
   "metadata": {},
   "outputs": [
    {
     "name": "stdout",
     "output_type": "stream",
     "text": [
      "     actual    pred\n",
      "404  3830.0  3282.0\n",
      "726  2114.0  4086.0\n",
      "159  3915.0  4171.0\n",
      "422  4322.0  4461.0\n",
      "512  6591.0  6548.0\n",
      "Root Mean Squared Error: 1011.4726634860637\n",
      "R^2 Score(coefficient of determination) = 0.7231604412392815\n",
      "Mean Squared Error: 1023076.9489795918\n",
      "Mean Absolute Percentage Error = 23.62171383828002\n",
      "[0.4099426  0.50329261 0.69952593 0.01981417 0.47509657]\n"
     ]
    }
   ],
   "source": [
    "try:\n",
    "    KNN_model=KNeighborsRegressor(n_neighbors=2).fit(X_train,y_train)\n",
    "    KNN_predictions=KNN_model.predict(X_test)\n",
    "    #Create data frame for actual and predicted values\n",
    "    df_knn = pd.DataFrame({'actual': y_test, 'pred': KNN_predictions})\n",
    "    print(df_knn.head())\n",
    "    regression = KNeighborsRegressor(n_neighbors=1)\n",
    "    #Calculate RMSE and R-squared value\n",
    "    print(\"Root Mean Squared Error: \"+str(RMSE(y_test, KNN_predictions)))\n",
    "    print(\"R^2 Score(coefficient of determination) = \"+str(r2_score(y_test, KNN_predictions)))\n",
    "    print(\"Mean Squared Error: \"+str(mean_squared_error(y_test, KNN_predictions)))\n",
    "    print(\"Mean Absolute Percentage Error = \"+str(MAPE(y_test, KNN_predictions)))\n",
    "    scores = cross_val_score(regression, X_test, y_test, cv=5)\n",
    "    print(scores)\n",
    "except Exception as e:\n",
    "    print(e)"
   ]
  },
  {
   "cell_type": "markdown",
   "metadata": {},
   "source": [
    "### 5.9  XGBoost Regression"
   ]
  },
  {
   "cell_type": "code",
   "execution_count": 90,
   "metadata": {},
   "outputs": [
    {
     "name": "stderr",
     "output_type": "stream",
     "text": [
      "Z:\\anaconda\\Lib\\site-packages\\xgboost\\core.py:587: FutureWarning:\n",
      "\n",
      "Series.base is deprecated and will be removed in a future version\n",
      "\n"
     ]
    },
    {
     "name": "stdout",
     "output_type": "stream",
     "text": [
      "     actual         pred\n",
      "404  3830.0  3586.740234\n",
      "726  2114.0  2538.117188\n",
      "159  3915.0  4242.078613\n",
      "422  4322.0  4516.276367\n",
      "512  6591.0  6517.520996\n",
      "Root Mean Squared Error: 654.7982121829048\n",
      "R^2 Score(coefficient of determination) = 0.8839794770527052\n",
      "Mean Squared Error: 428760.69867792836\n",
      "Mean Absolute Percentage Error = 16.974939473586584\n"
     ]
    },
    {
     "name": "stderr",
     "output_type": "stream",
     "text": [
      "Z:\\anaconda\\Lib\\site-packages\\xgboost\\core.py:587: FutureWarning:\n",
      "\n",
      "Series.base is deprecated and will be removed in a future version\n",
      "\n",
      "Z:\\anaconda\\Lib\\site-packages\\xgboost\\core.py:587: FutureWarning:\n",
      "\n",
      "Series.base is deprecated and will be removed in a future version\n",
      "\n",
      "Z:\\anaconda\\Lib\\site-packages\\xgboost\\core.py:587: FutureWarning:\n",
      "\n",
      "Series.base is deprecated and will be removed in a future version\n",
      "\n",
      "Z:\\anaconda\\Lib\\site-packages\\xgboost\\core.py:587: FutureWarning:\n",
      "\n",
      "Series.base is deprecated and will be removed in a future version\n",
      "\n",
      "Z:\\anaconda\\Lib\\site-packages\\xgboost\\core.py:587: FutureWarning:\n",
      "\n",
      "Series.base is deprecated and will be removed in a future version\n",
      "\n"
     ]
    },
    {
     "name": "stdout",
     "output_type": "stream",
     "text": [
      "[0.76331104 0.76085693 0.85011462 0.81125622 0.82054458]\n"
     ]
    }
   ],
   "source": [
    "try:\n",
    "    xclas = XGBRegressor(max_depth=5)\n",
    "    xclas.fit(X_train, y_train)  \n",
    "    xclas.predict(X_test)\n",
    "    df_xclas= pd.DataFrame({'actual': y_test, 'pred': xclas.predict(X_test)})\n",
    "    print(df_xclas.head())\n",
    "    #Calculate RMSE, R-squared, MSE, MAPE value\n",
    "    print(\"Root Mean Squared Error: \"+str(RMSE(y_test, xclas.predict(X_test))))\n",
    "    print(\"R^2 Score(coefficient of determination) = \"+str(r2_score(y_test, xclas.predict(X_test))))\n",
    "    print(\"Mean Squared Error: \"+str(mean_squared_error(y_test, xclas.predict(X_test))))\n",
    "    print(\"Mean Absolute Percentage Error = \"+str(MAPE(y_test, xclas.predict(X_test))))\n",
    "    scores = cross_val_score(xclas, X_test, y_test, cv=5)\n",
    "    print(scores)    \n",
    "except Exception as e:\n",
    "    print(e)"
   ]
  },
  {
   "cell_type": "code",
   "execution_count": 91,
   "metadata": {},
   "outputs": [
    {
     "data": {
      "image/svg+xml": [
       "<?xml version=\"1.0\" encoding=\"UTF-8\" standalone=\"no\"?>\r\n",
       "<!DOCTYPE svg PUBLIC \"-//W3C//DTD SVG 1.1//EN\"\r\n",
       " \"http://www.w3.org/Graphics/SVG/1.1/DTD/svg11.dtd\">\r\n",
       "<!-- Generated by graphviz version 2.38.0 (20140413.2041)\r\n",
       " -->\r\n",
       "<!-- Title: %3 Pages: 1 -->\r\n",
       "<svg width=\"2772pt\" height=\"566pt\"\r\n",
       " viewBox=\"0.00 0.00 2771.69 566.00\" xmlns=\"http://www.w3.org/2000/svg\" xmlns:xlink=\"http://www.w3.org/1999/xlink\">\r\n",
       "<g id=\"graph0\" class=\"graph\" transform=\"scale(1 1) rotate(0) translate(4 562)\">\r\n",
       "<title>%3</title>\r\n",
       "<polygon fill=\"white\" stroke=\"none\" points=\"-4,4 -4,-562 2767.69,-562 2767.69,4 -4,4\"/>\r\n",
       "<!-- 0 -->\r\n",
       "<g id=\"node1\" class=\"node\"><title>0</title>\r\n",
       "<ellipse fill=\"none\" stroke=\"black\" cx=\"1846.84\" cy=\"-540\" rx=\"80.6858\" ry=\"18\"/>\r\n",
       "<text text-anchor=\"middle\" x=\"1846.84\" y=\"-536.3\" font-family=\"Times New Roman,serif\" font-size=\"14.00\">temp&lt;0.432372987</text>\r\n",
       "</g>\r\n",
       "<!-- 1 -->\r\n",
       "<g id=\"node2\" class=\"node\"><title>1</title>\r\n",
       "<ellipse fill=\"none\" stroke=\"black\" cx=\"1592.84\" cy=\"-453\" rx=\"44.393\" ry=\"18\"/>\r\n",
       "<text text-anchor=\"middle\" x=\"1592.84\" y=\"-449.3\" font-family=\"Times New Roman,serif\" font-size=\"14.00\">yr_0&lt;0.5</text>\r\n",
       "</g>\r\n",
       "<!-- 0&#45;&gt;1 -->\r\n",
       "<g id=\"edge1\" class=\"edge\"><title>0&#45;&gt;1</title>\r\n",
       "<path fill=\"none\" stroke=\"#0000ff\" d=\"M1804.04,-524.677C1757.19,-508.996 1682.49,-484.001 1635.64,-468.321\"/>\r\n",
       "<polygon fill=\"#0000ff\" stroke=\"#0000ff\" points=\"1636.68,-464.978 1626.08,-465.123 1634.46,-471.616 1636.68,-464.978\"/>\r\n",
       "<text text-anchor=\"middle\" x=\"1770.34\" y=\"-492.8\" font-family=\"Times New Roman,serif\" font-size=\"14.00\">yes, missing</text>\r\n",
       "</g>\r\n",
       "<!-- 2 -->\r\n",
       "<g id=\"node3\" class=\"node\"><title>2</title>\r\n",
       "<ellipse fill=\"none\" stroke=\"black\" cx=\"1989.84\" cy=\"-453\" rx=\"44.393\" ry=\"18\"/>\r\n",
       "<text text-anchor=\"middle\" x=\"1989.84\" y=\"-449.3\" font-family=\"Times New Roman,serif\" font-size=\"14.00\">yr_0&lt;0.5</text>\r\n",
       "</g>\r\n",
       "<!-- 0&#45;&gt;2 -->\r\n",
       "<g id=\"edge2\" class=\"edge\"><title>0&#45;&gt;2</title>\r\n",
       "<path fill=\"none\" stroke=\"#ff0000\" d=\"M1873.74,-523.012C1897.38,-508.964 1931.84,-488.48 1957.07,-473.478\"/>\r\n",
       "<polygon fill=\"#ff0000\" stroke=\"#ff0000\" points=\"1959.11,-476.339 1965.92,-468.221 1955.53,-470.322 1959.11,-476.339\"/>\r\n",
       "<text text-anchor=\"middle\" x=\"1935.34\" y=\"-492.8\" font-family=\"Times New Roman,serif\" font-size=\"14.00\">no</text>\r\n",
       "</g>\r\n",
       "<!-- 3 -->\r\n",
       "<g id=\"node4\" class=\"node\"><title>3</title>\r\n",
       "<ellipse fill=\"none\" stroke=\"black\" cx=\"700.844\" cy=\"-366\" rx=\"61.99\" ry=\"18\"/>\r\n",
       "<text text-anchor=\"middle\" x=\"700.844\" y=\"-362.3\" font-family=\"Times New Roman,serif\" font-size=\"14.00\">season_1&lt;0.5</text>\r\n",
       "</g>\r\n",
       "<!-- 1&#45;&gt;3 -->\r\n",
       "<g id=\"edge3\" class=\"edge\"><title>1&#45;&gt;3</title>\r\n",
       "<path fill=\"none\" stroke=\"#0000ff\" d=\"M1550.12,-447.929C1407.01,-434.291 943.686,-390.141 768.648,-373.461\"/>\r\n",
       "<polygon fill=\"#0000ff\" stroke=\"#0000ff\" points=\"768.822,-369.962 758.535,-372.498 768.158,-376.93 768.822,-369.962\"/>\r\n",
       "<text text-anchor=\"middle\" x=\"1235.34\" y=\"-405.8\" font-family=\"Times New Roman,serif\" font-size=\"14.00\">yes, missing</text>\r\n",
       "</g>\r\n",
       "<!-- 4 -->\r\n",
       "<g id=\"node5\" class=\"node\"><title>4</title>\r\n",
       "<ellipse fill=\"none\" stroke=\"black\" cx=\"1592.84\" cy=\"-366\" rx=\"61.99\" ry=\"18\"/>\r\n",
       "<text text-anchor=\"middle\" x=\"1592.84\" y=\"-362.3\" font-family=\"Times New Roman,serif\" font-size=\"14.00\">season_4&lt;0.5</text>\r\n",
       "</g>\r\n",
       "<!-- 1&#45;&gt;4 -->\r\n",
       "<g id=\"edge4\" class=\"edge\"><title>1&#45;&gt;4</title>\r\n",
       "<path fill=\"none\" stroke=\"#ff0000\" d=\"M1592.84,-434.799C1592.84,-423.163 1592.84,-407.548 1592.84,-394.237\"/>\r\n",
       "<polygon fill=\"#ff0000\" stroke=\"#ff0000\" points=\"1596.34,-394.175 1592.84,-384.175 1589.34,-394.175 1596.34,-394.175\"/>\r\n",
       "<text text-anchor=\"middle\" x=\"1600.34\" y=\"-405.8\" font-family=\"Times New Roman,serif\" font-size=\"14.00\">no</text>\r\n",
       "</g>\r\n",
       "<!-- 5 -->\r\n",
       "<g id=\"node34\" class=\"node\"><title>5</title>\r\n",
       "<ellipse fill=\"none\" stroke=\"black\" cx=\"1989.84\" cy=\"-366\" rx=\"77.9862\" ry=\"18\"/>\r\n",
       "<text text-anchor=\"middle\" x=\"1989.84\" y=\"-362.3\" font-family=\"Times New Roman,serif\" font-size=\"14.00\">hum&lt;0.855625033</text>\r\n",
       "</g>\r\n",
       "<!-- 2&#45;&gt;5 -->\r\n",
       "<g id=\"edge33\" class=\"edge\"><title>2&#45;&gt;5</title>\r\n",
       "<path fill=\"none\" stroke=\"#0000ff\" d=\"M1989.84,-434.799C1989.84,-423.163 1989.84,-407.548 1989.84,-394.237\"/>\r\n",
       "<polygon fill=\"#0000ff\" stroke=\"#0000ff\" points=\"1993.34,-394.175 1989.84,-384.175 1986.34,-394.175 1993.34,-394.175\"/>\r\n",
       "<text text-anchor=\"middle\" x=\"2024.34\" y=\"-405.8\" font-family=\"Times New Roman,serif\" font-size=\"14.00\">yes, missing</text>\r\n",
       "</g>\r\n",
       "<!-- 6 -->\r\n",
       "<g id=\"node35\" class=\"node\"><title>6</title>\r\n",
       "<ellipse fill=\"none\" stroke=\"black\" cx=\"2359.84\" cy=\"-366\" rx=\"72.5877\" ry=\"18\"/>\r\n",
       "<text text-anchor=\"middle\" x=\"2359.84\" y=\"-362.3\" font-family=\"Times New Roman,serif\" font-size=\"14.00\">weathersit_3&lt;0.5</text>\r\n",
       "</g>\r\n",
       "<!-- 2&#45;&gt;6 -->\r\n",
       "<g id=\"edge34\" class=\"edge\"><title>2&#45;&gt;6</title>\r\n",
       "<path fill=\"none\" stroke=\"#ff0000\" d=\"M2027.36,-443.382C2091.09,-428.74 2221.11,-398.872 2298.32,-381.134\"/>\r\n",
       "<polygon fill=\"#ff0000\" stroke=\"#ff0000\" points=\"2299.43,-384.471 2308.39,-378.82 2297.86,-377.648 2299.43,-384.471\"/>\r\n",
       "<text text-anchor=\"middle\" x=\"2205.34\" y=\"-405.8\" font-family=\"Times New Roman,serif\" font-size=\"14.00\">no</text>\r\n",
       "</g>\r\n",
       "<!-- 7 -->\r\n",
       "<g id=\"node6\" class=\"node\"><title>7</title>\r\n",
       "<ellipse fill=\"none\" stroke=\"black\" cx=\"429.844\" cy=\"-279\" rx=\"72.5877\" ry=\"18\"/>\r\n",
       "<text text-anchor=\"middle\" x=\"429.844\" y=\"-275.3\" font-family=\"Times New Roman,serif\" font-size=\"14.00\">weathersit_3&lt;0.5</text>\r\n",
       "</g>\r\n",
       "<!-- 3&#45;&gt;7 -->\r\n",
       "<g id=\"edge5\" class=\"edge\"><title>3&#45;&gt;7</title>\r\n",
       "<path fill=\"none\" stroke=\"#0000ff\" d=\"M660.272,-352.275C612.97,-337.438 534.651,-312.873 482.647,-296.562\"/>\r\n",
       "<polygon fill=\"#0000ff\" stroke=\"#0000ff\" points=\"483.525,-293.169 472.935,-293.516 481.43,-299.848 483.525,-293.169\"/>\r\n",
       "<text text-anchor=\"middle\" x=\"616.344\" y=\"-318.8\" font-family=\"Times New Roman,serif\" font-size=\"14.00\">yes, missing</text>\r\n",
       "</g>\r\n",
       "<!-- 8 -->\r\n",
       "<g id=\"node7\" class=\"node\"><title>8</title>\r\n",
       "<ellipse fill=\"none\" stroke=\"black\" cx=\"700.844\" cy=\"-279\" rx=\"80.6858\" ry=\"18\"/>\r\n",
       "<text text-anchor=\"middle\" x=\"700.844\" y=\"-275.3\" font-family=\"Times New Roman,serif\" font-size=\"14.00\">temp&lt;0.256249994</text>\r\n",
       "</g>\r\n",
       "<!-- 3&#45;&gt;8 -->\r\n",
       "<g id=\"edge6\" class=\"edge\"><title>3&#45;&gt;8</title>\r\n",
       "<path fill=\"none\" stroke=\"#ff0000\" d=\"M700.844,-347.799C700.844,-336.163 700.844,-320.548 700.844,-307.237\"/>\r\n",
       "<polygon fill=\"#ff0000\" stroke=\"#ff0000\" points=\"704.344,-307.175 700.844,-297.175 697.344,-307.175 704.344,-307.175\"/>\r\n",
       "<text text-anchor=\"middle\" x=\"708.344\" y=\"-318.8\" font-family=\"Times New Roman,serif\" font-size=\"14.00\">no</text>\r\n",
       "</g>\r\n",
       "<!-- 9 -->\r\n",
       "<g id=\"node20\" class=\"node\"><title>9</title>\r\n",
       "<ellipse fill=\"none\" stroke=\"black\" cx=\"1473.84\" cy=\"-279\" rx=\"80.6858\" ry=\"18\"/>\r\n",
       "<text text-anchor=\"middle\" x=\"1473.84\" y=\"-275.3\" font-family=\"Times New Roman,serif\" font-size=\"14.00\">temp&lt;0.219166502</text>\r\n",
       "</g>\r\n",
       "<!-- 4&#45;&gt;9 -->\r\n",
       "<g id=\"edge19\" class=\"edge\"><title>4&#45;&gt;9</title>\r\n",
       "<path fill=\"none\" stroke=\"#0000ff\" d=\"M1570.46,-349.012C1552.08,-335.883 1525.83,-317.135 1505.33,-302.492\"/>\r\n",
       "<polygon fill=\"#0000ff\" stroke=\"#0000ff\" points=\"1507.11,-299.46 1496.94,-296.496 1503.04,-305.156 1507.11,-299.46\"/>\r\n",
       "<text text-anchor=\"middle\" x=\"1575.34\" y=\"-318.8\" font-family=\"Times New Roman,serif\" font-size=\"14.00\">yes, missing</text>\r\n",
       "</g>\r\n",
       "<!-- 10 -->\r\n",
       "<g id=\"node21\" class=\"node\"><title>10</title>\r\n",
       "<ellipse fill=\"none\" stroke=\"black\" cx=\"1722.84\" cy=\"-279\" rx=\"77.9862\" ry=\"18\"/>\r\n",
       "<text text-anchor=\"middle\" x=\"1722.84\" y=\"-275.3\" font-family=\"Times New Roman,serif\" font-size=\"14.00\">hum&lt;0.894791484</text>\r\n",
       "</g>\r\n",
       "<!-- 4&#45;&gt;10 -->\r\n",
       "<g id=\"edge20\" class=\"edge\"><title>4&#45;&gt;10</title>\r\n",
       "<path fill=\"none\" stroke=\"#ff0000\" d=\"M1616.99,-349.211C1637.35,-335.903 1666.69,-316.717 1689.32,-301.92\"/>\r\n",
       "<polygon fill=\"#ff0000\" stroke=\"#ff0000\" points=\"1691.49,-304.685 1697.94,-296.283 1687.66,-298.826 1691.49,-304.685\"/>\r\n",
       "<text text-anchor=\"middle\" x=\"1673.34\" y=\"-318.8\" font-family=\"Times New Roman,serif\" font-size=\"14.00\">no</text>\r\n",
       "</g>\r\n",
       "<!-- 15 -->\r\n",
       "<g id=\"node8\" class=\"node\"><title>15</title>\r\n",
       "<ellipse fill=\"none\" stroke=\"black\" cx=\"230.844\" cy=\"-192\" rx=\"80.6858\" ry=\"18\"/>\r\n",
       "<text text-anchor=\"middle\" x=\"230.844\" y=\"-188.3\" font-family=\"Times New Roman,serif\" font-size=\"14.00\">temp&lt;0.250833005</text>\r\n",
       "</g>\r\n",
       "<!-- 7&#45;&gt;15 -->\r\n",
       "<g id=\"edge7\" class=\"edge\"><title>7&#45;&gt;15</title>\r\n",
       "<path fill=\"none\" stroke=\"#0000ff\" d=\"M394.725,-262.999C361.641,-248.868 311.915,-227.628 275.917,-212.253\"/>\r\n",
       "<polygon fill=\"#0000ff\" stroke=\"#0000ff\" points=\"277.189,-208.99 266.618,-208.28 274.439,-215.427 277.189,-208.99\"/>\r\n",
       "<text text-anchor=\"middle\" x=\"377.344\" y=\"-231.8\" font-family=\"Times New Roman,serif\" font-size=\"14.00\">yes, missing</text>\r\n",
       "</g>\r\n",
       "<!-- 16 -->\r\n",
       "<g id=\"node9\" class=\"node\"><title>16</title>\r\n",
       "<ellipse fill=\"none\" stroke=\"black\" cx=\"429.844\" cy=\"-192\" rx=\"70.6878\" ry=\"18\"/>\r\n",
       "<text text-anchor=\"middle\" x=\"429.844\" y=\"-188.3\" font-family=\"Times New Roman,serif\" font-size=\"14.00\">leaf=51.3250008</text>\r\n",
       "</g>\r\n",
       "<!-- 7&#45;&gt;16 -->\r\n",
       "<g id=\"edge8\" class=\"edge\"><title>7&#45;&gt;16</title>\r\n",
       "<path fill=\"none\" stroke=\"#ff0000\" d=\"M429.844,-260.799C429.844,-249.163 429.844,-233.548 429.844,-220.237\"/>\r\n",
       "<polygon fill=\"#ff0000\" stroke=\"#ff0000\" points=\"433.344,-220.175 429.844,-210.175 426.344,-220.175 433.344,-220.175\"/>\r\n",
       "<text text-anchor=\"middle\" x=\"437.344\" y=\"-231.8\" font-family=\"Times New Roman,serif\" font-size=\"14.00\">no</text>\r\n",
       "</g>\r\n",
       "<!-- 17 -->\r\n",
       "<g id=\"node12\" class=\"node\"><title>17</title>\r\n",
       "<ellipse fill=\"none\" stroke=\"black\" cx=\"620.844\" cy=\"-192\" rx=\"72.5877\" ry=\"18\"/>\r\n",
       "<text text-anchor=\"middle\" x=\"620.844\" y=\"-188.3\" font-family=\"Times New Roman,serif\" font-size=\"14.00\">weathersit_3&lt;0.5</text>\r\n",
       "</g>\r\n",
       "<!-- 8&#45;&gt;17 -->\r\n",
       "<g id=\"edge11\" class=\"edge\"><title>8&#45;&gt;17</title>\r\n",
       "<path fill=\"none\" stroke=\"#0000ff\" d=\"M685.038,-261.207C673.205,-248.633 656.846,-231.252 643.604,-217.182\"/>\r\n",
       "<polygon fill=\"#0000ff\" stroke=\"#0000ff\" points=\"646.019,-214.642 636.616,-209.758 640.921,-219.439 646.019,-214.642\"/>\r\n",
       "<text text-anchor=\"middle\" x=\"700.344\" y=\"-231.8\" font-family=\"Times New Roman,serif\" font-size=\"14.00\">yes, missing</text>\r\n",
       "</g>\r\n",
       "<!-- 18 -->\r\n",
       "<g id=\"node13\" class=\"node\"><title>18</title>\r\n",
       "<ellipse fill=\"none\" stroke=\"black\" cx=\"780.844\" cy=\"-192\" rx=\"63.0888\" ry=\"18\"/>\r\n",
       "<text text-anchor=\"middle\" x=\"780.844\" y=\"-188.3\" font-family=\"Times New Roman,serif\" font-size=\"14.00\">holiday_0&lt;0.5</text>\r\n",
       "</g>\r\n",
       "<!-- 8&#45;&gt;18 -->\r\n",
       "<g id=\"edge12\" class=\"edge\"><title>8&#45;&gt;18</title>\r\n",
       "<path fill=\"none\" stroke=\"#ff0000\" d=\"M719.85,-261.37C726.065,-255.704 732.896,-249.226 738.844,-243 746.479,-235.008 754.391,-225.851 761.261,-217.575\"/>\r\n",
       "<polygon fill=\"#ff0000\" stroke=\"#ff0000\" points=\"764.107,-219.624 767.734,-209.67 758.691,-215.189 764.107,-219.624\"/>\r\n",
       "<text text-anchor=\"middle\" x=\"760.344\" y=\"-231.8\" font-family=\"Times New Roman,serif\" font-size=\"14.00\">no</text>\r\n",
       "</g>\r\n",
       "<!-- 27 -->\r\n",
       "<g id=\"node10\" class=\"node\"><title>27</title>\r\n",
       "<ellipse fill=\"none\" stroke=\"black\" cx=\"70.8437\" cy=\"-105\" rx=\"70.6878\" ry=\"18\"/>\r\n",
       "<text text-anchor=\"middle\" x=\"70.8437\" y=\"-101.3\" font-family=\"Times New Roman,serif\" font-size=\"14.00\">leaf=121.175003</text>\r\n",
       "</g>\r\n",
       "<!-- 15&#45;&gt;27 -->\r\n",
       "<g id=\"edge9\" class=\"edge\"><title>15&#45;&gt;27</title>\r\n",
       "<path fill=\"none\" stroke=\"#0000ff\" d=\"M197.149,-175.488C184.697,-169.588 170.531,-162.675 157.844,-156 140.574,-146.914 121.761,-136.206 106.061,-127.036\"/>\r\n",
       "<polygon fill=\"#0000ff\" stroke=\"#0000ff\" points=\"107.607,-123.885 97.2117,-121.838 104.061,-129.92 107.607,-123.885\"/>\r\n",
       "<text text-anchor=\"middle\" x=\"192.344\" y=\"-144.8\" font-family=\"Times New Roman,serif\" font-size=\"14.00\">yes, missing</text>\r\n",
       "</g>\r\n",
       "<!-- 28 -->\r\n",
       "<g id=\"node11\" class=\"node\"><title>28</title>\r\n",
       "<ellipse fill=\"none\" stroke=\"black\" cx=\"230.844\" cy=\"-105\" rx=\"70.6878\" ry=\"18\"/>\r\n",
       "<text text-anchor=\"middle\" x=\"230.844\" y=\"-101.3\" font-family=\"Times New Roman,serif\" font-size=\"14.00\">leaf=502.113525</text>\r\n",
       "</g>\r\n",
       "<!-- 15&#45;&gt;28 -->\r\n",
       "<g id=\"edge10\" class=\"edge\"><title>15&#45;&gt;28</title>\r\n",
       "<path fill=\"none\" stroke=\"#ff0000\" d=\"M230.844,-173.799C230.844,-162.163 230.844,-146.548 230.844,-133.237\"/>\r\n",
       "<polygon fill=\"#ff0000\" stroke=\"#ff0000\" points=\"234.344,-133.175 230.844,-123.175 227.344,-133.175 234.344,-133.175\"/>\r\n",
       "<text text-anchor=\"middle\" x=\"238.344\" y=\"-144.8\" font-family=\"Times New Roman,serif\" font-size=\"14.00\">no</text>\r\n",
       "</g>\r\n",
       "<!-- 29 -->\r\n",
       "<g id=\"node14\" class=\"node\"><title>29</title>\r\n",
       "<ellipse fill=\"none\" stroke=\"black\" cx=\"425.844\" cy=\"-105\" rx=\"105.881\" ry=\"18\"/>\r\n",
       "<text text-anchor=\"middle\" x=\"425.844\" y=\"-101.3\" font-family=\"Times New Roman,serif\" font-size=\"14.00\">windspeed&lt;0.0939691961</text>\r\n",
       "</g>\r\n",
       "<!-- 17&#45;&gt;29 -->\r\n",
       "<g id=\"edge13\" class=\"edge\"><title>17&#45;&gt;29</title>\r\n",
       "<path fill=\"none\" stroke=\"#0000ff\" d=\"M586.431,-175.999C554.649,-162.146 507.196,-141.461 472.108,-126.167\"/>\r\n",
       "<polygon fill=\"#0000ff\" stroke=\"#0000ff\" points=\"473.128,-122.793 462.563,-122.006 470.331,-129.21 473.128,-122.793\"/>\r\n",
       "<text text-anchor=\"middle\" x=\"570.344\" y=\"-144.8\" font-family=\"Times New Roman,serif\" font-size=\"14.00\">yes, missing</text>\r\n",
       "</g>\r\n",
       "<!-- 30 -->\r\n",
       "<g id=\"node15\" class=\"node\"><title>30</title>\r\n",
       "<ellipse fill=\"none\" stroke=\"black\" cx=\"620.844\" cy=\"-105\" rx=\"70.6878\" ry=\"18\"/>\r\n",
       "<text text-anchor=\"middle\" x=\"620.844\" y=\"-101.3\" font-family=\"Times New Roman,serif\" font-size=\"14.00\">leaf=22.0249996</text>\r\n",
       "</g>\r\n",
       "<!-- 17&#45;&gt;30 -->\r\n",
       "<g id=\"edge14\" class=\"edge\"><title>17&#45;&gt;30</title>\r\n",
       "<path fill=\"none\" stroke=\"#ff0000\" d=\"M620.844,-173.799C620.844,-162.163 620.844,-146.548 620.844,-133.237\"/>\r\n",
       "<polygon fill=\"#ff0000\" stroke=\"#ff0000\" points=\"624.344,-133.175 620.844,-123.175 617.344,-133.175 624.344,-133.175\"/>\r\n",
       "<text text-anchor=\"middle\" x=\"628.344\" y=\"-144.8\" font-family=\"Times New Roman,serif\" font-size=\"14.00\">no</text>\r\n",
       "</g>\r\n",
       "<!-- 31 -->\r\n",
       "<g id=\"node18\" class=\"node\"><title>31</title>\r\n",
       "<ellipse fill=\"none\" stroke=\"black\" cx=\"780.844\" cy=\"-105\" rx=\"70.6878\" ry=\"18\"/>\r\n",
       "<text text-anchor=\"middle\" x=\"780.844\" y=\"-101.3\" font-family=\"Times New Roman,serif\" font-size=\"14.00\">leaf=152.287506</text>\r\n",
       "</g>\r\n",
       "<!-- 18&#45;&gt;31 -->\r\n",
       "<g id=\"edge17\" class=\"edge\"><title>18&#45;&gt;31</title>\r\n",
       "<path fill=\"none\" stroke=\"#0000ff\" d=\"M780.844,-173.799C780.844,-162.163 780.844,-146.548 780.844,-133.237\"/>\r\n",
       "<polygon fill=\"#0000ff\" stroke=\"#0000ff\" points=\"784.344,-133.175 780.844,-123.175 777.344,-133.175 784.344,-133.175\"/>\r\n",
       "<text text-anchor=\"middle\" x=\"815.344\" y=\"-144.8\" font-family=\"Times New Roman,serif\" font-size=\"14.00\">yes, missing</text>\r\n",
       "</g>\r\n",
       "<!-- 32 -->\r\n",
       "<g id=\"node19\" class=\"node\"><title>32</title>\r\n",
       "<ellipse fill=\"none\" stroke=\"black\" cx=\"940.844\" cy=\"-105\" rx=\"70.6878\" ry=\"18\"/>\r\n",
       "<text text-anchor=\"middle\" x=\"940.844\" y=\"-101.3\" font-family=\"Times New Roman,serif\" font-size=\"14.00\">leaf=357.859222</text>\r\n",
       "</g>\r\n",
       "<!-- 18&#45;&gt;32 -->\r\n",
       "<g id=\"edge18\" class=\"edge\"><title>18&#45;&gt;32</title>\r\n",
       "<path fill=\"none\" stroke=\"#ff0000\" d=\"M812.72,-176.349C825.598,-170.266 840.535,-163.003 853.844,-156 871.113,-146.914 889.927,-136.206 905.627,-127.036\"/>\r\n",
       "<polygon fill=\"#ff0000\" stroke=\"#ff0000\" points=\"907.626,-129.92 914.476,-121.838 904.081,-123.885 907.626,-129.92\"/>\r\n",
       "<text text-anchor=\"middle\" x=\"888.344\" y=\"-144.8\" font-family=\"Times New Roman,serif\" font-size=\"14.00\">no</text>\r\n",
       "</g>\r\n",
       "<!-- 43 -->\r\n",
       "<g id=\"node16\" class=\"node\"><title>43</title>\r\n",
       "<ellipse fill=\"none\" stroke=\"black\" cx=\"345.844\" cy=\"-18\" rx=\"70.6878\" ry=\"18\"/>\r\n",
       "<text text-anchor=\"middle\" x=\"345.844\" y=\"-14.3\" font-family=\"Times New Roman,serif\" font-size=\"14.00\">leaf=45.9750023</text>\r\n",
       "</g>\r\n",
       "<!-- 29&#45;&gt;43 -->\r\n",
       "<g id=\"edge15\" class=\"edge\"><title>29&#45;&gt;43</title>\r\n",
       "<path fill=\"none\" stroke=\"#0000ff\" d=\"M409.655,-86.799C397.789,-74.1924 381.53,-56.9164 368.393,-42.959\"/>\r\n",
       "<polygon fill=\"#0000ff\" stroke=\"#0000ff\" points=\"370.867,-40.4802 361.464,-35.597 365.769,-45.2778 370.867,-40.4802\"/>\r\n",
       "<text text-anchor=\"middle\" x=\"425.344\" y=\"-57.8\" font-family=\"Times New Roman,serif\" font-size=\"14.00\">yes, missing</text>\r\n",
       "</g>\r\n",
       "<!-- 44 -->\r\n",
       "<g id=\"node17\" class=\"node\"><title>44</title>\r\n",
       "<ellipse fill=\"none\" stroke=\"black\" cx=\"505.844\" cy=\"-18\" rx=\"70.6878\" ry=\"18\"/>\r\n",
       "<text text-anchor=\"middle\" x=\"505.844\" y=\"-14.3\" font-family=\"Times New Roman,serif\" font-size=\"14.00\">leaf=224.084381</text>\r\n",
       "</g>\r\n",
       "<!-- 29&#45;&gt;44 -->\r\n",
       "<g id=\"edge16\" class=\"edge\"><title>29&#45;&gt;44</title>\r\n",
       "<path fill=\"none\" stroke=\"#ff0000\" d=\"M445.239,-87.015C451.349,-81.4344 458.02,-75.0962 463.844,-69 471.362,-61.1307 479.147,-52.1321 485.943,-43.9579\"/>\r\n",
       "<polygon fill=\"#ff0000\" stroke=\"#ff0000\" points=\"488.727,-46.0826 492.362,-36.1307 483.314,-41.6438 488.727,-46.0826\"/>\r\n",
       "<text text-anchor=\"middle\" x=\"485.344\" y=\"-57.8\" font-family=\"Times New Roman,serif\" font-size=\"14.00\">no</text>\r\n",
       "</g>\r\n",
       "<!-- 19 -->\r\n",
       "<g id=\"node22\" class=\"node\"><title>19</title>\r\n",
       "<ellipse fill=\"none\" stroke=\"black\" cx=\"1260.84\" cy=\"-192\" rx=\"80.6858\" ry=\"18\"/>\r\n",
       "<text text-anchor=\"middle\" x=\"1260.84\" y=\"-188.3\" font-family=\"Times New Roman,serif\" font-size=\"14.00\">temp&lt;0.216594487</text>\r\n",
       "</g>\r\n",
       "<!-- 9&#45;&gt;19 -->\r\n",
       "<g id=\"edge21\" class=\"edge\"><title>9&#45;&gt;19</title>\r\n",
       "<path fill=\"none\" stroke=\"#0000ff\" d=\"M1436.25,-262.999C1400.47,-248.72 1346.5,-227.183 1307.88,-211.771\"/>\r\n",
       "<polygon fill=\"#0000ff\" stroke=\"#0000ff\" points=\"1309,-208.449 1298.42,-207.993 1306.41,-214.951 1309,-208.449\"/>\r\n",
       "<text text-anchor=\"middle\" x=\"1415.34\" y=\"-231.8\" font-family=\"Times New Roman,serif\" font-size=\"14.00\">yes, missing</text>\r\n",
       "</g>\r\n",
       "<!-- 20 -->\r\n",
       "<g id=\"node23\" class=\"node\"><title>20</title>\r\n",
       "<ellipse fill=\"none\" stroke=\"black\" cx=\"1473.84\" cy=\"-192\" rx=\"77.9862\" ry=\"18\"/>\r\n",
       "<text text-anchor=\"middle\" x=\"1473.84\" y=\"-188.3\" font-family=\"Times New Roman,serif\" font-size=\"14.00\">hum&lt;0.933297038</text>\r\n",
       "</g>\r\n",
       "<!-- 9&#45;&gt;20 -->\r\n",
       "<g id=\"edge22\" class=\"edge\"><title>9&#45;&gt;20</title>\r\n",
       "<path fill=\"none\" stroke=\"#ff0000\" d=\"M1473.84,-260.799C1473.84,-249.163 1473.84,-233.548 1473.84,-220.237\"/>\r\n",
       "<polygon fill=\"#ff0000\" stroke=\"#ff0000\" points=\"1477.34,-220.175 1473.84,-210.175 1470.34,-220.175 1477.34,-220.175\"/>\r\n",
       "<text text-anchor=\"middle\" x=\"1481.34\" y=\"-231.8\" font-family=\"Times New Roman,serif\" font-size=\"14.00\">no</text>\r\n",
       "</g>\r\n",
       "<!-- 21 -->\r\n",
       "<g id=\"node30\" class=\"node\"><title>21</title>\r\n",
       "<ellipse fill=\"none\" stroke=\"black\" cx=\"1722.84\" cy=\"-192\" rx=\"63.0888\" ry=\"18\"/>\r\n",
       "<text text-anchor=\"middle\" x=\"1722.84\" y=\"-188.3\" font-family=\"Times New Roman,serif\" font-size=\"14.00\">holiday_0&lt;0.5</text>\r\n",
       "</g>\r\n",
       "<!-- 10&#45;&gt;21 -->\r\n",
       "<g id=\"edge29\" class=\"edge\"><title>10&#45;&gt;21</title>\r\n",
       "<path fill=\"none\" stroke=\"#0000ff\" d=\"M1722.84,-260.799C1722.84,-249.163 1722.84,-233.548 1722.84,-220.237\"/>\r\n",
       "<polygon fill=\"#0000ff\" stroke=\"#0000ff\" points=\"1726.34,-220.175 1722.84,-210.175 1719.34,-220.175 1726.34,-220.175\"/>\r\n",
       "<text text-anchor=\"middle\" x=\"1757.34\" y=\"-231.8\" font-family=\"Times New Roman,serif\" font-size=\"14.00\">yes, missing</text>\r\n",
       "</g>\r\n",
       "<!-- 22 -->\r\n",
       "<g id=\"node31\" class=\"node\"><title>22</title>\r\n",
       "<ellipse fill=\"none\" stroke=\"black\" cx=\"1874.84\" cy=\"-192\" rx=\"70.6878\" ry=\"18\"/>\r\n",
       "<text text-anchor=\"middle\" x=\"1874.84\" y=\"-188.3\" font-family=\"Times New Roman,serif\" font-size=\"14.00\">leaf=77.0333328</text>\r\n",
       "</g>\r\n",
       "<!-- 10&#45;&gt;22 -->\r\n",
       "<g id=\"edge30\" class=\"edge\"><title>10&#45;&gt;22</title>\r\n",
       "<path fill=\"none\" stroke=\"#ff0000\" d=\"M1756.7,-262.78C1769.17,-256.911 1783.3,-249.944 1795.84,-243 1811.6,-234.275 1828.54,-223.719 1842.68,-214.559\"/>\r\n",
       "<polygon fill=\"#ff0000\" stroke=\"#ff0000\" points=\"1844.63,-217.467 1851.08,-209.065 1840.8,-211.607 1844.63,-217.467\"/>\r\n",
       "<text text-anchor=\"middle\" x=\"1828.34\" y=\"-231.8\" font-family=\"Times New Roman,serif\" font-size=\"14.00\">no</text>\r\n",
       "</g>\r\n",
       "<!-- 33 -->\r\n",
       "<g id=\"node24\" class=\"node\"><title>33</title>\r\n",
       "<ellipse fill=\"none\" stroke=\"black\" cx=\"1100.84\" cy=\"-105\" rx=\"70.6878\" ry=\"18\"/>\r\n",
       "<text text-anchor=\"middle\" x=\"1100.84\" y=\"-101.3\" font-family=\"Times New Roman,serif\" font-size=\"14.00\">leaf=122.915909</text>\r\n",
       "</g>\r\n",
       "<!-- 19&#45;&gt;33 -->\r\n",
       "<g id=\"edge23\" class=\"edge\"><title>19&#45;&gt;33</title>\r\n",
       "<path fill=\"none\" stroke=\"#0000ff\" d=\"M1227.15,-175.488C1214.7,-169.588 1200.53,-162.675 1187.84,-156 1170.57,-146.914 1151.76,-136.206 1136.06,-127.036\"/>\r\n",
       "<polygon fill=\"#0000ff\" stroke=\"#0000ff\" points=\"1137.61,-123.885 1127.21,-121.838 1134.06,-129.92 1137.61,-123.885\"/>\r\n",
       "<text text-anchor=\"middle\" x=\"1222.34\" y=\"-144.8\" font-family=\"Times New Roman,serif\" font-size=\"14.00\">yes, missing</text>\r\n",
       "</g>\r\n",
       "<!-- 34 -->\r\n",
       "<g id=\"node25\" class=\"node\"><title>34</title>\r\n",
       "<ellipse fill=\"none\" stroke=\"black\" cx=\"1260.84\" cy=\"-105\" rx=\"70.6878\" ry=\"18\"/>\r\n",
       "<text text-anchor=\"middle\" x=\"1260.84\" y=\"-101.3\" font-family=\"Times New Roman,serif\" font-size=\"14.00\">leaf=39.6000023</text>\r\n",
       "</g>\r\n",
       "<!-- 19&#45;&gt;34 -->\r\n",
       "<g id=\"edge24\" class=\"edge\"><title>19&#45;&gt;34</title>\r\n",
       "<path fill=\"none\" stroke=\"#ff0000\" d=\"M1260.84,-173.799C1260.84,-162.163 1260.84,-146.548 1260.84,-133.237\"/>\r\n",
       "<polygon fill=\"#ff0000\" stroke=\"#ff0000\" points=\"1264.34,-133.175 1260.84,-123.175 1257.34,-133.175 1264.34,-133.175\"/>\r\n",
       "<text text-anchor=\"middle\" x=\"1268.34\" y=\"-144.8\" font-family=\"Times New Roman,serif\" font-size=\"14.00\">no</text>\r\n",
       "</g>\r\n",
       "<!-- 35 -->\r\n",
       "<g id=\"node26\" class=\"node\"><title>35</title>\r\n",
       "<ellipse fill=\"none\" stroke=\"black\" cx=\"1429.84\" cy=\"-105\" rx=\"80.6858\" ry=\"18\"/>\r\n",
       "<text text-anchor=\"middle\" x=\"1429.84\" y=\"-101.3\" font-family=\"Times New Roman,serif\" font-size=\"14.00\">temp&lt;0.430634022</text>\r\n",
       "</g>\r\n",
       "<!-- 20&#45;&gt;35 -->\r\n",
       "<g id=\"edge25\" class=\"edge\"><title>20&#45;&gt;35</title>\r\n",
       "<path fill=\"none\" stroke=\"#0000ff\" d=\"M1464.94,-173.799C1458.74,-161.817 1450.35,-145.617 1443.33,-132.057\"/>\r\n",
       "<polygon fill=\"#0000ff\" stroke=\"#0000ff\" points=\"1446.44,-130.447 1438.73,-123.175 1440.22,-133.665 1446.44,-130.447\"/>\r\n",
       "<text text-anchor=\"middle\" x=\"1489.34\" y=\"-144.8\" font-family=\"Times New Roman,serif\" font-size=\"14.00\">yes, missing</text>\r\n",
       "</g>\r\n",
       "<!-- 36 -->\r\n",
       "<g id=\"node27\" class=\"node\"><title>36</title>\r\n",
       "<ellipse fill=\"none\" stroke=\"black\" cx=\"1598.84\" cy=\"-105\" rx=\"70.6878\" ry=\"18\"/>\r\n",
       "<text text-anchor=\"middle\" x=\"1598.84\" y=\"-101.3\" font-family=\"Times New Roman,serif\" font-size=\"14.00\">leaf=30.2250004</text>\r\n",
       "</g>\r\n",
       "<!-- 20&#45;&gt;36 -->\r\n",
       "<g id=\"edge26\" class=\"edge\"><title>20&#45;&gt;36</title>\r\n",
       "<path fill=\"none\" stroke=\"#ff0000\" d=\"M1499.25,-174.818C1508.32,-168.965 1518.59,-162.256 1527.84,-156 1541.14,-147.015 1555.65,-136.858 1568.07,-128.057\"/>\r\n",
       "<polygon fill=\"#ff0000\" stroke=\"#ff0000\" points=\"1570.17,-130.858 1576.3,-122.211 1566.12,-125.152 1570.17,-130.858\"/>\r\n",
       "<text text-anchor=\"middle\" x=\"1557.34\" y=\"-144.8\" font-family=\"Times New Roman,serif\" font-size=\"14.00\">no</text>\r\n",
       "</g>\r\n",
       "<!-- 45 -->\r\n",
       "<g id=\"node28\" class=\"node\"><title>45</title>\r\n",
       "<ellipse fill=\"none\" stroke=\"black\" cx=\"1349.84\" cy=\"-18\" rx=\"70.6878\" ry=\"18\"/>\r\n",
       "<text text-anchor=\"middle\" x=\"1349.84\" y=\"-14.3\" font-family=\"Times New Roman,serif\" font-size=\"14.00\">leaf=187.430557</text>\r\n",
       "</g>\r\n",
       "<!-- 35&#45;&gt;45 -->\r\n",
       "<g id=\"edge27\" class=\"edge\"><title>35&#45;&gt;45</title>\r\n",
       "<path fill=\"none\" stroke=\"#0000ff\" d=\"M1414.04,-87.2067C1402.2,-74.6335 1385.85,-57.252 1372.6,-43.1825\"/>\r\n",
       "<polygon fill=\"#0000ff\" stroke=\"#0000ff\" points=\"1375.02,-40.6416 1365.62,-35.7584 1369.92,-45.4392 1375.02,-40.6416\"/>\r\n",
       "<text text-anchor=\"middle\" x=\"1429.34\" y=\"-57.8\" font-family=\"Times New Roman,serif\" font-size=\"14.00\">yes, missing</text>\r\n",
       "</g>\r\n",
       "<!-- 46 -->\r\n",
       "<g id=\"node29\" class=\"node\"><title>46</title>\r\n",
       "<ellipse fill=\"none\" stroke=\"black\" cx=\"1509.84\" cy=\"-18\" rx=\"70.6878\" ry=\"18\"/>\r\n",
       "<text text-anchor=\"middle\" x=\"1509.84\" y=\"-14.3\" font-family=\"Times New Roman,serif\" font-size=\"14.00\">leaf=39.7250023</text>\r\n",
       "</g>\r\n",
       "<!-- 35&#45;&gt;46 -->\r\n",
       "<g id=\"edge28\" class=\"edge\"><title>35&#45;&gt;46</title>\r\n",
       "<path fill=\"none\" stroke=\"#ff0000\" d=\"M1448.85,-87.3702C1455.07,-81.7042 1461.9,-75.2259 1467.84,-69 1475.36,-61.1307 1483.15,-52.1321 1489.94,-43.9579\"/>\r\n",
       "<polygon fill=\"#ff0000\" stroke=\"#ff0000\" points=\"1492.73,-46.0826 1496.36,-36.1307 1487.31,-41.6438 1492.73,-46.0826\"/>\r\n",
       "<text text-anchor=\"middle\" x=\"1489.34\" y=\"-57.8\" font-family=\"Times New Roman,serif\" font-size=\"14.00\">no</text>\r\n",
       "</g>\r\n",
       "<!-- 37 -->\r\n",
       "<g id=\"node32\" class=\"node\"><title>37</title>\r\n",
       "<ellipse fill=\"none\" stroke=\"black\" cx=\"1758.84\" cy=\"-105\" rx=\"70.6878\" ry=\"18\"/>\r\n",
       "<text text-anchor=\"middle\" x=\"1758.84\" y=\"-101.3\" font-family=\"Times New Roman,serif\" font-size=\"14.00\">leaf=74.7249985</text>\r\n",
       "</g>\r\n",
       "<!-- 21&#45;&gt;37 -->\r\n",
       "<g id=\"edge31\" class=\"edge\"><title>21&#45;&gt;37</title>\r\n",
       "<path fill=\"none\" stroke=\"#0000ff\" d=\"M1730.13,-173.799C1735.15,-161.932 1741.93,-145.928 1747.64,-132.449\"/>\r\n",
       "<polygon fill=\"#0000ff\" stroke=\"#0000ff\" points=\"1750.89,-133.749 1751.57,-123.175 1744.45,-131.019 1750.89,-133.749\"/>\r\n",
       "<text text-anchor=\"middle\" x=\"1778.34\" y=\"-144.8\" font-family=\"Times New Roman,serif\" font-size=\"14.00\">yes, missing</text>\r\n",
       "</g>\r\n",
       "<!-- 38 -->\r\n",
       "<g id=\"node33\" class=\"node\"><title>38</title>\r\n",
       "<ellipse fill=\"none\" stroke=\"black\" cx=\"1918.84\" cy=\"-105\" rx=\"70.6878\" ry=\"18\"/>\r\n",
       "<text text-anchor=\"middle\" x=\"1918.84\" y=\"-101.3\" font-family=\"Times New Roman,serif\" font-size=\"14.00\">leaf=349.977936</text>\r\n",
       "</g>\r\n",
       "<!-- 21&#45;&gt;38 -->\r\n",
       "<g id=\"edge32\" class=\"edge\"><title>21&#45;&gt;38</title>\r\n",
       "<path fill=\"none\" stroke=\"#ff0000\" d=\"M1761.6,-177.549C1778.69,-171.367 1798.93,-163.705 1816.84,-156 1838.08,-146.869 1861.25,-135.619 1880.13,-126.104\"/>\r\n",
       "<polygon fill=\"#ff0000\" stroke=\"#ff0000\" points=\"1881.97,-129.095 1889.3,-121.449 1878.8,-122.853 1881.97,-129.095\"/>\r\n",
       "<text text-anchor=\"middle\" x=\"1856.34\" y=\"-144.8\" font-family=\"Times New Roman,serif\" font-size=\"14.00\">no</text>\r\n",
       "</g>\r\n",
       "<!-- 11 -->\r\n",
       "<g id=\"node36\" class=\"node\"><title>11</title>\r\n",
       "<ellipse fill=\"none\" stroke=\"black\" cx=\"1919.84\" cy=\"-279\" rx=\"70.6878\" ry=\"18\"/>\r\n",
       "<text text-anchor=\"middle\" x=\"1919.84\" y=\"-275.3\" font-family=\"Times New Roman,serif\" font-size=\"14.00\">leaf=666.487915</text>\r\n",
       "</g>\r\n",
       "<!-- 5&#45;&gt;11 -->\r\n",
       "<g id=\"edge35\" class=\"edge\"><title>5&#45;&gt;11</title>\r\n",
       "<path fill=\"none\" stroke=\"#0000ff\" d=\"M1976.01,-348.207C1965.76,-335.75 1951.61,-318.573 1940.08,-304.574\"/>\r\n",
       "<polygon fill=\"#0000ff\" stroke=\"#0000ff\" points=\"1942.7,-302.253 1933.64,-296.758 1937.3,-306.703 1942.7,-302.253\"/>\r\n",
       "<text text-anchor=\"middle\" x=\"1994.34\" y=\"-318.8\" font-family=\"Times New Roman,serif\" font-size=\"14.00\">yes, missing</text>\r\n",
       "</g>\r\n",
       "<!-- 12 -->\r\n",
       "<g id=\"node37\" class=\"node\"><title>12</title>\r\n",
       "<ellipse fill=\"none\" stroke=\"black\" cx=\"2109.84\" cy=\"-279\" rx=\"101.282\" ry=\"18\"/>\r\n",
       "<text text-anchor=\"middle\" x=\"2109.84\" y=\"-275.3\" font-family=\"Times New Roman,serif\" font-size=\"14.00\">windspeed&lt;0.357893527</text>\r\n",
       "</g>\r\n",
       "<!-- 5&#45;&gt;12 -->\r\n",
       "<g id=\"edge36\" class=\"edge\"><title>5&#45;&gt;12</title>\r\n",
       "<path fill=\"none\" stroke=\"#ff0000\" d=\"M2012.98,-348.611C2031.45,-335.525 2057.54,-317.048 2077.99,-302.564\"/>\r\n",
       "<polygon fill=\"#ff0000\" stroke=\"#ff0000\" points=\"2080.23,-305.265 2086.37,-296.629 2076.18,-299.553 2080.23,-305.265\"/>\r\n",
       "<text text-anchor=\"middle\" x=\"2065.34\" y=\"-318.8\" font-family=\"Times New Roman,serif\" font-size=\"14.00\">no</text>\r\n",
       "</g>\r\n",
       "<!-- 13 -->\r\n",
       "<g id=\"node40\" class=\"node\"><title>13</title>\r\n",
       "<ellipse fill=\"none\" stroke=\"black\" cx=\"2359.84\" cy=\"-279\" rx=\"101.282\" ry=\"18\"/>\r\n",
       "<text text-anchor=\"middle\" x=\"2359.84\" y=\"-275.3\" font-family=\"Times New Roman,serif\" font-size=\"14.00\">windspeed&lt;0.355417013</text>\r\n",
       "</g>\r\n",
       "<!-- 6&#45;&gt;13 -->\r\n",
       "<g id=\"edge39\" class=\"edge\"><title>6&#45;&gt;13</title>\r\n",
       "<path fill=\"none\" stroke=\"#0000ff\" d=\"M2359.84,-347.799C2359.84,-336.163 2359.84,-320.548 2359.84,-307.237\"/>\r\n",
       "<polygon fill=\"#0000ff\" stroke=\"#0000ff\" points=\"2363.34,-307.175 2359.84,-297.175 2356.34,-307.175 2363.34,-307.175\"/>\r\n",
       "<text text-anchor=\"middle\" x=\"2394.34\" y=\"-318.8\" font-family=\"Times New Roman,serif\" font-size=\"14.00\">yes, missing</text>\r\n",
       "</g>\r\n",
       "<!-- 14 -->\r\n",
       "<g id=\"node41\" class=\"node\"><title>14</title>\r\n",
       "<ellipse fill=\"none\" stroke=\"black\" cx=\"2549.84\" cy=\"-279\" rx=\"70.6878\" ry=\"18\"/>\r\n",
       "<text text-anchor=\"middle\" x=\"2549.84\" y=\"-275.3\" font-family=\"Times New Roman,serif\" font-size=\"14.00\">leaf=199.581253</text>\r\n",
       "</g>\r\n",
       "<!-- 6&#45;&gt;14 -->\r\n",
       "<g id=\"edge40\" class=\"edge\"><title>6&#45;&gt;14</title>\r\n",
       "<path fill=\"none\" stroke=\"#ff0000\" d=\"M2393.37,-349.999C2425.02,-335.841 2472.62,-314.547 2507.01,-299.165\"/>\r\n",
       "<polygon fill=\"#ff0000\" stroke=\"#ff0000\" points=\"2508.63,-302.272 2516.33,-294.993 2505.77,-295.882 2508.63,-302.272\"/>\r\n",
       "<text text-anchor=\"middle\" x=\"2474.34\" y=\"-318.8\" font-family=\"Times New Roman,serif\" font-size=\"14.00\">no</text>\r\n",
       "</g>\r\n",
       "<!-- 23 -->\r\n",
       "<g id=\"node38\" class=\"node\"><title>23</title>\r\n",
       "<ellipse fill=\"none\" stroke=\"black\" cx=\"2034.84\" cy=\"-192\" rx=\"70.6878\" ry=\"18\"/>\r\n",
       "<text text-anchor=\"middle\" x=\"2034.84\" y=\"-188.3\" font-family=\"Times New Roman,serif\" font-size=\"14.00\">leaf=381.514282</text>\r\n",
       "</g>\r\n",
       "<!-- 12&#45;&gt;23 -->\r\n",
       "<g id=\"edge37\" class=\"edge\"><title>12&#45;&gt;23</title>\r\n",
       "<path fill=\"none\" stroke=\"#0000ff\" d=\"M2094.67,-260.799C2083.72,-248.39 2068.78,-231.458 2056.57,-217.618\"/>\r\n",
       "<polygon fill=\"#0000ff\" stroke=\"#0000ff\" points=\"2058.98,-215.068 2049.74,-209.885 2053.73,-219.699 2058.98,-215.068\"/>\r\n",
       "<text text-anchor=\"middle\" x=\"2111.34\" y=\"-231.8\" font-family=\"Times New Roman,serif\" font-size=\"14.00\">yes, missing</text>\r\n",
       "</g>\r\n",
       "<!-- 24 -->\r\n",
       "<g id=\"node39\" class=\"node\"><title>24</title>\r\n",
       "<ellipse fill=\"none\" stroke=\"black\" cx=\"2194.84\" cy=\"-192\" rx=\"70.6878\" ry=\"18\"/>\r\n",
       "<text text-anchor=\"middle\" x=\"2194.84\" y=\"-188.3\" font-family=\"Times New Roman,serif\" font-size=\"14.00\">leaf=1.07500005</text>\r\n",
       "</g>\r\n",
       "<!-- 12&#45;&gt;24 -->\r\n",
       "<g id=\"edge38\" class=\"edge\"><title>12&#45;&gt;24</title>\r\n",
       "<path fill=\"none\" stroke=\"#ff0000\" d=\"M2130.21,-261.008C2136.63,-255.427 2143.67,-249.09 2149.84,-243 2158.04,-234.922 2166.59,-225.656 2174.01,-217.314\"/>\r\n",
       "<polygon fill=\"#ff0000\" stroke=\"#ff0000\" points=\"2176.76,-219.489 2180.73,-209.667 2171.5,-214.868 2176.76,-219.489\"/>\r\n",
       "<text text-anchor=\"middle\" x=\"2172.34\" y=\"-231.8\" font-family=\"Times New Roman,serif\" font-size=\"14.00\">no</text>\r\n",
       "</g>\r\n",
       "<!-- 25 -->\r\n",
       "<g id=\"node42\" class=\"node\"><title>25</title>\r\n",
       "<ellipse fill=\"none\" stroke=\"black\" cx=\"2359.84\" cy=\"-192\" rx=\"76.0865\" ry=\"18\"/>\r\n",
       "<text text-anchor=\"middle\" x=\"2359.84\" y=\"-188.3\" font-family=\"Times New Roman,serif\" font-size=\"14.00\">temp&lt;0.45875001</text>\r\n",
       "</g>\r\n",
       "<!-- 13&#45;&gt;25 -->\r\n",
       "<g id=\"edge41\" class=\"edge\"><title>13&#45;&gt;25</title>\r\n",
       "<path fill=\"none\" stroke=\"#0000ff\" d=\"M2359.84,-260.799C2359.84,-249.163 2359.84,-233.548 2359.84,-220.237\"/>\r\n",
       "<polygon fill=\"#0000ff\" stroke=\"#0000ff\" points=\"2363.34,-220.175 2359.84,-210.175 2356.34,-220.175 2363.34,-220.175\"/>\r\n",
       "<text text-anchor=\"middle\" x=\"2394.34\" y=\"-231.8\" font-family=\"Times New Roman,serif\" font-size=\"14.00\">yes, missing</text>\r\n",
       "</g>\r\n",
       "<!-- 26 -->\r\n",
       "<g id=\"node43\" class=\"node\"><title>26</title>\r\n",
       "<ellipse fill=\"none\" stroke=\"black\" cx=\"2534.84\" cy=\"-192\" rx=\"80.6858\" ry=\"18\"/>\r\n",
       "<text text-anchor=\"middle\" x=\"2534.84\" y=\"-188.3\" font-family=\"Times New Roman,serif\" font-size=\"14.00\">temp&lt;0.626666546</text>\r\n",
       "</g>\r\n",
       "<!-- 13&#45;&gt;26 -->\r\n",
       "<g id=\"edge42\" class=\"edge\"><title>13&#45;&gt;26</title>\r\n",
       "<path fill=\"none\" stroke=\"#ff0000\" d=\"M2393.67,-261.856C2406.01,-255.947 2420.07,-249.193 2432.84,-243 2453.03,-233.211 2475.43,-222.247 2494.07,-213.086\"/>\r\n",
       "<polygon fill=\"#ff0000\" stroke=\"#ff0000\" points=\"2495.75,-216.164 2503.18,-208.611 2492.66,-209.882 2495.75,-216.164\"/>\r\n",
       "<text text-anchor=\"middle\" x=\"2469.34\" y=\"-231.8\" font-family=\"Times New Roman,serif\" font-size=\"14.00\">no</text>\r\n",
       "</g>\r\n",
       "<!-- 39 -->\r\n",
       "<g id=\"node44\" class=\"node\"><title>39</title>\r\n",
       "<ellipse fill=\"none\" stroke=\"black\" cx=\"2206.84\" cy=\"-105\" rx=\"70.6878\" ry=\"18\"/>\r\n",
       "<text text-anchor=\"middle\" x=\"2206.84\" y=\"-101.3\" font-family=\"Times New Roman,serif\" font-size=\"14.00\">leaf=268.314301</text>\r\n",
       "</g>\r\n",
       "<!-- 25&#45;&gt;39 -->\r\n",
       "<g id=\"edge43\" class=\"edge\"><title>25&#45;&gt;39</title>\r\n",
       "<path fill=\"none\" stroke=\"#0000ff\" d=\"M2328.35,-175.587C2316.5,-169.64 2302.96,-162.671 2290.84,-156 2274.47,-146.986 2256.63,-136.474 2241.63,-127.42\"/>\r\n",
       "<polygon fill=\"#0000ff\" stroke=\"#0000ff\" points=\"2243.05,-124.191 2232.69,-121.998 2239.42,-130.177 2243.05,-124.191\"/>\r\n",
       "<text text-anchor=\"middle\" x=\"2325.34\" y=\"-144.8\" font-family=\"Times New Roman,serif\" font-size=\"14.00\">yes, missing</text>\r\n",
       "</g>\r\n",
       "<!-- 40 -->\r\n",
       "<g id=\"node45\" class=\"node\"><title>40</title>\r\n",
       "<ellipse fill=\"none\" stroke=\"black\" cx=\"2368.84\" cy=\"-105\" rx=\"73.387\" ry=\"18\"/>\r\n",
       "<text text-anchor=\"middle\" x=\"2368.84\" y=\"-101.3\" font-family=\"Times New Roman,serif\" font-size=\"14.00\">hum&lt;0.94749999</text>\r\n",
       "</g>\r\n",
       "<!-- 25&#45;&gt;40 -->\r\n",
       "<g id=\"edge44\" class=\"edge\"><title>25&#45;&gt;40</title>\r\n",
       "<path fill=\"none\" stroke=\"#ff0000\" d=\"M2361.66,-173.799C2362.9,-162.163 2364.55,-146.548 2365.96,-133.237\"/>\r\n",
       "<polygon fill=\"#ff0000\" stroke=\"#ff0000\" points=\"2369.45,-133.488 2367.03,-123.175 2362.49,-132.751 2369.45,-133.488\"/>\r\n",
       "<text text-anchor=\"middle\" x=\"2373.34\" y=\"-144.8\" font-family=\"Times New Roman,serif\" font-size=\"14.00\">no</text>\r\n",
       "</g>\r\n",
       "<!-- 41 -->\r\n",
       "<g id=\"node48\" class=\"node\"><title>41</title>\r\n",
       "<ellipse fill=\"none\" stroke=\"black\" cx=\"2532.84\" cy=\"-105\" rx=\"70.6878\" ry=\"18\"/>\r\n",
       "<text text-anchor=\"middle\" x=\"2532.84\" y=\"-101.3\" font-family=\"Times New Roman,serif\" font-size=\"14.00\">leaf=260.637512</text>\r\n",
       "</g>\r\n",
       "<!-- 26&#45;&gt;41 -->\r\n",
       "<g id=\"edge47\" class=\"edge\"><title>26&#45;&gt;41</title>\r\n",
       "<path fill=\"none\" stroke=\"#0000ff\" d=\"M2534.44,-173.799C2534.17,-162.163 2533.8,-146.548 2533.48,-133.237\"/>\r\n",
       "<polygon fill=\"#0000ff\" stroke=\"#0000ff\" points=\"2536.98,-133.09 2533.25,-123.175 2529.98,-133.255 2536.98,-133.09\"/>\r\n",
       "<text text-anchor=\"middle\" x=\"2569.34\" y=\"-144.8\" font-family=\"Times New Roman,serif\" font-size=\"14.00\">yes, missing</text>\r\n",
       "</g>\r\n",
       "<!-- 42 -->\r\n",
       "<g id=\"node49\" class=\"node\"><title>42</title>\r\n",
       "<ellipse fill=\"none\" stroke=\"black\" cx=\"2692.84\" cy=\"-105\" rx=\"70.6878\" ry=\"18\"/>\r\n",
       "<text text-anchor=\"middle\" x=\"2692.84\" y=\"-101.3\" font-family=\"Times New Roman,serif\" font-size=\"14.00\">leaf=55.7250023</text>\r\n",
       "</g>\r\n",
       "<!-- 26&#45;&gt;42 -->\r\n",
       "<g id=\"edge48\" class=\"edge\"><title>26&#45;&gt;42</title>\r\n",
       "<path fill=\"none\" stroke=\"#ff0000\" d=\"M2568.58,-175.558C2581.03,-169.665 2595.19,-162.739 2607.84,-156 2624.77,-146.985 2643.16,-136.286 2658.49,-127.103\"/>\r\n",
       "<polygon fill=\"#ff0000\" stroke=\"#ff0000\" points=\"2660.37,-130.056 2667.13,-121.895 2656.75,-124.061 2660.37,-130.056\"/>\r\n",
       "<text text-anchor=\"middle\" x=\"2642.34\" y=\"-144.8\" font-family=\"Times New Roman,serif\" font-size=\"14.00\">no</text>\r\n",
       "</g>\r\n",
       "<!-- 47 -->\r\n",
       "<g id=\"node46\" class=\"node\"><title>47</title>\r\n",
       "<ellipse fill=\"none\" stroke=\"black\" cx=\"2288.84\" cy=\"-18\" rx=\"70.6878\" ry=\"18\"/>\r\n",
       "<text text-anchor=\"middle\" x=\"2288.84\" y=\"-14.3\" font-family=\"Times New Roman,serif\" font-size=\"14.00\">leaf=445.740631</text>\r\n",
       "</g>\r\n",
       "<!-- 40&#45;&gt;47 -->\r\n",
       "<g id=\"edge45\" class=\"edge\"><title>40&#45;&gt;47</title>\r\n",
       "<path fill=\"none\" stroke=\"#0000ff\" d=\"M2353.04,-87.2067C2341.2,-74.6335 2324.85,-57.252 2311.6,-43.1825\"/>\r\n",
       "<polygon fill=\"#0000ff\" stroke=\"#0000ff\" points=\"2314.02,-40.6416 2304.62,-35.7584 2308.92,-45.4392 2314.02,-40.6416\"/>\r\n",
       "<text text-anchor=\"middle\" x=\"2368.34\" y=\"-57.8\" font-family=\"Times New Roman,serif\" font-size=\"14.00\">yes, missing</text>\r\n",
       "</g>\r\n",
       "<!-- 48 -->\r\n",
       "<g id=\"node47\" class=\"node\"><title>48</title>\r\n",
       "<ellipse fill=\"none\" stroke=\"black\" cx=\"2448.84\" cy=\"-18\" rx=\"70.6878\" ry=\"18\"/>\r\n",
       "<text text-anchor=\"middle\" x=\"2448.84\" y=\"-14.3\" font-family=\"Times New Roman,serif\" font-size=\"14.00\">leaf=119.724998</text>\r\n",
       "</g>\r\n",
       "<!-- 40&#45;&gt;48 -->\r\n",
       "<g id=\"edge46\" class=\"edge\"><title>40&#45;&gt;48</title>\r\n",
       "<path fill=\"none\" stroke=\"#ff0000\" d=\"M2387.85,-87.3702C2394.07,-81.7042 2400.9,-75.2259 2406.84,-69 2414.36,-61.1307 2422.15,-52.1321 2428.94,-43.9579\"/>\r\n",
       "<polygon fill=\"#ff0000\" stroke=\"#ff0000\" points=\"2431.73,-46.0826 2435.36,-36.1307 2426.31,-41.6438 2431.73,-46.0826\"/>\r\n",
       "<text text-anchor=\"middle\" x=\"2428.34\" y=\"-57.8\" font-family=\"Times New Roman,serif\" font-size=\"14.00\">no</text>\r\n",
       "</g>\r\n",
       "</g>\r\n",
       "</svg>\r\n"
      ],
      "text/plain": [
       "<graphviz.dot.Digraph at 0x1cf43de4400>"
      ]
     },
     "execution_count": 91,
     "metadata": {},
     "output_type": "execute_result"
    }
   ],
   "source": [
    "xgb.to_graphviz(xclas)"
   ]
  },
  {
   "cell_type": "markdown",
   "metadata": {},
   "source": [
    "### 5.10 Model Output Table"
   ]
  },
  {
   "cell_type": "code",
   "execution_count": 86,
   "metadata": {},
   "outputs": [
    {
     "name": "stderr",
     "output_type": "stream",
     "text": [
      "Z:\\anaconda\\Lib\\site-packages\\xgboost\\core.py:587: FutureWarning:\n",
      "\n",
      "Series.base is deprecated and will be removed in a future version\n",
      "\n"
     ]
    },
    {
     "data": {
      "application/vnd.plotly.v1+json": {
       "config": {
        "linkText": "Export to plot.ly",
        "plotlyServerURL": "https://plot.ly",
        "showLink": false
       },
       "data": [
        {
         "colorscale": [
          [
           0,
           "#00083e"
          ],
          [
           0.5,
           "#ededee"
          ],
          [
           1,
           "#ffffff"
          ]
         ],
         "hoverinfo": "none",
         "opacity": 0.75,
         "showscale": false,
         "type": "heatmap",
         "uid": "1ef7f1e1-dbbc-4540-823e-cde5819519b9",
         "z": [
          [
           0,
           0,
           0,
           0,
           0
          ],
          [
           0.5,
           0.5,
           0.5,
           0.5,
           0.5
          ],
          [
           1,
           1,
           1,
           1,
           1
          ],
          [
           0.5,
           0.5,
           0.5,
           0.5,
           0.5
          ],
          [
           1,
           1,
           1,
           1,
           1
          ],
          [
           0.5,
           0.5,
           0.5,
           0.5,
           0.5
          ],
          [
           1,
           1,
           1,
           1,
           1
          ],
          [
           0.5,
           0.5,
           0.5,
           0.5,
           0.5
          ],
          [
           1,
           1,
           1,
           1,
           1
          ]
         ]
        }
       ],
       "layout": {
        "annotations": [
         {
          "align": "left",
          "font": {
           "color": "#ffffff"
          },
          "showarrow": false,
          "text": "<b>Model</b>",
          "x": -0.45,
          "xanchor": "left",
          "xref": "x",
          "y": 0,
          "yref": "y"
         },
         {
          "align": "left",
          "font": {
           "color": "#ffffff"
          },
          "showarrow": false,
          "text": "<b>RMSE</b>",
          "x": 0.55,
          "xanchor": "left",
          "xref": "x",
          "y": 0,
          "yref": "y"
         },
         {
          "align": "left",
          "font": {
           "color": "#ffffff"
          },
          "showarrow": false,
          "text": "<b>R^2 Score</b>",
          "x": 1.55,
          "xanchor": "left",
          "xref": "x",
          "y": 0,
          "yref": "y"
         },
         {
          "align": "left",
          "font": {
           "color": "#ffffff"
          },
          "showarrow": false,
          "text": "<b>MSE</b>",
          "x": 2.55,
          "xanchor": "left",
          "xref": "x",
          "y": 0,
          "yref": "y"
         },
         {
          "align": "left",
          "font": {
           "color": "#ffffff"
          },
          "showarrow": false,
          "text": "<b>MAPE</b>",
          "x": 3.55,
          "xanchor": "left",
          "xref": "x",
          "y": 0,
          "yref": "y"
         },
         {
          "align": "left",
          "font": {
           "color": "#000000"
          },
          "showarrow": false,
          "text": "Decision Tree",
          "x": -0.45,
          "xanchor": "left",
          "xref": "x",
          "y": 1,
          "yref": "y"
         },
         {
          "align": "left",
          "font": {
           "color": "#000000"
          },
          "showarrow": false,
          "text": "855.6598",
          "x": 0.55,
          "xanchor": "left",
          "xref": "x",
          "y": 1,
          "yref": "y"
         },
         {
          "align": "left",
          "font": {
           "color": "#000000"
          },
          "showarrow": false,
          "text": "0.8019",
          "x": 1.55,
          "xanchor": "left",
          "xref": "x",
          "y": 1,
          "yref": "y"
         },
         {
          "align": "left",
          "font": {
           "color": "#000000"
          },
          "showarrow": false,
          "text": "732153.7309",
          "x": 2.55,
          "xanchor": "left",
          "xref": "x",
          "y": 1,
          "yref": "y"
         },
         {
          "align": "left",
          "font": {
           "color": "#000000"
          },
          "showarrow": false,
          "text": "23.3139",
          "x": 3.55,
          "xanchor": "left",
          "xref": "x",
          "y": 1,
          "yref": "y"
         },
         {
          "align": "left",
          "font": {
           "color": "#000000"
          },
          "showarrow": false,
          "text": "Random Forest",
          "x": -0.45,
          "xanchor": "left",
          "xref": "x",
          "y": 2,
          "yref": "y"
         },
         {
          "align": "left",
          "font": {
           "color": "#000000"
          },
          "showarrow": false,
          "text": "636.1281",
          "x": 0.55,
          "xanchor": "left",
          "xref": "x",
          "y": 2,
          "yref": "y"
         },
         {
          "align": "left",
          "font": {
           "color": "#000000"
          },
          "showarrow": false,
          "text": "0.8905",
          "x": 1.55,
          "xanchor": "left",
          "xref": "x",
          "y": 2,
          "yref": "y"
         },
         {
          "align": "left",
          "font": {
           "color": "#000000"
          },
          "showarrow": false,
          "text": "404658.9804",
          "x": 2.55,
          "xanchor": "left",
          "xref": "x",
          "y": 2,
          "yref": "y"
         },
         {
          "align": "left",
          "font": {
           "color": "#000000"
          },
          "showarrow": false,
          "text": "16.7953",
          "x": 3.55,
          "xanchor": "left",
          "xref": "x",
          "y": 2,
          "yref": "y"
         },
         {
          "align": "left",
          "font": {
           "color": "#000000"
          },
          "showarrow": false,
          "text": "Random Forest",
          "x": -0.45,
          "xanchor": "left",
          "xref": "x",
          "y": 3,
          "yref": "y"
         },
         {
          "align": "left",
          "font": {
           "color": "#000000"
          },
          "showarrow": false,
          "text": "663.7727",
          "x": 0.55,
          "xanchor": "left",
          "xref": "x",
          "y": 3,
          "yref": "y"
         },
         {
          "align": "left",
          "font": {
           "color": "#000000"
          },
          "showarrow": false,
          "text": "0.8808",
          "x": 1.55,
          "xanchor": "left",
          "xref": "x",
          "y": 3,
          "yref": "y"
         },
         {
          "align": "left",
          "font": {
           "color": "#000000"
          },
          "showarrow": false,
          "text": "440594.2567",
          "x": 2.55,
          "xanchor": "left",
          "xref": "x",
          "y": 3,
          "yref": "y"
         },
         {
          "align": "left",
          "font": {
           "color": "#000000"
          },
          "showarrow": false,
          "text": "16.8065",
          "x": 3.55,
          "xanchor": "left",
          "xref": "x",
          "y": 3,
          "yref": "y"
         },
         {
          "align": "left",
          "font": {
           "color": "#000000"
          },
          "showarrow": false,
          "text": "Linear Regression",
          "x": -0.45,
          "xanchor": "left",
          "xref": "x",
          "y": 4,
          "yref": "y"
         },
         {
          "align": "left",
          "font": {
           "color": "#000000"
          },
          "showarrow": false,
          "text": "772.882",
          "x": 0.55,
          "xanchor": "left",
          "xref": "x",
          "y": 4,
          "yref": "y"
         },
         {
          "align": "left",
          "font": {
           "color": "#000000"
          },
          "showarrow": false,
          "text": "0.8384",
          "x": 1.55,
          "xanchor": "left",
          "xref": "x",
          "y": 4,
          "yref": "y"
         },
         {
          "align": "left",
          "font": {
           "color": "#000000"
          },
          "showarrow": false,
          "text": "597346.5169",
          "x": 2.55,
          "xanchor": "left",
          "xref": "x",
          "y": 4,
          "yref": "y"
         },
         {
          "align": "left",
          "font": {
           "color": "#000000"
          },
          "showarrow": false,
          "text": "17.2486",
          "x": 3.55,
          "xanchor": "left",
          "xref": "x",
          "y": 4,
          "yref": "y"
         },
         {
          "align": "left",
          "font": {
           "color": "#000000"
          },
          "showarrow": false,
          "text": "K Nearest Neighbour Regression",
          "x": -0.45,
          "xanchor": "left",
          "xref": "x",
          "y": 5,
          "yref": "y"
         },
         {
          "align": "left",
          "font": {
           "color": "#000000"
          },
          "showarrow": false,
          "text": "1091.2167",
          "x": 0.55,
          "xanchor": "left",
          "xref": "x",
          "y": 5,
          "yref": "y"
         },
         {
          "align": "left",
          "font": {
           "color": "#000000"
          },
          "showarrow": false,
          "text": "0.6778",
          "x": 1.55,
          "xanchor": "left",
          "xref": "x",
          "y": 5,
          "yref": "y"
         },
         {
          "align": "left",
          "font": {
           "color": "#000000"
          },
          "showarrow": false,
          "text": "1190753.9184",
          "x": 2.55,
          "xanchor": "left",
          "xref": "x",
          "y": 5,
          "yref": "y"
         },
         {
          "align": "left",
          "font": {
           "color": "#000000"
          },
          "showarrow": false,
          "text": "24.1196",
          "x": 3.55,
          "xanchor": "left",
          "xref": "x",
          "y": 5,
          "yref": "y"
         },
         {
          "align": "left",
          "font": {
           "color": "#000000"
          },
          "showarrow": false,
          "text": "XGBoost",
          "x": -0.45,
          "xanchor": "left",
          "xref": "x",
          "y": 6,
          "yref": "y"
         },
         {
          "align": "left",
          "font": {
           "color": "#000000"
          },
          "showarrow": false,
          "text": "619.5446",
          "x": 0.55,
          "xanchor": "left",
          "xref": "x",
          "y": 6,
          "yref": "y"
         },
         {
          "align": "left",
          "font": {
           "color": "#000000"
          },
          "showarrow": false,
          "text": "0.8961",
          "x": 1.55,
          "xanchor": "left",
          "xref": "x",
          "y": 6,
          "yref": "y"
         },
         {
          "align": "left",
          "font": {
           "color": "#000000"
          },
          "showarrow": false,
          "text": "383835.48",
          "x": 2.55,
          "xanchor": "left",
          "xref": "x",
          "y": 6,
          "yref": "y"
         },
         {
          "align": "left",
          "font": {
           "color": "#000000"
          },
          "showarrow": false,
          "text": "14.8043",
          "x": 3.55,
          "xanchor": "left",
          "xref": "x",
          "y": 6,
          "yref": "y"
         },
         {
          "align": "left",
          "font": {
           "color": "#000000"
          },
          "showarrow": false,
          "text": "Ridge Regression",
          "x": -0.45,
          "xanchor": "left",
          "xref": "x",
          "y": 7,
          "yref": "y"
         },
         {
          "align": "left",
          "font": {
           "color": "#000000"
          },
          "showarrow": false,
          "text": "779.6082",
          "x": 0.55,
          "xanchor": "left",
          "xref": "x",
          "y": 7,
          "yref": "y"
         },
         {
          "align": "left",
          "font": {
           "color": "#000000"
          },
          "showarrow": false,
          "text": "0.8355",
          "x": 1.55,
          "xanchor": "left",
          "xref": "x",
          "y": 7,
          "yref": "y"
         },
         {
          "align": "left",
          "font": {
           "color": "#000000"
          },
          "showarrow": false,
          "text": "607788.9867",
          "x": 2.55,
          "xanchor": "left",
          "xref": "x",
          "y": 7,
          "yref": "y"
         },
         {
          "align": "left",
          "font": {
           "color": "#000000"
          },
          "showarrow": false,
          "text": "17.3351",
          "x": 3.55,
          "xanchor": "left",
          "xref": "x",
          "y": 7,
          "yref": "y"
         },
         {
          "align": "left",
          "font": {
           "color": "#000000"
          },
          "showarrow": false,
          "text": "LASSO Regression",
          "x": -0.45,
          "xanchor": "left",
          "xref": "x",
          "y": 8,
          "yref": "y"
         },
         {
          "align": "left",
          "font": {
           "color": "#000000"
          },
          "showarrow": false,
          "text": "770.7714",
          "x": 0.55,
          "xanchor": "left",
          "xref": "x",
          "y": 8,
          "yref": "y"
         },
         {
          "align": "left",
          "font": {
           "color": "#000000"
          },
          "showarrow": false,
          "text": "0.8392",
          "x": 1.55,
          "xanchor": "left",
          "xref": "x",
          "y": 8,
          "yref": "y"
         },
         {
          "align": "left",
          "font": {
           "color": "#000000"
          },
          "showarrow": false,
          "text": "594088.5284",
          "x": 2.55,
          "xanchor": "left",
          "xref": "x",
          "y": 8,
          "yref": "y"
         },
         {
          "align": "left",
          "font": {
           "color": "#000000"
          },
          "showarrow": false,
          "text": "16.9345",
          "x": 3.55,
          "xanchor": "left",
          "xref": "x",
          "y": 8,
          "yref": "y"
         }
        ],
        "height": 320,
        "margin": {
         "b": 0,
         "l": 0,
         "r": 0,
         "t": 0
        },
        "xaxis": {
         "dtick": 1,
         "gridwidth": 2,
         "showticklabels": false,
         "tick0": -0.5,
         "ticks": "",
         "zeroline": false
        },
        "yaxis": {
         "autorange": "reversed",
         "dtick": 1,
         "gridwidth": 2,
         "showticklabels": false,
         "tick0": 0.5,
         "ticks": "",
         "zeroline": false
        }
       }
      },
      "text/html": [
       "<div id=\"cc1f4276-bfea-4047-b0bc-33e2be6fb488\" style=\"height: 320px; width: 100%;\" class=\"plotly-graph-div\"></div><script type=\"text/javascript\">require([\"plotly\"], function(Plotly) { window.PLOTLYENV=window.PLOTLYENV || {};window.PLOTLYENV.BASE_URL=\"https://plot.ly\";Plotly.newPlot(\"cc1f4276-bfea-4047-b0bc-33e2be6fb488\", [{\"colorscale\": [[0, \"#00083e\"], [0.5, \"#ededee\"], [1, \"#ffffff\"]], \"hoverinfo\": \"none\", \"opacity\": 0.75, \"showscale\": false, \"z\": [[0, 0, 0, 0, 0], [0.5, 0.5, 0.5, 0.5, 0.5], [1, 1, 1, 1, 1], [0.5, 0.5, 0.5, 0.5, 0.5], [1, 1, 1, 1, 1], [0.5, 0.5, 0.5, 0.5, 0.5], [1, 1, 1, 1, 1], [0.5, 0.5, 0.5, 0.5, 0.5], [1, 1, 1, 1, 1]], \"type\": \"heatmap\", \"uid\": \"1ef7f1e1-dbbc-4540-823e-cde5819519b9\"}], {\"annotations\": [{\"align\": \"left\", \"font\": {\"color\": \"#ffffff\"}, \"showarrow\": false, \"text\": \"<b>Model</b>\", \"x\": -0.45, \"xanchor\": \"left\", \"xref\": \"x\", \"y\": 0, \"yref\": \"y\"}, {\"align\": \"left\", \"font\": {\"color\": \"#ffffff\"}, \"showarrow\": false, \"text\": \"<b>RMSE</b>\", \"x\": 0.55, \"xanchor\": \"left\", \"xref\": \"x\", \"y\": 0, \"yref\": \"y\"}, {\"align\": \"left\", \"font\": {\"color\": \"#ffffff\"}, \"showarrow\": false, \"text\": \"<b>R^2 Score</b>\", \"x\": 1.55, \"xanchor\": \"left\", \"xref\": \"x\", \"y\": 0, \"yref\": \"y\"}, {\"align\": \"left\", \"font\": {\"color\": \"#ffffff\"}, \"showarrow\": false, \"text\": \"<b>MSE</b>\", \"x\": 2.55, \"xanchor\": \"left\", \"xref\": \"x\", \"y\": 0, \"yref\": \"y\"}, {\"align\": \"left\", \"font\": {\"color\": \"#ffffff\"}, \"showarrow\": false, \"text\": \"<b>MAPE</b>\", \"x\": 3.55, \"xanchor\": \"left\", \"xref\": \"x\", \"y\": 0, \"yref\": \"y\"}, {\"align\": \"left\", \"font\": {\"color\": \"#000000\"}, \"showarrow\": false, \"text\": \"Decision Tree\", \"x\": -0.45, \"xanchor\": \"left\", \"xref\": \"x\", \"y\": 1, \"yref\": \"y\"}, {\"align\": \"left\", \"font\": {\"color\": \"#000000\"}, \"showarrow\": false, \"text\": \"855.6598\", \"x\": 0.55, \"xanchor\": \"left\", \"xref\": \"x\", \"y\": 1, \"yref\": \"y\"}, {\"align\": \"left\", \"font\": {\"color\": \"#000000\"}, \"showarrow\": false, \"text\": \"0.8019\", \"x\": 1.55, \"xanchor\": \"left\", \"xref\": \"x\", \"y\": 1, \"yref\": \"y\"}, {\"align\": \"left\", \"font\": {\"color\": \"#000000\"}, \"showarrow\": false, \"text\": \"732153.7309\", \"x\": 2.55, \"xanchor\": \"left\", \"xref\": \"x\", \"y\": 1, \"yref\": \"y\"}, {\"align\": \"left\", \"font\": {\"color\": \"#000000\"}, \"showarrow\": false, \"text\": \"23.3139\", \"x\": 3.55, \"xanchor\": \"left\", \"xref\": \"x\", \"y\": 1, \"yref\": \"y\"}, {\"align\": \"left\", \"font\": {\"color\": \"#000000\"}, \"showarrow\": false, \"text\": \"Random Forest\", \"x\": -0.45, \"xanchor\": \"left\", \"xref\": \"x\", \"y\": 2, \"yref\": \"y\"}, {\"align\": \"left\", \"font\": {\"color\": \"#000000\"}, \"showarrow\": false, \"text\": \"636.1281\", \"x\": 0.55, \"xanchor\": \"left\", \"xref\": \"x\", \"y\": 2, \"yref\": \"y\"}, {\"align\": \"left\", \"font\": {\"color\": \"#000000\"}, \"showarrow\": false, \"text\": \"0.8905\", \"x\": 1.55, \"xanchor\": \"left\", \"xref\": \"x\", \"y\": 2, \"yref\": \"y\"}, {\"align\": \"left\", \"font\": {\"color\": \"#000000\"}, \"showarrow\": false, \"text\": \"404658.9804\", \"x\": 2.55, \"xanchor\": \"left\", \"xref\": \"x\", \"y\": 2, \"yref\": \"y\"}, {\"align\": \"left\", \"font\": {\"color\": \"#000000\"}, \"showarrow\": false, \"text\": \"16.7953\", \"x\": 3.55, \"xanchor\": \"left\", \"xref\": \"x\", \"y\": 2, \"yref\": \"y\"}, {\"align\": \"left\", \"font\": {\"color\": \"#000000\"}, \"showarrow\": false, \"text\": \"Random Forest\", \"x\": -0.45, \"xanchor\": \"left\", \"xref\": \"x\", \"y\": 3, \"yref\": \"y\"}, {\"align\": \"left\", \"font\": {\"color\": \"#000000\"}, \"showarrow\": false, \"text\": \"663.7727\", \"x\": 0.55, \"xanchor\": \"left\", \"xref\": \"x\", \"y\": 3, \"yref\": \"y\"}, {\"align\": \"left\", \"font\": {\"color\": \"#000000\"}, \"showarrow\": false, \"text\": \"0.8808\", \"x\": 1.55, \"xanchor\": \"left\", \"xref\": \"x\", \"y\": 3, \"yref\": \"y\"}, {\"align\": \"left\", \"font\": {\"color\": \"#000000\"}, \"showarrow\": false, \"text\": \"440594.2567\", \"x\": 2.55, \"xanchor\": \"left\", \"xref\": \"x\", \"y\": 3, \"yref\": \"y\"}, {\"align\": \"left\", \"font\": {\"color\": \"#000000\"}, \"showarrow\": false, \"text\": \"16.8065\", \"x\": 3.55, \"xanchor\": \"left\", \"xref\": \"x\", \"y\": 3, \"yref\": \"y\"}, {\"align\": \"left\", \"font\": {\"color\": \"#000000\"}, \"showarrow\": false, \"text\": \"Linear Regression\", \"x\": -0.45, \"xanchor\": \"left\", \"xref\": \"x\", \"y\": 4, \"yref\": \"y\"}, {\"align\": \"left\", \"font\": {\"color\": \"#000000\"}, \"showarrow\": false, \"text\": \"772.882\", \"x\": 0.55, \"xanchor\": \"left\", \"xref\": \"x\", \"y\": 4, \"yref\": \"y\"}, {\"align\": \"left\", \"font\": {\"color\": \"#000000\"}, \"showarrow\": false, \"text\": \"0.8384\", \"x\": 1.55, \"xanchor\": \"left\", \"xref\": \"x\", \"y\": 4, \"yref\": \"y\"}, {\"align\": \"left\", \"font\": {\"color\": \"#000000\"}, \"showarrow\": false, \"text\": \"597346.5169\", \"x\": 2.55, \"xanchor\": \"left\", \"xref\": \"x\", \"y\": 4, \"yref\": \"y\"}, {\"align\": \"left\", \"font\": {\"color\": \"#000000\"}, \"showarrow\": false, \"text\": \"17.2486\", \"x\": 3.55, \"xanchor\": \"left\", \"xref\": \"x\", \"y\": 4, \"yref\": \"y\"}, {\"align\": \"left\", \"font\": {\"color\": \"#000000\"}, \"showarrow\": false, \"text\": \"K Nearest Neighbour Regression\", \"x\": -0.45, \"xanchor\": \"left\", \"xref\": \"x\", \"y\": 5, \"yref\": \"y\"}, {\"align\": \"left\", \"font\": {\"color\": \"#000000\"}, \"showarrow\": false, \"text\": \"1091.2167\", \"x\": 0.55, \"xanchor\": \"left\", \"xref\": \"x\", \"y\": 5, \"yref\": \"y\"}, {\"align\": \"left\", \"font\": {\"color\": \"#000000\"}, \"showarrow\": false, \"text\": \"0.6778\", \"x\": 1.55, \"xanchor\": \"left\", \"xref\": \"x\", \"y\": 5, \"yref\": \"y\"}, {\"align\": \"left\", \"font\": {\"color\": \"#000000\"}, \"showarrow\": false, \"text\": \"1190753.9184\", \"x\": 2.55, \"xanchor\": \"left\", \"xref\": \"x\", \"y\": 5, \"yref\": \"y\"}, {\"align\": \"left\", \"font\": {\"color\": \"#000000\"}, \"showarrow\": false, \"text\": \"24.1196\", \"x\": 3.55, \"xanchor\": \"left\", \"xref\": \"x\", \"y\": 5, \"yref\": \"y\"}, {\"align\": \"left\", \"font\": {\"color\": \"#000000\"}, \"showarrow\": false, \"text\": \"XGBoost\", \"x\": -0.45, \"xanchor\": \"left\", \"xref\": \"x\", \"y\": 6, \"yref\": \"y\"}, {\"align\": \"left\", \"font\": {\"color\": \"#000000\"}, \"showarrow\": false, \"text\": \"619.5446\", \"x\": 0.55, \"xanchor\": \"left\", \"xref\": \"x\", \"y\": 6, \"yref\": \"y\"}, {\"align\": \"left\", \"font\": {\"color\": \"#000000\"}, \"showarrow\": false, \"text\": \"0.8961\", \"x\": 1.55, \"xanchor\": \"left\", \"xref\": \"x\", \"y\": 6, \"yref\": \"y\"}, {\"align\": \"left\", \"font\": {\"color\": \"#000000\"}, \"showarrow\": false, \"text\": \"383835.48\", \"x\": 2.55, \"xanchor\": \"left\", \"xref\": \"x\", \"y\": 6, \"yref\": \"y\"}, {\"align\": \"left\", \"font\": {\"color\": \"#000000\"}, \"showarrow\": false, \"text\": \"14.8043\", \"x\": 3.55, \"xanchor\": \"left\", \"xref\": \"x\", \"y\": 6, \"yref\": \"y\"}, {\"align\": \"left\", \"font\": {\"color\": \"#000000\"}, \"showarrow\": false, \"text\": \"Ridge Regression\", \"x\": -0.45, \"xanchor\": \"left\", \"xref\": \"x\", \"y\": 7, \"yref\": \"y\"}, {\"align\": \"left\", \"font\": {\"color\": \"#000000\"}, \"showarrow\": false, \"text\": \"779.6082\", \"x\": 0.55, \"xanchor\": \"left\", \"xref\": \"x\", \"y\": 7, \"yref\": \"y\"}, {\"align\": \"left\", \"font\": {\"color\": \"#000000\"}, \"showarrow\": false, \"text\": \"0.8355\", \"x\": 1.55, \"xanchor\": \"left\", \"xref\": \"x\", \"y\": 7, \"yref\": \"y\"}, {\"align\": \"left\", \"font\": {\"color\": \"#000000\"}, \"showarrow\": false, \"text\": \"607788.9867\", \"x\": 2.55, \"xanchor\": \"left\", \"xref\": \"x\", \"y\": 7, \"yref\": \"y\"}, {\"align\": \"left\", \"font\": {\"color\": \"#000000\"}, \"showarrow\": false, \"text\": \"17.3351\", \"x\": 3.55, \"xanchor\": \"left\", \"xref\": \"x\", \"y\": 7, \"yref\": \"y\"}, {\"align\": \"left\", \"font\": {\"color\": \"#000000\"}, \"showarrow\": false, \"text\": \"LASSO Regression\", \"x\": -0.45, \"xanchor\": \"left\", \"xref\": \"x\", \"y\": 8, \"yref\": \"y\"}, {\"align\": \"left\", \"font\": {\"color\": \"#000000\"}, \"showarrow\": false, \"text\": \"770.7714\", \"x\": 0.55, \"xanchor\": \"left\", \"xref\": \"x\", \"y\": 8, \"yref\": \"y\"}, {\"align\": \"left\", \"font\": {\"color\": \"#000000\"}, \"showarrow\": false, \"text\": \"0.8392\", \"x\": 1.55, \"xanchor\": \"left\", \"xref\": \"x\", \"y\": 8, \"yref\": \"y\"}, {\"align\": \"left\", \"font\": {\"color\": \"#000000\"}, \"showarrow\": false, \"text\": \"594088.5284\", \"x\": 2.55, \"xanchor\": \"left\", \"xref\": \"x\", \"y\": 8, \"yref\": \"y\"}, {\"align\": \"left\", \"font\": {\"color\": \"#000000\"}, \"showarrow\": false, \"text\": \"16.9345\", \"x\": 3.55, \"xanchor\": \"left\", \"xref\": \"x\", \"y\": 8, \"yref\": \"y\"}], \"height\": 320, \"margin\": {\"b\": 0, \"l\": 0, \"r\": 0, \"t\": 0}, \"xaxis\": {\"dtick\": 1, \"gridwidth\": 2, \"showticklabels\": false, \"tick0\": -0.5, \"ticks\": \"\", \"zeroline\": false}, \"yaxis\": {\"autorange\": \"reversed\", \"dtick\": 1, \"gridwidth\": 2, \"showticklabels\": false, \"tick0\": 0.5, \"ticks\": \"\", \"zeroline\": false}}, {\"showLink\": false, \"linkText\": \"Export to plot.ly\", \"plotlyServerURL\": \"https://plot.ly\"})});</script><script type=\"text/javascript\">window.addEventListener(\"resize\", function(){window._Plotly.Plots.resize(document.getElementById(\"cc1f4276-bfea-4047-b0bc-33e2be6fb488\"));});</script>"
      ],
      "text/vnd.plotly.v1+html": [
       "<div id=\"cc1f4276-bfea-4047-b0bc-33e2be6fb488\" style=\"height: 320px; width: 100%;\" class=\"plotly-graph-div\"></div><script type=\"text/javascript\">require([\"plotly\"], function(Plotly) { window.PLOTLYENV=window.PLOTLYENV || {};window.PLOTLYENV.BASE_URL=\"https://plot.ly\";Plotly.newPlot(\"cc1f4276-bfea-4047-b0bc-33e2be6fb488\", [{\"colorscale\": [[0, \"#00083e\"], [0.5, \"#ededee\"], [1, \"#ffffff\"]], \"hoverinfo\": \"none\", \"opacity\": 0.75, \"showscale\": false, \"z\": [[0, 0, 0, 0, 0], [0.5, 0.5, 0.5, 0.5, 0.5], [1, 1, 1, 1, 1], [0.5, 0.5, 0.5, 0.5, 0.5], [1, 1, 1, 1, 1], [0.5, 0.5, 0.5, 0.5, 0.5], [1, 1, 1, 1, 1], [0.5, 0.5, 0.5, 0.5, 0.5], [1, 1, 1, 1, 1]], \"type\": \"heatmap\", \"uid\": \"1ef7f1e1-dbbc-4540-823e-cde5819519b9\"}], {\"annotations\": [{\"align\": \"left\", \"font\": {\"color\": \"#ffffff\"}, \"showarrow\": false, \"text\": \"<b>Model</b>\", \"x\": -0.45, \"xanchor\": \"left\", \"xref\": \"x\", \"y\": 0, \"yref\": \"y\"}, {\"align\": \"left\", \"font\": {\"color\": \"#ffffff\"}, \"showarrow\": false, \"text\": \"<b>RMSE</b>\", \"x\": 0.55, \"xanchor\": \"left\", \"xref\": \"x\", \"y\": 0, \"yref\": \"y\"}, {\"align\": \"left\", \"font\": {\"color\": \"#ffffff\"}, \"showarrow\": false, \"text\": \"<b>R^2 Score</b>\", \"x\": 1.55, \"xanchor\": \"left\", \"xref\": \"x\", \"y\": 0, \"yref\": \"y\"}, {\"align\": \"left\", \"font\": {\"color\": \"#ffffff\"}, \"showarrow\": false, \"text\": \"<b>MSE</b>\", \"x\": 2.55, \"xanchor\": \"left\", \"xref\": \"x\", \"y\": 0, \"yref\": \"y\"}, {\"align\": \"left\", \"font\": {\"color\": \"#ffffff\"}, \"showarrow\": false, \"text\": \"<b>MAPE</b>\", \"x\": 3.55, \"xanchor\": \"left\", \"xref\": \"x\", \"y\": 0, \"yref\": \"y\"}, {\"align\": \"left\", \"font\": {\"color\": \"#000000\"}, \"showarrow\": false, \"text\": \"Decision Tree\", \"x\": -0.45, \"xanchor\": \"left\", \"xref\": \"x\", \"y\": 1, \"yref\": \"y\"}, {\"align\": \"left\", \"font\": {\"color\": \"#000000\"}, \"showarrow\": false, \"text\": \"855.6598\", \"x\": 0.55, \"xanchor\": \"left\", \"xref\": \"x\", \"y\": 1, \"yref\": \"y\"}, {\"align\": \"left\", \"font\": {\"color\": \"#000000\"}, \"showarrow\": false, \"text\": \"0.8019\", \"x\": 1.55, \"xanchor\": \"left\", \"xref\": \"x\", \"y\": 1, \"yref\": \"y\"}, {\"align\": \"left\", \"font\": {\"color\": \"#000000\"}, \"showarrow\": false, \"text\": \"732153.7309\", \"x\": 2.55, \"xanchor\": \"left\", \"xref\": \"x\", \"y\": 1, \"yref\": \"y\"}, {\"align\": \"left\", \"font\": {\"color\": \"#000000\"}, \"showarrow\": false, \"text\": \"23.3139\", \"x\": 3.55, \"xanchor\": \"left\", \"xref\": \"x\", \"y\": 1, \"yref\": \"y\"}, {\"align\": \"left\", \"font\": {\"color\": \"#000000\"}, \"showarrow\": false, \"text\": \"Random Forest\", \"x\": -0.45, \"xanchor\": \"left\", \"xref\": \"x\", \"y\": 2, \"yref\": \"y\"}, {\"align\": \"left\", \"font\": {\"color\": \"#000000\"}, \"showarrow\": false, \"text\": \"636.1281\", \"x\": 0.55, \"xanchor\": \"left\", \"xref\": \"x\", \"y\": 2, \"yref\": \"y\"}, {\"align\": \"left\", \"font\": {\"color\": \"#000000\"}, \"showarrow\": false, \"text\": \"0.8905\", \"x\": 1.55, \"xanchor\": \"left\", \"xref\": \"x\", \"y\": 2, \"yref\": \"y\"}, {\"align\": \"left\", \"font\": {\"color\": \"#000000\"}, \"showarrow\": false, \"text\": \"404658.9804\", \"x\": 2.55, \"xanchor\": \"left\", \"xref\": \"x\", \"y\": 2, \"yref\": \"y\"}, {\"align\": \"left\", \"font\": {\"color\": \"#000000\"}, \"showarrow\": false, \"text\": \"16.7953\", \"x\": 3.55, \"xanchor\": \"left\", \"xref\": \"x\", \"y\": 2, \"yref\": \"y\"}, {\"align\": \"left\", \"font\": {\"color\": \"#000000\"}, \"showarrow\": false, \"text\": \"Random Forest\", \"x\": -0.45, \"xanchor\": \"left\", \"xref\": \"x\", \"y\": 3, \"yref\": \"y\"}, {\"align\": \"left\", \"font\": {\"color\": \"#000000\"}, \"showarrow\": false, \"text\": \"663.7727\", \"x\": 0.55, \"xanchor\": \"left\", \"xref\": \"x\", \"y\": 3, \"yref\": \"y\"}, {\"align\": \"left\", \"font\": {\"color\": \"#000000\"}, \"showarrow\": false, \"text\": \"0.8808\", \"x\": 1.55, \"xanchor\": \"left\", \"xref\": \"x\", \"y\": 3, \"yref\": \"y\"}, {\"align\": \"left\", \"font\": {\"color\": \"#000000\"}, \"showarrow\": false, \"text\": \"440594.2567\", \"x\": 2.55, \"xanchor\": \"left\", \"xref\": \"x\", \"y\": 3, \"yref\": \"y\"}, {\"align\": \"left\", \"font\": {\"color\": \"#000000\"}, \"showarrow\": false, \"text\": \"16.8065\", \"x\": 3.55, \"xanchor\": \"left\", \"xref\": \"x\", \"y\": 3, \"yref\": \"y\"}, {\"align\": \"left\", \"font\": {\"color\": \"#000000\"}, \"showarrow\": false, \"text\": \"Linear Regression\", \"x\": -0.45, \"xanchor\": \"left\", \"xref\": \"x\", \"y\": 4, \"yref\": \"y\"}, {\"align\": \"left\", \"font\": {\"color\": \"#000000\"}, \"showarrow\": false, \"text\": \"772.882\", \"x\": 0.55, \"xanchor\": \"left\", \"xref\": \"x\", \"y\": 4, \"yref\": \"y\"}, {\"align\": \"left\", \"font\": {\"color\": \"#000000\"}, \"showarrow\": false, \"text\": \"0.8384\", \"x\": 1.55, \"xanchor\": \"left\", \"xref\": \"x\", \"y\": 4, \"yref\": \"y\"}, {\"align\": \"left\", \"font\": {\"color\": \"#000000\"}, \"showarrow\": false, \"text\": \"597346.5169\", \"x\": 2.55, \"xanchor\": \"left\", \"xref\": \"x\", \"y\": 4, \"yref\": \"y\"}, {\"align\": \"left\", \"font\": {\"color\": \"#000000\"}, \"showarrow\": false, \"text\": \"17.2486\", \"x\": 3.55, \"xanchor\": \"left\", \"xref\": \"x\", \"y\": 4, \"yref\": \"y\"}, {\"align\": \"left\", \"font\": {\"color\": \"#000000\"}, \"showarrow\": false, \"text\": \"K Nearest Neighbour Regression\", \"x\": -0.45, \"xanchor\": \"left\", \"xref\": \"x\", \"y\": 5, \"yref\": \"y\"}, {\"align\": \"left\", \"font\": {\"color\": \"#000000\"}, \"showarrow\": false, \"text\": \"1091.2167\", \"x\": 0.55, \"xanchor\": \"left\", \"xref\": \"x\", \"y\": 5, \"yref\": \"y\"}, {\"align\": \"left\", \"font\": {\"color\": \"#000000\"}, \"showarrow\": false, \"text\": \"0.6778\", \"x\": 1.55, \"xanchor\": \"left\", \"xref\": \"x\", \"y\": 5, \"yref\": \"y\"}, {\"align\": \"left\", \"font\": {\"color\": \"#000000\"}, \"showarrow\": false, \"text\": \"1190753.9184\", \"x\": 2.55, \"xanchor\": \"left\", \"xref\": \"x\", \"y\": 5, \"yref\": \"y\"}, {\"align\": \"left\", \"font\": {\"color\": \"#000000\"}, \"showarrow\": false, \"text\": \"24.1196\", \"x\": 3.55, \"xanchor\": \"left\", \"xref\": \"x\", \"y\": 5, \"yref\": \"y\"}, {\"align\": \"left\", \"font\": {\"color\": \"#000000\"}, \"showarrow\": false, \"text\": \"XGBoost\", \"x\": -0.45, \"xanchor\": \"left\", \"xref\": \"x\", \"y\": 6, \"yref\": \"y\"}, {\"align\": \"left\", \"font\": {\"color\": \"#000000\"}, \"showarrow\": false, \"text\": \"619.5446\", \"x\": 0.55, \"xanchor\": \"left\", \"xref\": \"x\", \"y\": 6, \"yref\": \"y\"}, {\"align\": \"left\", \"font\": {\"color\": \"#000000\"}, \"showarrow\": false, \"text\": \"0.8961\", \"x\": 1.55, \"xanchor\": \"left\", \"xref\": \"x\", \"y\": 6, \"yref\": \"y\"}, {\"align\": \"left\", \"font\": {\"color\": \"#000000\"}, \"showarrow\": false, \"text\": \"383835.48\", \"x\": 2.55, \"xanchor\": \"left\", \"xref\": \"x\", \"y\": 6, \"yref\": \"y\"}, {\"align\": \"left\", \"font\": {\"color\": \"#000000\"}, \"showarrow\": false, \"text\": \"14.8043\", \"x\": 3.55, \"xanchor\": \"left\", \"xref\": \"x\", \"y\": 6, \"yref\": \"y\"}, {\"align\": \"left\", \"font\": {\"color\": \"#000000\"}, \"showarrow\": false, \"text\": \"Ridge Regression\", \"x\": -0.45, \"xanchor\": \"left\", \"xref\": \"x\", \"y\": 7, \"yref\": \"y\"}, {\"align\": \"left\", \"font\": {\"color\": \"#000000\"}, \"showarrow\": false, \"text\": \"779.6082\", \"x\": 0.55, \"xanchor\": \"left\", \"xref\": \"x\", \"y\": 7, \"yref\": \"y\"}, {\"align\": \"left\", \"font\": {\"color\": \"#000000\"}, \"showarrow\": false, \"text\": \"0.8355\", \"x\": 1.55, \"xanchor\": \"left\", \"xref\": \"x\", \"y\": 7, \"yref\": \"y\"}, {\"align\": \"left\", \"font\": {\"color\": \"#000000\"}, \"showarrow\": false, \"text\": \"607788.9867\", \"x\": 2.55, \"xanchor\": \"left\", \"xref\": \"x\", \"y\": 7, \"yref\": \"y\"}, {\"align\": \"left\", \"font\": {\"color\": \"#000000\"}, \"showarrow\": false, \"text\": \"17.3351\", \"x\": 3.55, \"xanchor\": \"left\", \"xref\": \"x\", \"y\": 7, \"yref\": \"y\"}, {\"align\": \"left\", \"font\": {\"color\": \"#000000\"}, \"showarrow\": false, \"text\": \"LASSO Regression\", \"x\": -0.45, \"xanchor\": \"left\", \"xref\": \"x\", \"y\": 8, \"yref\": \"y\"}, {\"align\": \"left\", \"font\": {\"color\": \"#000000\"}, \"showarrow\": false, \"text\": \"770.7714\", \"x\": 0.55, \"xanchor\": \"left\", \"xref\": \"x\", \"y\": 8, \"yref\": \"y\"}, {\"align\": \"left\", \"font\": {\"color\": \"#000000\"}, \"showarrow\": false, \"text\": \"0.8392\", \"x\": 1.55, \"xanchor\": \"left\", \"xref\": \"x\", \"y\": 8, \"yref\": \"y\"}, {\"align\": \"left\", \"font\": {\"color\": \"#000000\"}, \"showarrow\": false, \"text\": \"594088.5284\", \"x\": 2.55, \"xanchor\": \"left\", \"xref\": \"x\", \"y\": 8, \"yref\": \"y\"}, {\"align\": \"left\", \"font\": {\"color\": \"#000000\"}, \"showarrow\": false, \"text\": \"16.9345\", \"x\": 3.55, \"xanchor\": \"left\", \"xref\": \"x\", \"y\": 8, \"yref\": \"y\"}], \"height\": 320, \"margin\": {\"b\": 0, \"l\": 0, \"r\": 0, \"t\": 0}, \"xaxis\": {\"dtick\": 1, \"gridwidth\": 2, \"showticklabels\": false, \"tick0\": -0.5, \"ticks\": \"\", \"zeroline\": false}, \"yaxis\": {\"autorange\": \"reversed\", \"dtick\": 1, \"gridwidth\": 2, \"showticklabels\": false, \"tick0\": 0.5, \"ticks\": \"\", \"zeroline\": false}}, {\"showLink\": false, \"linkText\": \"Export to plot.ly\", \"plotlyServerURL\": \"https://plot.ly\"})});</script><script type=\"text/javascript\">window.addEventListener(\"resize\", function(){window._Plotly.Plots.resize(document.getElementById(\"cc1f4276-bfea-4047-b0bc-33e2be6fb488\"));});</script>"
      ]
     },
     "metadata": {},
     "output_type": "display_data"
    }
   ],
   "source": [
    "try:\n",
    "    #gives model report in dataframe\n",
    "    def model_report(model,X_train,X_test,y_train,y_test,name) :\n",
    "        model.fit(X_train,y_train)\n",
    "        predictions=model.predict(X_test)\n",
    "        RMSE_Score=RMSE(y_test,predictions)\n",
    "        R_Squared_Score = r2_score(y_test,predictions)\n",
    "        MSE_score       = mean_squared_error(y_test,predictions)\n",
    "        MAPE_score      = MAPE(y_test,predictions)\n",
    "        df = pd.DataFrame({\"Model\"           : [name],\n",
    "                           \"RMSE\"            : [RMSE_Score],\n",
    "                           \"R^2 Score\"       : [R_Squared_Score],\n",
    "                           \"MSE\"             : [MSE_score],\n",
    "                           \"MAPE\"            : [MAPE_score],\n",
    "                           })\n",
    "        return df\n",
    "    #outputs for every model\n",
    "    model1 = model_report(DecisionTreeRegressor(random_state = 1,min_samples_split=0.1,max_depth=5),X_train,X_test,y_train,y_test,\"Decision Tree\")\n",
    "    model2 = model_report(RandomForestRegressor(n_estimators = 500, random_state = 1),X_train,X_test,y_train,y_test,\"Random Forest\")\n",
    "    model3 = model_report(best_random,X_train,X_test,y_train,y_test,\"Random Forest Best Parameter\")\n",
    "    model4 = model_report(LinearRegression(),X_train,X_test,y_train,y_test,\"Linear Regression\")\n",
    "    model5 = model_report(KNeighborsRegressor(n_neighbors=1),X_train,X_test,y_train,y_test,\"K Nearest Neighbour Regression\")\n",
    "    model6 = model_report(xclas,X_train,X_test,y_train,y_test,\"XGBoost\")\n",
    "    model7 = model_report(linear_model.Ridge(),X_train,X_test,y_train,y_test,\"Ridge Regression\")\n",
    "    model8 = model_report(reg_lasso,X_train,X_test,y_train,y_test,\"LASSO Regression\")\n",
    "\n",
    "    #concat all models\n",
    "    model_performances = pd.concat([model1,model2,model3,model4,model5,model6,model7,model8],axis = 0).reset_index()\n",
    "    model_performances = model_performances.drop(columns = \"index\",axis =1)\n",
    "    table  = ff.create_table(np.round(model_performances,4))\n",
    "    py.iplot(table)\n",
    "\n",
    "except Exception as e:\n",
    "    print(e)"
   ]
  },
  {
   "cell_type": "code",
   "execution_count": null,
   "metadata": {},
   "outputs": [],
   "source": []
  }
 ],
 "metadata": {
  "kernelspec": {
   "display_name": "Python 3",
   "language": "python",
   "name": "python3"
  },
  "language_info": {
   "codemirror_mode": {
    "name": "ipython",
    "version": 3
   },
   "file_extension": ".py",
   "mimetype": "text/x-python",
   "name": "python",
   "nbconvert_exporter": "python",
   "pygments_lexer": "ipython3",
   "version": "3.6.5"
  }
 },
 "nbformat": 4,
 "nbformat_minor": 2
}
